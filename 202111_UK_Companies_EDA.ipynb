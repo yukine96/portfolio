{
 "cells": [
  {
   "cell_type": "markdown",
   "id": "57cc3a7c",
   "metadata": {},
   "source": [
    "# API we will use: Companies House\n",
    "\n",
    "Companies house is the official public  register of all companies in the UK. You can search for companiers, peope etc. You can also get basic information about many companies, or request detailed information about one company. You will need to create an account - probably best if you use your university email address. You can find more information on companies house website and https://developer.company-information.service.gov.uk/get-started. "
   ]
  },
  {
   "cell_type": "markdown",
   "id": "a257e29e",
   "metadata": {},
   "source": [
    "# How to create a company house developer account:\n",
    "\n",
    "note: depending on your setup, links might not work when you click them. You can try right-click and 'copy link address', or just copy-pasting these links."
   ]
  },
  {
   "cell_type": "markdown",
   "id": "4111af6e",
   "metadata": {},
   "source": [
    "- Go to 'register a user account' link https://identity.company-information.service.gov.uk/oauth2/user/signin, enter your **school email** and then click the link you received by email\n",
    "- setup a password\n",
    "- login to https://identity.company-information.service.gov.uk/oauth2/user/signin\n",
    "- go to New Application on top (https://developer.company-information.service.gov.uk/manage-applications/add)\n",
    "- ented a name and short description for your API project (just say it's a univeristy project) and choose **Live in 'environment for your application'**. Leave other options blank.\n",
    "- go to 'View all applications' (https://developer.company-information.service.gov.uk/manage-applications)\n",
    "- click on the name of your application, and then 'Create new key'\n",
    "- Select these options:\n",
    "-    Key name and description: here write anything, like 'python project'\n",
    "-    Select the type of API client key you want to create: REST\n",
    "- leave other options empty, and click 'Create Key'\n",
    "- When done, scroll down and copy-paste yoru key to this notebook. key will look a bit like this: \te3aaad12-fd44-4aad-9389-f7dccccc67f9\n",
    "\n",
    "Once you are set up:\n",
    "\n",
    "- all the possible requests can be found here: https://developer-specs.company-information.service.gov.uk/companies-house-public-data-api/reference\n",
    "- by the way: you are allowed to ask 600 requests within each five-minute period, after that persiod, you get another 600. If you use up all the 600 questions, API will make you wait for a few seconds/minutes."
   ]
  },
  {
   "cell_type": "markdown",
   "id": "proved-modem",
   "metadata": {},
   "source": [
    "# Business Question"
   ]
  },
  {
   "cell_type": "markdown",
   "id": "hollywood-easter",
   "metadata": {},
   "source": [
    "1. How many **kebab** and **sushi** restaurants are operating in the UK? Which one grows faster in the last few years?\n",
    "2. Do **kebab** and **sushi** restaurants only operate in major cities? Is there any differences between their popularity in 2015 and 2021?"
   ]
  },
  {
   "cell_type": "code",
   "execution_count": 1,
   "id": "b0617ce9",
   "metadata": {},
   "outputs": [
    {
     "name": "stdout",
     "output_type": "stream",
     "text": [
      "Requirement already satisfied: pgeocode in ./Documents/anaconda3/lib/python3.8/site-packages (0.3.0)\n",
      "Requirement already satisfied: pandas in ./Documents/anaconda3/lib/python3.8/site-packages (from pgeocode) (1.2.4)\n",
      "Requirement already satisfied: requests in ./Documents/anaconda3/lib/python3.8/site-packages (from pgeocode) (2.25.1)\n",
      "Requirement already satisfied: numpy in ./Documents/anaconda3/lib/python3.8/site-packages (from pgeocode) (1.20.1)\n",
      "Requirement already satisfied: python-dateutil>=2.7.3 in ./Documents/anaconda3/lib/python3.8/site-packages (from pandas->pgeocode) (2.8.1)\n",
      "Requirement already satisfied: pytz>=2017.3 in ./Documents/anaconda3/lib/python3.8/site-packages (from pandas->pgeocode) (2021.1)\n",
      "Requirement already satisfied: six>=1.5 in ./Documents/anaconda3/lib/python3.8/site-packages (from python-dateutil>=2.7.3->pandas->pgeocode) (1.15.0)\n",
      "Requirement already satisfied: urllib3<1.27,>=1.21.1 in ./Documents/anaconda3/lib/python3.8/site-packages (from requests->pgeocode) (1.26.4)\n",
      "Requirement already satisfied: chardet<5,>=3.0.2 in ./Documents/anaconda3/lib/python3.8/site-packages (from requests->pgeocode) (4.0.0)\n",
      "Requirement already satisfied: idna<3,>=2.5 in ./Documents/anaconda3/lib/python3.8/site-packages (from requests->pgeocode) (2.10)\n",
      "Requirement already satisfied: certifi>=2017.4.17 in ./Documents/anaconda3/lib/python3.8/site-packages (from requests->pgeocode) (2020.12.5)\n",
      "Requirement already satisfied: plotly==5.3.1 in ./Documents/anaconda3/lib/python3.8/site-packages (5.3.1)\n",
      "Requirement already satisfied: tenacity>=6.2.0 in ./Documents/anaconda3/lib/python3.8/site-packages (from plotly==5.3.1) (8.0.1)\n",
      "Requirement already satisfied: six in ./Documents/anaconda3/lib/python3.8/site-packages (from plotly==5.3.1) (1.15.0)\n",
      "Requirement already satisfied: kaleido in ./Documents/anaconda3/lib/python3.8/site-packages (0.2.1)\n"
     ]
    }
   ],
   "source": [
    "# Import necessary libraries\n",
    "import requests\n",
    "import json\n",
    "import math\n",
    "import pprint as pp\n",
    "import datetime\n",
    "from datetime import date \n",
    "from datetime import datetime\n",
    "import pandas as pd\n",
    "from pandas import json_normalize\n",
    "import numpy as np\n",
    "!pip install pgeocode\n",
    "import pgeocode\n",
    "import plotly.express as px\n",
    "import time\n",
    "import plotly.io as pio\n",
    "from IPython.display import Image\n",
    "import plotly.graph_objects as go\n",
    "!pip install plotly==5.3.1\n",
    "!pip install kaleido"
   ]
  },
  {
   "cell_type": "code",
   "execution_count": 2,
   "id": "satisfactory-queensland",
   "metadata": {},
   "outputs": [],
   "source": [
    "# Calling the API to retrieve JSON\n",
    "def call_api_with(url_extension):\n",
    "    your_company_house_api_key =\"df0293b7-12e1-4ea9-9b20-064a19c8e071\"\n",
    "    login_headers = {\"Authorization\":your_company_house_api_key}\n",
    "    url = f\"https://api.companieshouse.gov.uk/{url_extension}\"\n",
    "    print(f'Requesting: {url}')\n",
    "    result = requests.get(url, headers=login_headers)\n",
    "    return result.json()"
   ]
  },
  {
   "cell_type": "code",
   "execution_count": 3,
   "id": "noticed-maldives",
   "metadata": {},
   "outputs": [],
   "source": [
    "# Get company info via API\n",
    "def search_for_companies_with_query(company_name_keyword, total_iteration = 5, company_count = 100):\n",
    "    current_iteration = 1 # Each iteration will retrieve 100 records\n",
    "    index = 1\n",
    "    print(f'Initiating API request for {company_name_keyword} companies...')\n",
    "    url = f\"search/companies?q={company_name_keyword}&items_per_page={company_count}&start_index={index}\"\n",
    "    result = call_api_with(url).get('items', [])\n",
    "    index += len(result)-1 # To avoid repetition, each iteration must start at the last index of the previous iteration\n",
    "    print(f'Iteration number {current_iteration} is finished')\n",
    "    current_iteration +=1\n",
    "    while current_iteration <= total_iteration:\n",
    "        url = f\"search/companies?q={company_name_keyword}&items_per_page={company_count}&start_index={index}\"\n",
    "        new_result = call_api_with(url).get('items', [])\n",
    "        result += new_result\n",
    "        index += len(new_result) # To avoid repetition, each iteration must start at the last index of the previous iteration\n",
    "        print(f'Iteration number {current_iteration} is finished')\n",
    "        current_iteration +=1\n",
    "    print(f'API request for {company_name_keyword} companies is finished. Successfully obtained {len(result)} records from {current_iteration-1} iterations. \\n')\n",
    "    return result"
   ]
  },
  {
   "cell_type": "code",
   "execution_count": 4,
   "id": "conceptual-visitor",
   "metadata": {},
   "outputs": [],
   "source": [
    "# Create company dataframe\n",
    "def company_raw_df(company_name_keyword, company_count, total_iteration):\n",
    "    get_company = search_for_companies_with_query(company_name_keyword, total_iteration = total_iteration, company_count = company_count) # Get company list\n",
    "    company_json_to_df = pd.DataFrame.from_records(get_company) # Convert the json data into dataframe\n",
    "    company_df = pd.DataFrame().append(company_json_to_df, ignore_index=True) # Convert the json data into dataframe\n",
    "    company_df = company_df.drop(['kind'], axis = 1) # Drop unneccessary columns\n",
    "    company_df = company_df[['company_number','title','snippet','description','description_identifier','company_type','company_status','date_of_creation','date_of_cessation','links','matches','address','address_snippet']] # Rearrange column name to make it easier to read\n",
    "    return company_df"
   ]
  },
  {
   "cell_type": "code",
   "execution_count": 5,
   "id": "geographic-contamination",
   "metadata": {},
   "outputs": [
    {
     "name": "stdout",
     "output_type": "stream",
     "text": [
      "Initiating API request for kebab companies...\n",
      "Requesting: https://api.companieshouse.gov.uk/search/companies?q=kebab&items_per_page=100&start_index=1\n",
      "Iteration number 1 is finished\n",
      "Requesting: https://api.companieshouse.gov.uk/search/companies?q=kebab&items_per_page=100&start_index=100\n",
      "Iteration number 2 is finished\n",
      "Requesting: https://api.companieshouse.gov.uk/search/companies?q=kebab&items_per_page=100&start_index=200\n",
      "Iteration number 3 is finished\n",
      "Requesting: https://api.companieshouse.gov.uk/search/companies?q=kebab&items_per_page=100&start_index=300\n",
      "Iteration number 4 is finished\n",
      "Requesting: https://api.companieshouse.gov.uk/search/companies?q=kebab&items_per_page=100&start_index=400\n",
      "Iteration number 5 is finished\n",
      "Requesting: https://api.companieshouse.gov.uk/search/companies?q=kebab&items_per_page=100&start_index=500\n",
      "Iteration number 6 is finished\n",
      "Requesting: https://api.companieshouse.gov.uk/search/companies?q=kebab&items_per_page=100&start_index=600\n",
      "Iteration number 7 is finished\n",
      "Requesting: https://api.companieshouse.gov.uk/search/companies?q=kebab&items_per_page=100&start_index=700\n",
      "Iteration number 8 is finished\n",
      "Requesting: https://api.companieshouse.gov.uk/search/companies?q=kebab&items_per_page=100&start_index=800\n",
      "Iteration number 9 is finished\n",
      "Requesting: https://api.companieshouse.gov.uk/search/companies?q=kebab&items_per_page=100&start_index=900\n",
      "Iteration number 10 is finished\n",
      "API request for kebab companies is finished. Successfully obtained 1000 records from 10 iterations. \n",
      "\n",
      "Initiating API request for sushi companies...\n",
      "Requesting: https://api.companieshouse.gov.uk/search/companies?q=sushi&items_per_page=100&start_index=1\n",
      "Iteration number 1 is finished\n",
      "Requesting: https://api.companieshouse.gov.uk/search/companies?q=sushi&items_per_page=100&start_index=100\n",
      "Iteration number 2 is finished\n",
      "Requesting: https://api.companieshouse.gov.uk/search/companies?q=sushi&items_per_page=100&start_index=200\n",
      "Iteration number 3 is finished\n",
      "Requesting: https://api.companieshouse.gov.uk/search/companies?q=sushi&items_per_page=100&start_index=300\n",
      "Iteration number 4 is finished\n",
      "Requesting: https://api.companieshouse.gov.uk/search/companies?q=sushi&items_per_page=100&start_index=400\n",
      "Iteration number 5 is finished\n",
      "Requesting: https://api.companieshouse.gov.uk/search/companies?q=sushi&items_per_page=100&start_index=500\n",
      "Iteration number 6 is finished\n",
      "Requesting: https://api.companieshouse.gov.uk/search/companies?q=sushi&items_per_page=100&start_index=600\n",
      "Iteration number 7 is finished\n",
      "Requesting: https://api.companieshouse.gov.uk/search/companies?q=sushi&items_per_page=100&start_index=700\n",
      "Iteration number 8 is finished\n",
      "Requesting: https://api.companieshouse.gov.uk/search/companies?q=sushi&items_per_page=100&start_index=800\n",
      "Iteration number 9 is finished\n",
      "Requesting: https://api.companieshouse.gov.uk/search/companies?q=sushi&items_per_page=100&start_index=900\n",
      "Iteration number 10 is finished\n",
      "API request for sushi companies is finished. Successfully obtained 1000 records from 10 iterations. \n",
      "\n"
     ]
    }
   ],
   "source": [
    "# Get kebab companies\n",
    "kebab_df = company_raw_df(\"kebab\", company_count = 100, total_iteration = 10)\n",
    "\n",
    "# Get sushi companies\n",
    "sushi_df = company_raw_df(\"sushi\", company_count = 100, total_iteration = 10)"
   ]
  },
  {
   "cell_type": "code",
   "execution_count": 6,
   "id": "institutional-desktop",
   "metadata": {},
   "outputs": [
    {
     "name": "stdout",
     "output_type": "stream",
     "text": [
      "There are 1000 unique companies in Kebab dataframe\n",
      "There are 1000 unique companies in Sushi dataframe\n"
     ]
    }
   ],
   "source": [
    "# Check unique company number for each dataset\n",
    "unique_kebab_companies = kebab_df.agg({'company_number':pd.Series.nunique})[0]\n",
    "unique_sushi_companies = sushi_df.agg({'company_number':pd.Series.nunique})[0]\n",
    "\n",
    "print(f'There are {unique_kebab_companies} unique companies in Kebab dataframe')\n",
    "print(f'There are {unique_sushi_companies} unique companies in Sushi dataframe')"
   ]
  },
  {
   "cell_type": "markdown",
   "id": "turned-procedure",
   "metadata": {},
   "source": [
    "### 1B. Get company details via API"
   ]
  },
  {
   "cell_type": "code",
   "execution_count": 7,
   "id": "766bad64",
   "metadata": {},
   "outputs": [],
   "source": [
    "# Get company detailed info via API\n",
    "def get_company_details(df):\n",
    "    company_detail_df = pd.DataFrame()\n",
    "    index = 0\n",
    "    current_iteration = 1 # Each iteration will only call 500 records, so we don't exceed the API call limit.\n",
    "    waiting_time = 300 # Presented in seconds. We need this because we can only request 600 API calls within 5 minutes, when we have 1000 company records in our dataset\n",
    "    while index < len(df):\n",
    "        if current_iteration == 1:\n",
    "            print(f'Initiating iteration number {current_iteration}...')\n",
    "            for i,col in df['company_number'][index:(index+500)].items():\n",
    "                company_detail_url = f\"company/{col}\"\n",
    "                get_company_detail = call_api_with(company_detail_url)\n",
    "                company_detail_json_to_df = json_normalize(get_company_detail)\n",
    "                company_detail_df = company_detail_df.append(company_detail_json_to_df, ignore_index=True)\n",
    "            index += len(company_detail_df)\n",
    "            current_iteration += 1\n",
    "            print(f'Successfully obtained {len(company_detail_df)} records of company details')\n",
    "        else:\n",
    "            print(f'Waiting for {waiting_time} seconds before starting another iteration...')\n",
    "            time.sleep(waiting_time)\n",
    "            print(f'Initiating iteration number {current_iteration}...')\n",
    "            for i,col in df['company_number'][index:(index+500)].items():\n",
    "                company_detail_url = f\"company/{col}\"\n",
    "                get_company_detail = call_api_with(company_detail_url)\n",
    "                company_detail_json_to_df = json_normalize(get_company_detail)\n",
    "                company_detail_df = company_detail_df.append(company_detail_json_to_df, ignore_index=True)\n",
    "            index += len(company_detail_df)\n",
    "            current_iteration += 1\n",
    "            print(f'Successfully obtained {len(company_detail_df)} records of company details')          \n",
    "    \n",
    "    print(f'API request is finished')\n",
    "    return company_detail_df"
   ]
  },
  {
   "cell_type": "code",
   "execution_count": 8,
   "id": "decreased-plenty",
   "metadata": {},
   "outputs": [
    {
     "name": "stdout",
     "output_type": "stream",
     "text": [
      "Initiating iteration number 1...\n",
      "Requesting: https://api.companieshouse.gov.uk/company/10822014\n",
      "Requesting: https://api.companieshouse.gov.uk/company/11466992\n",
      "Requesting: https://api.companieshouse.gov.uk/company/13094936\n",
      "Requesting: https://api.companieshouse.gov.uk/company/10834872\n",
      "Requesting: https://api.companieshouse.gov.uk/company/12258525\n",
      "Requesting: https://api.companieshouse.gov.uk/company/09244846\n",
      "Requesting: https://api.companieshouse.gov.uk/company/10861461\n",
      "Requesting: https://api.companieshouse.gov.uk/company/10361906\n",
      "Requesting: https://api.companieshouse.gov.uk/company/09706421\n",
      "Requesting: https://api.companieshouse.gov.uk/company/12323960\n",
      "Requesting: https://api.companieshouse.gov.uk/company/13486047\n",
      "Requesting: https://api.companieshouse.gov.uk/company/11133067\n",
      "Requesting: https://api.companieshouse.gov.uk/company/11664937\n",
      "Requesting: https://api.companieshouse.gov.uk/company/11169261\n",
      "Requesting: https://api.companieshouse.gov.uk/company/08588450\n",
      "Requesting: https://api.companieshouse.gov.uk/company/SC665238\n",
      "Requesting: https://api.companieshouse.gov.uk/company/10877641\n",
      "Requesting: https://api.companieshouse.gov.uk/company/12111271\n",
      "Requesting: https://api.companieshouse.gov.uk/company/13492095\n",
      "Requesting: https://api.companieshouse.gov.uk/company/13164989\n",
      "Requesting: https://api.companieshouse.gov.uk/company/09990333\n",
      "Requesting: https://api.companieshouse.gov.uk/company/12933153\n",
      "Requesting: https://api.companieshouse.gov.uk/company/12445922\n",
      "Requesting: https://api.companieshouse.gov.uk/company/SC711722\n",
      "Requesting: https://api.companieshouse.gov.uk/company/13002523\n",
      "Requesting: https://api.companieshouse.gov.uk/company/12490984\n",
      "Requesting: https://api.companieshouse.gov.uk/company/10997854\n",
      "Requesting: https://api.companieshouse.gov.uk/company/13285115\n",
      "Requesting: https://api.companieshouse.gov.uk/company/11810543\n",
      "Requesting: https://api.companieshouse.gov.uk/company/12714085\n",
      "Requesting: https://api.companieshouse.gov.uk/company/10845564\n",
      "Requesting: https://api.companieshouse.gov.uk/company/12807879\n",
      "Requesting: https://api.companieshouse.gov.uk/company/13028741\n",
      "Requesting: https://api.companieshouse.gov.uk/company/11101106\n",
      "Requesting: https://api.companieshouse.gov.uk/company/12834580\n",
      "Requesting: https://api.companieshouse.gov.uk/company/12761439\n",
      "Requesting: https://api.companieshouse.gov.uk/company/11843537\n",
      "Requesting: https://api.companieshouse.gov.uk/company/12047439\n",
      "Requesting: https://api.companieshouse.gov.uk/company/12405691\n",
      "Requesting: https://api.companieshouse.gov.uk/company/13610195\n",
      "Requesting: https://api.companieshouse.gov.uk/company/12311511\n",
      "Requesting: https://api.companieshouse.gov.uk/company/08817520\n",
      "Requesting: https://api.companieshouse.gov.uk/company/NI680829\n",
      "Requesting: https://api.companieshouse.gov.uk/company/NI680828\n",
      "Requesting: https://api.companieshouse.gov.uk/company/11093633\n",
      "Requesting: https://api.companieshouse.gov.uk/company/12235987\n",
      "Requesting: https://api.companieshouse.gov.uk/company/12468006\n",
      "Requesting: https://api.companieshouse.gov.uk/company/12359496\n",
      "Requesting: https://api.companieshouse.gov.uk/company/11382278\n",
      "Requesting: https://api.companieshouse.gov.uk/company/09592221\n",
      "Requesting: https://api.companieshouse.gov.uk/company/09726345\n",
      "Requesting: https://api.companieshouse.gov.uk/company/12293423\n",
      "Requesting: https://api.companieshouse.gov.uk/company/12792906\n",
      "Requesting: https://api.companieshouse.gov.uk/company/11248970\n",
      "Requesting: https://api.companieshouse.gov.uk/company/13053109\n",
      "Requesting: https://api.companieshouse.gov.uk/company/12731134\n",
      "Requesting: https://api.companieshouse.gov.uk/company/13067333\n",
      "Requesting: https://api.companieshouse.gov.uk/company/11050575\n",
      "Requesting: https://api.companieshouse.gov.uk/company/SC667979\n",
      "Requesting: https://api.companieshouse.gov.uk/company/NI669027\n",
      "Requesting: https://api.companieshouse.gov.uk/company/13535172\n",
      "Requesting: https://api.companieshouse.gov.uk/company/13409524\n",
      "Requesting: https://api.companieshouse.gov.uk/company/11990885\n",
      "Requesting: https://api.companieshouse.gov.uk/company/11519146\n",
      "Requesting: https://api.companieshouse.gov.uk/company/12528973\n",
      "Requesting: https://api.companieshouse.gov.uk/company/SC597517\n",
      "Requesting: https://api.companieshouse.gov.uk/company/12298584\n",
      "Requesting: https://api.companieshouse.gov.uk/company/13444792\n",
      "Requesting: https://api.companieshouse.gov.uk/company/11177839\n",
      "Requesting: https://api.companieshouse.gov.uk/company/SC705835\n",
      "Requesting: https://api.companieshouse.gov.uk/company/07386049\n",
      "Requesting: https://api.companieshouse.gov.uk/company/12457141\n",
      "Requesting: https://api.companieshouse.gov.uk/company/11761051\n",
      "Requesting: https://api.companieshouse.gov.uk/company/12063534\n",
      "Requesting: https://api.companieshouse.gov.uk/company/13429723\n",
      "Requesting: https://api.companieshouse.gov.uk/company/11992738\n",
      "Requesting: https://api.companieshouse.gov.uk/company/SC697704\n",
      "Requesting: https://api.companieshouse.gov.uk/company/13514084\n",
      "Requesting: https://api.companieshouse.gov.uk/company/12694568\n",
      "Requesting: https://api.companieshouse.gov.uk/company/12331802\n",
      "Requesting: https://api.companieshouse.gov.uk/company/12868988\n",
      "Requesting: https://api.companieshouse.gov.uk/company/03216677\n",
      "Requesting: https://api.companieshouse.gov.uk/company/11967434\n",
      "Requesting: https://api.companieshouse.gov.uk/company/09741030\n",
      "Requesting: https://api.companieshouse.gov.uk/company/08603675\n",
      "Requesting: https://api.companieshouse.gov.uk/company/11538835\n",
      "Requesting: https://api.companieshouse.gov.uk/company/11143051\n",
      "Requesting: https://api.companieshouse.gov.uk/company/09085531\n",
      "Requesting: https://api.companieshouse.gov.uk/company/05974646\n",
      "Requesting: https://api.companieshouse.gov.uk/company/13232357\n",
      "Requesting: https://api.companieshouse.gov.uk/company/12356139\n",
      "Requesting: https://api.companieshouse.gov.uk/company/13172810\n",
      "Requesting: https://api.companieshouse.gov.uk/company/10722582\n",
      "Requesting: https://api.companieshouse.gov.uk/company/SC612658\n",
      "Requesting: https://api.companieshouse.gov.uk/company/SC615097\n",
      "Requesting: https://api.companieshouse.gov.uk/company/13655006\n",
      "Requesting: https://api.companieshouse.gov.uk/company/13521763\n",
      "Requesting: https://api.companieshouse.gov.uk/company/12281412\n",
      "Requesting: https://api.companieshouse.gov.uk/company/13598960\n",
      "Requesting: https://api.companieshouse.gov.uk/company/13222916\n",
      "Requesting: https://api.companieshouse.gov.uk/company/13473183\n",
      "Requesting: https://api.companieshouse.gov.uk/company/13484632\n",
      "Requesting: https://api.companieshouse.gov.uk/company/11429044\n",
      "Requesting: https://api.companieshouse.gov.uk/company/11429330\n",
      "Requesting: https://api.companieshouse.gov.uk/company/12820133\n",
      "Requesting: https://api.companieshouse.gov.uk/company/13624702\n",
      "Requesting: https://api.companieshouse.gov.uk/company/13369797\n",
      "Requesting: https://api.companieshouse.gov.uk/company/NI662434\n",
      "Requesting: https://api.companieshouse.gov.uk/company/13699046\n",
      "Requesting: https://api.companieshouse.gov.uk/company/SC670736\n",
      "Requesting: https://api.companieshouse.gov.uk/company/06368228\n",
      "Requesting: https://api.companieshouse.gov.uk/company/03503613\n",
      "Requesting: https://api.companieshouse.gov.uk/company/11107283\n",
      "Requesting: https://api.companieshouse.gov.uk/company/09785906\n",
      "Requesting: https://api.companieshouse.gov.uk/company/11595905\n",
      "Requesting: https://api.companieshouse.gov.uk/company/09152961\n",
      "Requesting: https://api.companieshouse.gov.uk/company/13124096\n",
      "Requesting: https://api.companieshouse.gov.uk/company/09343165\n",
      "Requesting: https://api.companieshouse.gov.uk/company/12823705\n",
      "Requesting: https://api.companieshouse.gov.uk/company/11168629\n",
      "Requesting: https://api.companieshouse.gov.uk/company/11804410\n",
      "Requesting: https://api.companieshouse.gov.uk/company/13109579\n",
      "Requesting: https://api.companieshouse.gov.uk/company/08182519\n",
      "Requesting: https://api.companieshouse.gov.uk/company/12968617\n",
      "Requesting: https://api.companieshouse.gov.uk/company/03346943\n",
      "Requesting: https://api.companieshouse.gov.uk/company/06974502\n",
      "Requesting: https://api.companieshouse.gov.uk/company/12222868\n",
      "Requesting: https://api.companieshouse.gov.uk/company/13387807\n",
      "Requesting: https://api.companieshouse.gov.uk/company/12002165\n",
      "Requesting: https://api.companieshouse.gov.uk/company/09396207\n",
      "Requesting: https://api.companieshouse.gov.uk/company/12479683\n",
      "Requesting: https://api.companieshouse.gov.uk/company/13488807\n",
      "Requesting: https://api.companieshouse.gov.uk/company/13635976\n",
      "Requesting: https://api.companieshouse.gov.uk/company/13381595\n",
      "Requesting: https://api.companieshouse.gov.uk/company/09620432\n",
      "Requesting: https://api.companieshouse.gov.uk/company/09878430\n",
      "Requesting: https://api.companieshouse.gov.uk/company/09654798\n",
      "Requesting: https://api.companieshouse.gov.uk/company/10922128\n",
      "Requesting: https://api.companieshouse.gov.uk/company/10475299\n",
      "Requesting: https://api.companieshouse.gov.uk/company/09886554\n",
      "Requesting: https://api.companieshouse.gov.uk/company/11403254\n",
      "Requesting: https://api.companieshouse.gov.uk/company/11230198\n",
      "Requesting: https://api.companieshouse.gov.uk/company/SC528445\n",
      "Requesting: https://api.companieshouse.gov.uk/company/SC450120\n",
      "Requesting: https://api.companieshouse.gov.uk/company/11639506\n",
      "Requesting: https://api.companieshouse.gov.uk/company/12605803\n",
      "Requesting: https://api.companieshouse.gov.uk/company/11734698\n",
      "Requesting: https://api.companieshouse.gov.uk/company/11511510\n",
      "Requesting: https://api.companieshouse.gov.uk/company/10564861\n",
      "Requesting: https://api.companieshouse.gov.uk/company/07798418\n",
      "Requesting: https://api.companieshouse.gov.uk/company/10006606\n",
      "Requesting: https://api.companieshouse.gov.uk/company/11408217\n",
      "Requesting: https://api.companieshouse.gov.uk/company/11340912\n",
      "Requesting: https://api.companieshouse.gov.uk/company/10913053\n",
      "Requesting: https://api.companieshouse.gov.uk/company/10689208\n",
      "Requesting: https://api.companieshouse.gov.uk/company/11121351\n",
      "Requesting: https://api.companieshouse.gov.uk/company/11191001\n",
      "Requesting: https://api.companieshouse.gov.uk/company/11167349\n",
      "Requesting: https://api.companieshouse.gov.uk/company/11310029\n",
      "Requesting: https://api.companieshouse.gov.uk/company/11381563\n",
      "Requesting: https://api.companieshouse.gov.uk/company/11057657\n",
      "Requesting: https://api.companieshouse.gov.uk/company/11210523\n",
      "Requesting: https://api.companieshouse.gov.uk/company/11725588\n",
      "Requesting: https://api.companieshouse.gov.uk/company/09987483\n",
      "Requesting: https://api.companieshouse.gov.uk/company/11288650\n",
      "Requesting: https://api.companieshouse.gov.uk/company/10910160\n",
      "Requesting: https://api.companieshouse.gov.uk/company/11205692\n",
      "Requesting: https://api.companieshouse.gov.uk/company/SC574213\n",
      "Requesting: https://api.companieshouse.gov.uk/company/09737443\n",
      "Requesting: https://api.companieshouse.gov.uk/company/09807548\n",
      "Requesting: https://api.companieshouse.gov.uk/company/09329400\n",
      "Requesting: https://api.companieshouse.gov.uk/company/10195765\n",
      "Requesting: https://api.companieshouse.gov.uk/company/10779398\n",
      "Requesting: https://api.companieshouse.gov.uk/company/10169826\n",
      "Requesting: https://api.companieshouse.gov.uk/company/09967351\n",
      "Requesting: https://api.companieshouse.gov.uk/company/07222765\n",
      "Requesting: https://api.companieshouse.gov.uk/company/10634743\n",
      "Requesting: https://api.companieshouse.gov.uk/company/10075070\n",
      "Requesting: https://api.companieshouse.gov.uk/company/09238598\n",
      "Requesting: https://api.companieshouse.gov.uk/company/10209682\n",
      "Requesting: https://api.companieshouse.gov.uk/company/10597773\n",
      "Requesting: https://api.companieshouse.gov.uk/company/10252167\n",
      "Requesting: https://api.companieshouse.gov.uk/company/10136250\n",
      "Requesting: https://api.companieshouse.gov.uk/company/07658451\n",
      "Requesting: https://api.companieshouse.gov.uk/company/10139828\n",
      "Requesting: https://api.companieshouse.gov.uk/company/09421904\n",
      "Requesting: https://api.companieshouse.gov.uk/company/11277435\n",
      "Requesting: https://api.companieshouse.gov.uk/company/10209257\n",
      "Requesting: https://api.companieshouse.gov.uk/company/11294742\n",
      "Requesting: https://api.companieshouse.gov.uk/company/NI611943\n",
      "Requesting: https://api.companieshouse.gov.uk/company/09760345\n",
      "Requesting: https://api.companieshouse.gov.uk/company/09111024\n",
      "Requesting: https://api.companieshouse.gov.uk/company/09764314\n",
      "Requesting: https://api.companieshouse.gov.uk/company/SC461221\n",
      "Requesting: https://api.companieshouse.gov.uk/company/09898565\n",
      "Requesting: https://api.companieshouse.gov.uk/company/09949033\n",
      "Requesting: https://api.companieshouse.gov.uk/company/07364898\n",
      "Requesting: https://api.companieshouse.gov.uk/company/09141293\n",
      "Requesting: https://api.companieshouse.gov.uk/company/09611510\n",
      "Requesting: https://api.companieshouse.gov.uk/company/10081486\n",
      "Requesting: https://api.companieshouse.gov.uk/company/07793030\n",
      "Requesting: https://api.companieshouse.gov.uk/company/08705727\n",
      "Requesting: https://api.companieshouse.gov.uk/company/08907249\n",
      "Requesting: https://api.companieshouse.gov.uk/company/07267738\n",
      "Requesting: https://api.companieshouse.gov.uk/company/SC424915\n",
      "Requesting: https://api.companieshouse.gov.uk/company/09917764\n",
      "Requesting: https://api.companieshouse.gov.uk/company/09549453\n",
      "Requesting: https://api.companieshouse.gov.uk/company/NI064348\n",
      "Requesting: https://api.companieshouse.gov.uk/company/09479140\n",
      "Requesting: https://api.companieshouse.gov.uk/company/09162427\n",
      "Requesting: https://api.companieshouse.gov.uk/company/09429338\n",
      "Requesting: https://api.companieshouse.gov.uk/company/08912209\n",
      "Requesting: https://api.companieshouse.gov.uk/company/08276073\n",
      "Requesting: https://api.companieshouse.gov.uk/company/09280972\n",
      "Requesting: https://api.companieshouse.gov.uk/company/09163296\n",
      "Requesting: https://api.companieshouse.gov.uk/company/08633694\n",
      "Requesting: https://api.companieshouse.gov.uk/company/06634119\n",
      "Requesting: https://api.companieshouse.gov.uk/company/09081234\n",
      "Requesting: https://api.companieshouse.gov.uk/company/06322994\n",
      "Requesting: https://api.companieshouse.gov.uk/company/08675696\n",
      "Requesting: https://api.companieshouse.gov.uk/company/07847403\n",
      "Requesting: https://api.companieshouse.gov.uk/company/08870136\n",
      "Requesting: https://api.companieshouse.gov.uk/company/08051567\n",
      "Requesting: https://api.companieshouse.gov.uk/company/SC465269\n",
      "Requesting: https://api.companieshouse.gov.uk/company/SC489153\n",
      "Requesting: https://api.companieshouse.gov.uk/company/07256528\n",
      "Requesting: https://api.companieshouse.gov.uk/company/05034910\n",
      "Requesting: https://api.companieshouse.gov.uk/company/SC471976\n",
      "Requesting: https://api.companieshouse.gov.uk/company/08925106\n",
      "Requesting: https://api.companieshouse.gov.uk/company/08885463\n",
      "Requesting: https://api.companieshouse.gov.uk/company/08613157\n",
      "Requesting: https://api.companieshouse.gov.uk/company/08222761\n",
      "Requesting: https://api.companieshouse.gov.uk/company/08822757\n",
      "Requesting: https://api.companieshouse.gov.uk/company/08427293\n",
      "Requesting: https://api.companieshouse.gov.uk/company/08401330\n",
      "Requesting: https://api.companieshouse.gov.uk/company/07721846\n",
      "Requesting: https://api.companieshouse.gov.uk/company/07496970\n",
      "Requesting: https://api.companieshouse.gov.uk/company/07030409\n",
      "Requesting: https://api.companieshouse.gov.uk/company/SC434316\n",
      "Requesting: https://api.companieshouse.gov.uk/company/07905201\n",
      "Requesting: https://api.companieshouse.gov.uk/company/SC430753\n",
      "Requesting: https://api.companieshouse.gov.uk/company/08194134\n",
      "Requesting: https://api.companieshouse.gov.uk/company/08135132\n",
      "Requesting: https://api.companieshouse.gov.uk/company/08340434\n",
      "Requesting: https://api.companieshouse.gov.uk/company/NI030376\n",
      "Requesting: https://api.companieshouse.gov.uk/company/07433445\n",
      "Requesting: https://api.companieshouse.gov.uk/company/07378249\n",
      "Requesting: https://api.companieshouse.gov.uk/company/07310838\n",
      "Requesting: https://api.companieshouse.gov.uk/company/08012347\n",
      "Requesting: https://api.companieshouse.gov.uk/company/07212462\n",
      "Requesting: https://api.companieshouse.gov.uk/company/SC418495\n",
      "Requesting: https://api.companieshouse.gov.uk/company/07966737\n",
      "Requesting: https://api.companieshouse.gov.uk/company/07914528\n",
      "Requesting: https://api.companieshouse.gov.uk/company/07831462\n",
      "Requesting: https://api.companieshouse.gov.uk/company/07721833\n",
      "Requesting: https://api.companieshouse.gov.uk/company/07709013\n",
      "Requesting: https://api.companieshouse.gov.uk/company/07219097\n",
      "Requesting: https://api.companieshouse.gov.uk/company/07578642\n",
      "Requesting: https://api.companieshouse.gov.uk/company/06628711\n",
      "Requesting: https://api.companieshouse.gov.uk/company/SC393962\n",
      "Requesting: https://api.companieshouse.gov.uk/company/06637513\n",
      "Requesting: https://api.companieshouse.gov.uk/company/07643346\n",
      "Requesting: https://api.companieshouse.gov.uk/company/02743645\n",
      "Requesting: https://api.companieshouse.gov.uk/company/SC381551\n",
      "Requesting: https://api.companieshouse.gov.uk/company/05213478\n",
      "Requesting: https://api.companieshouse.gov.uk/company/06935763\n",
      "Requesting: https://api.companieshouse.gov.uk/company/05189462\n",
      "Requesting: https://api.companieshouse.gov.uk/company/07830265\n",
      "Requesting: https://api.companieshouse.gov.uk/company/07397940\n",
      "Requesting: https://api.companieshouse.gov.uk/company/05014615\n",
      "Requesting: https://api.companieshouse.gov.uk/company/06844409\n",
      "Requesting: https://api.companieshouse.gov.uk/company/07037707\n",
      "Requesting: https://api.companieshouse.gov.uk/company/06908407\n",
      "Requesting: https://api.companieshouse.gov.uk/company/05197312\n",
      "Requesting: https://api.companieshouse.gov.uk/company/07028834\n",
      "Requesting: https://api.companieshouse.gov.uk/company/06948931\n",
      "Requesting: https://api.companieshouse.gov.uk/company/07232625\n",
      "Requesting: https://api.companieshouse.gov.uk/company/06895032\n",
      "Requesting: https://api.companieshouse.gov.uk/company/06722822\n",
      "Requesting: https://api.companieshouse.gov.uk/company/07218059\n",
      "Requesting: https://api.companieshouse.gov.uk/company/06706620\n",
      "Requesting: https://api.companieshouse.gov.uk/company/05889806\n",
      "Requesting: https://api.companieshouse.gov.uk/company/03960313\n",
      "Requesting: https://api.companieshouse.gov.uk/company/07118610\n",
      "Requesting: https://api.companieshouse.gov.uk/company/06220090\n",
      "Requesting: https://api.companieshouse.gov.uk/company/06756507\n",
      "Requesting: https://api.companieshouse.gov.uk/company/06705556\n",
      "Requesting: https://api.companieshouse.gov.uk/company/06653989\n",
      "Requesting: https://api.companieshouse.gov.uk/company/06651181\n",
      "Requesting: https://api.companieshouse.gov.uk/company/06292672\n",
      "Requesting: https://api.companieshouse.gov.uk/company/06410033\n",
      "Requesting: https://api.companieshouse.gov.uk/company/12614123\n",
      "Requesting: https://api.companieshouse.gov.uk/company/06167844\n",
      "Requesting: https://api.companieshouse.gov.uk/company/12634807\n",
      "Requesting: https://api.companieshouse.gov.uk/company/12996881\n",
      "Requesting: https://api.companieshouse.gov.uk/company/13631768\n",
      "Requesting: https://api.companieshouse.gov.uk/company/12800712\n",
      "Requesting: https://api.companieshouse.gov.uk/company/12445077\n",
      "Requesting: https://api.companieshouse.gov.uk/company/10894154\n",
      "Requesting: https://api.companieshouse.gov.uk/company/12930990\n",
      "Requesting: https://api.companieshouse.gov.uk/company/13662338\n",
      "Requesting: https://api.companieshouse.gov.uk/company/11103851\n",
      "Requesting: https://api.companieshouse.gov.uk/company/13225812\n",
      "Requesting: https://api.companieshouse.gov.uk/company/08390083\n",
      "Requesting: https://api.companieshouse.gov.uk/company/11056275\n",
      "Requesting: https://api.companieshouse.gov.uk/company/07856858\n",
      "Requesting: https://api.companieshouse.gov.uk/company/08769164\n",
      "Requesting: https://api.companieshouse.gov.uk/company/SC524724\n",
      "Requesting: https://api.companieshouse.gov.uk/company/13456413\n",
      "Requesting: https://api.companieshouse.gov.uk/company/11384542\n",
      "Requesting: https://api.companieshouse.gov.uk/company/SC606847\n",
      "Requesting: https://api.companieshouse.gov.uk/company/12021130\n",
      "Requesting: https://api.companieshouse.gov.uk/company/SC643296\n",
      "Requesting: https://api.companieshouse.gov.uk/company/11657897\n",
      "Requesting: https://api.companieshouse.gov.uk/company/12269055\n",
      "Requesting: https://api.companieshouse.gov.uk/company/SC665401\n",
      "Requesting: https://api.companieshouse.gov.uk/company/SC643281\n",
      "Requesting: https://api.companieshouse.gov.uk/company/07069343\n",
      "Requesting: https://api.companieshouse.gov.uk/company/12764008\n",
      "Requesting: https://api.companieshouse.gov.uk/company/09687689\n",
      "Requesting: https://api.companieshouse.gov.uk/company/SC630788\n",
      "Requesting: https://api.companieshouse.gov.uk/company/12056484\n",
      "Requesting: https://api.companieshouse.gov.uk/company/13517105\n",
      "Requesting: https://api.companieshouse.gov.uk/company/12919083\n",
      "Requesting: https://api.companieshouse.gov.uk/company/12359724\n",
      "Requesting: https://api.companieshouse.gov.uk/company/13476558\n",
      "Requesting: https://api.companieshouse.gov.uk/company/12551152\n",
      "Requesting: https://api.companieshouse.gov.uk/company/12288023\n",
      "Requesting: https://api.companieshouse.gov.uk/company/12040857\n",
      "Requesting: https://api.companieshouse.gov.uk/company/12372328\n",
      "Requesting: https://api.companieshouse.gov.uk/company/12189022\n",
      "Requesting: https://api.companieshouse.gov.uk/company/05605518\n",
      "Requesting: https://api.companieshouse.gov.uk/company/SC652330\n",
      "Requesting: https://api.companieshouse.gov.uk/company/10474479\n",
      "Requesting: https://api.companieshouse.gov.uk/company/10916931\n",
      "Requesting: https://api.companieshouse.gov.uk/company/12339081\n",
      "Requesting: https://api.companieshouse.gov.uk/company/13749791\n",
      "Requesting: https://api.companieshouse.gov.uk/company/SC645839\n",
      "Requesting: https://api.companieshouse.gov.uk/company/13684955\n",
      "Requesting: https://api.companieshouse.gov.uk/company/12169189\n",
      "Requesting: https://api.companieshouse.gov.uk/company/08352188\n",
      "Requesting: https://api.companieshouse.gov.uk/company/07858112\n",
      "Requesting: https://api.companieshouse.gov.uk/company/03322751\n",
      "Requesting: https://api.companieshouse.gov.uk/company/06842525\n",
      "Requesting: https://api.companieshouse.gov.uk/company/12493181\n",
      "Requesting: https://api.companieshouse.gov.uk/company/12720995\n",
      "Requesting: https://api.companieshouse.gov.uk/company/12371035\n",
      "Requesting: https://api.companieshouse.gov.uk/company/13093214\n",
      "Requesting: https://api.companieshouse.gov.uk/company/12530632\n",
      "Requesting: https://api.companieshouse.gov.uk/company/SC249627\n",
      "Requesting: https://api.companieshouse.gov.uk/company/05577872\n",
      "Requesting: https://api.companieshouse.gov.uk/company/10271052\n",
      "Requesting: https://api.companieshouse.gov.uk/company/10660978\n",
      "Requesting: https://api.companieshouse.gov.uk/company/11323469\n",
      "Requesting: https://api.companieshouse.gov.uk/company/12397515\n",
      "Requesting: https://api.companieshouse.gov.uk/company/13444703\n",
      "Requesting: https://api.companieshouse.gov.uk/company/13488339\n",
      "Requesting: https://api.companieshouse.gov.uk/company/12165859\n",
      "Requesting: https://api.companieshouse.gov.uk/company/08216009\n",
      "Requesting: https://api.companieshouse.gov.uk/company/12317726\n",
      "Requesting: https://api.companieshouse.gov.uk/company/SC645837\n",
      "Requesting: https://api.companieshouse.gov.uk/company/11781620\n",
      "Requesting: https://api.companieshouse.gov.uk/company/04029572\n",
      "Requesting: https://api.companieshouse.gov.uk/company/11626105\n",
      "Requesting: https://api.companieshouse.gov.uk/company/09560896\n",
      "Requesting: https://api.companieshouse.gov.uk/company/11761571\n",
      "Requesting: https://api.companieshouse.gov.uk/company/SC615084\n",
      "Requesting: https://api.companieshouse.gov.uk/company/03687371\n",
      "Requesting: https://api.companieshouse.gov.uk/company/06776908\n",
      "Requesting: https://api.companieshouse.gov.uk/company/11021299\n",
      "Requesting: https://api.companieshouse.gov.uk/company/11988470\n",
      "Requesting: https://api.companieshouse.gov.uk/company/11385537\n",
      "Requesting: https://api.companieshouse.gov.uk/company/11321957\n",
      "Requesting: https://api.companieshouse.gov.uk/company/08412343\n",
      "Requesting: https://api.companieshouse.gov.uk/company/08472477\n",
      "Requesting: https://api.companieshouse.gov.uk/company/11261681\n",
      "Requesting: https://api.companieshouse.gov.uk/company/08352164\n",
      "Requesting: https://api.companieshouse.gov.uk/company/10522447\n",
      "Requesting: https://api.companieshouse.gov.uk/company/10510551\n",
      "Requesting: https://api.companieshouse.gov.uk/company/11292155\n",
      "Requesting: https://api.companieshouse.gov.uk/company/10846622\n",
      "Requesting: https://api.companieshouse.gov.uk/company/10846629\n",
      "Requesting: https://api.companieshouse.gov.uk/company/SC537695\n",
      "Requesting: https://api.companieshouse.gov.uk/company/10808207\n",
      "Requesting: https://api.companieshouse.gov.uk/company/11104592\n",
      "Requesting: https://api.companieshouse.gov.uk/company/08958562\n",
      "Requesting: https://api.companieshouse.gov.uk/company/07365275\n",
      "Requesting: https://api.companieshouse.gov.uk/company/10469246\n",
      "Requesting: https://api.companieshouse.gov.uk/company/10380509\n",
      "Requesting: https://api.companieshouse.gov.uk/company/09342980\n",
      "Requesting: https://api.companieshouse.gov.uk/company/10259177\n",
      "Requesting: https://api.companieshouse.gov.uk/company/09729132\n",
      "Requesting: https://api.companieshouse.gov.uk/company/09541212\n",
      "Requesting: https://api.companieshouse.gov.uk/company/08066759\n",
      "Requesting: https://api.companieshouse.gov.uk/company/06967636\n",
      "Requesting: https://api.companieshouse.gov.uk/company/SC503911\n",
      "Requesting: https://api.companieshouse.gov.uk/company/05243367\n",
      "Requesting: https://api.companieshouse.gov.uk/company/09404848\n",
      "Requesting: https://api.companieshouse.gov.uk/company/SC457590\n",
      "Requesting: https://api.companieshouse.gov.uk/company/09740346\n",
      "Requesting: https://api.companieshouse.gov.uk/company/09720192\n",
      "Requesting: https://api.companieshouse.gov.uk/company/08363768\n",
      "Requesting: https://api.companieshouse.gov.uk/company/09634430\n",
      "Requesting: https://api.companieshouse.gov.uk/company/05752994\n",
      "Requesting: https://api.companieshouse.gov.uk/company/08103768\n",
      "Requesting: https://api.companieshouse.gov.uk/company/09412718\n",
      "Requesting: https://api.companieshouse.gov.uk/company/SC379010\n",
      "Requesting: https://api.companieshouse.gov.uk/company/08264846\n",
      "Requesting: https://api.companieshouse.gov.uk/company/08821579\n",
      "Requesting: https://api.companieshouse.gov.uk/company/08525201\n",
      "Requesting: https://api.companieshouse.gov.uk/company/SC484575\n",
      "Requesting: https://api.companieshouse.gov.uk/company/09379228\n",
      "Requesting: https://api.companieshouse.gov.uk/company/09369576\n",
      "Requesting: https://api.companieshouse.gov.uk/company/08050118\n",
      "Requesting: https://api.companieshouse.gov.uk/company/06826892\n",
      "Requesting: https://api.companieshouse.gov.uk/company/08696364\n",
      "Requesting: https://api.companieshouse.gov.uk/company/08016966\n",
      "Requesting: https://api.companieshouse.gov.uk/company/SC314220\n",
      "Requesting: https://api.companieshouse.gov.uk/company/06783321\n",
      "Requesting: https://api.companieshouse.gov.uk/company/05964158\n",
      "Requesting: https://api.companieshouse.gov.uk/company/07390875\n",
      "Requesting: https://api.companieshouse.gov.uk/company/08459202\n",
      "Requesting: https://api.companieshouse.gov.uk/company/07988525\n",
      "Requesting: https://api.companieshouse.gov.uk/company/07952226\n",
      "Requesting: https://api.companieshouse.gov.uk/company/04776251\n",
      "Requesting: https://api.companieshouse.gov.uk/company/08171471\n",
      "Requesting: https://api.companieshouse.gov.uk/company/08038093\n",
      "Requesting: https://api.companieshouse.gov.uk/company/08018602\n",
      "Requesting: https://api.companieshouse.gov.uk/company/07638254\n",
      "Requesting: https://api.companieshouse.gov.uk/company/07683830\n",
      "Requesting: https://api.companieshouse.gov.uk/company/03802391\n",
      "Requesting: https://api.companieshouse.gov.uk/company/07293450\n",
      "Requesting: https://api.companieshouse.gov.uk/company/12434605\n",
      "Requesting: https://api.companieshouse.gov.uk/company/11877294\n",
      "Requesting: https://api.companieshouse.gov.uk/company/11759203\n",
      "Requesting: https://api.companieshouse.gov.uk/company/03502039\n",
      "Requesting: https://api.companieshouse.gov.uk/company/11775662\n",
      "Requesting: https://api.companieshouse.gov.uk/company/SC701719\n",
      "Requesting: https://api.companieshouse.gov.uk/company/11046317\n",
      "Requesting: https://api.companieshouse.gov.uk/company/10441135\n",
      "Requesting: https://api.companieshouse.gov.uk/company/11803013\n",
      "Requesting: https://api.companieshouse.gov.uk/company/04519592\n",
      "Requesting: https://api.companieshouse.gov.uk/company/SC578085\n",
      "Requesting: https://api.companieshouse.gov.uk/company/10996753\n",
      "Requesting: https://api.companieshouse.gov.uk/company/11761497\n",
      "Requesting: https://api.companieshouse.gov.uk/company/11956735\n",
      "Requesting: https://api.companieshouse.gov.uk/company/12527039\n",
      "Requesting: https://api.companieshouse.gov.uk/company/13478184\n",
      "Requesting: https://api.companieshouse.gov.uk/company/13117140\n",
      "Requesting: https://api.companieshouse.gov.uk/company/SC545963\n",
      "Requesting: https://api.companieshouse.gov.uk/company/11837590\n",
      "Requesting: https://api.companieshouse.gov.uk/company/03404625\n",
      "Requesting: https://api.companieshouse.gov.uk/company/13627803\n",
      "Requesting: https://api.companieshouse.gov.uk/company/10554042\n",
      "Requesting: https://api.companieshouse.gov.uk/company/07898802\n",
      "Requesting: https://api.companieshouse.gov.uk/company/10458173\n",
      "Requesting: https://api.companieshouse.gov.uk/company/13762934\n",
      "Requesting: https://api.companieshouse.gov.uk/company/12257892\n",
      "Requesting: https://api.companieshouse.gov.uk/company/11783945\n",
      "Requesting: https://api.companieshouse.gov.uk/company/11233056\n",
      "Requesting: https://api.companieshouse.gov.uk/company/11975911\n",
      "Requesting: https://api.companieshouse.gov.uk/company/SC653075\n",
      "Requesting: https://api.companieshouse.gov.uk/company/13189265\n",
      "Requesting: https://api.companieshouse.gov.uk/company/13652335\n",
      "Requesting: https://api.companieshouse.gov.uk/company/13595096\n",
      "Requesting: https://api.companieshouse.gov.uk/company/10738406\n",
      "Requesting: https://api.companieshouse.gov.uk/company/13103079\n",
      "Requesting: https://api.companieshouse.gov.uk/company/11414866\n",
      "Requesting: https://api.companieshouse.gov.uk/company/09808227\n",
      "Requesting: https://api.companieshouse.gov.uk/company/11440908\n",
      "Requesting: https://api.companieshouse.gov.uk/company/09577468\n",
      "Requesting: https://api.companieshouse.gov.uk/company/12381894\n",
      "Requesting: https://api.companieshouse.gov.uk/company/12372795\n",
      "Requesting: https://api.companieshouse.gov.uk/company/11640296\n",
      "Requesting: https://api.companieshouse.gov.uk/company/12045718\n",
      "Requesting: https://api.companieshouse.gov.uk/company/09554823\n",
      "Requesting: https://api.companieshouse.gov.uk/company/12821635\n",
      "Requesting: https://api.companieshouse.gov.uk/company/10597157\n",
      "Requesting: https://api.companieshouse.gov.uk/company/09228916\n",
      "Requesting: https://api.companieshouse.gov.uk/company/12272213\n",
      "Requesting: https://api.companieshouse.gov.uk/company/11935508\n",
      "Requesting: https://api.companieshouse.gov.uk/company/12481287\n",
      "Requesting: https://api.companieshouse.gov.uk/company/13704308\n",
      "Requesting: https://api.companieshouse.gov.uk/company/12908349\n",
      "Requesting: https://api.companieshouse.gov.uk/company/11683498\n",
      "Requesting: https://api.companieshouse.gov.uk/company/SC696265\n",
      "Requesting: https://api.companieshouse.gov.uk/company/10138621\n",
      "Requesting: https://api.companieshouse.gov.uk/company/11244088\n",
      "Requesting: https://api.companieshouse.gov.uk/company/11507150\n",
      "Requesting: https://api.companieshouse.gov.uk/company/SC573994\n",
      "Requesting: https://api.companieshouse.gov.uk/company/10773408\n",
      "Requesting: https://api.companieshouse.gov.uk/company/12738942\n",
      "Requesting: https://api.companieshouse.gov.uk/company/SC655254\n",
      "Requesting: https://api.companieshouse.gov.uk/company/13266095\n",
      "Requesting: https://api.companieshouse.gov.uk/company/13184712\n",
      "Requesting: https://api.companieshouse.gov.uk/company/13102057\n",
      "Requesting: https://api.companieshouse.gov.uk/company/11684964\n",
      "Requesting: https://api.companieshouse.gov.uk/company/12913544\n",
      "Requesting: https://api.companieshouse.gov.uk/company/13628572\n",
      "Requesting: https://api.companieshouse.gov.uk/company/11298116\n",
      "Successfully obtained 500 records of company details\n",
      "Waiting for 300 seconds before starting another iteration...\n",
      "Initiating iteration number 2...\n",
      "Requesting: https://api.companieshouse.gov.uk/company/SC682590\n",
      "Requesting: https://api.companieshouse.gov.uk/company/SC714859\n",
      "Requesting: https://api.companieshouse.gov.uk/company/12139750\n",
      "Requesting: https://api.companieshouse.gov.uk/company/10866504\n",
      "Requesting: https://api.companieshouse.gov.uk/company/10227600\n",
      "Requesting: https://api.companieshouse.gov.uk/company/07879369\n",
      "Requesting: https://api.companieshouse.gov.uk/company/11944967\n",
      "Requesting: https://api.companieshouse.gov.uk/company/13751401\n",
      "Requesting: https://api.companieshouse.gov.uk/company/10732359\n",
      "Requesting: https://api.companieshouse.gov.uk/company/12312272\n",
      "Requesting: https://api.companieshouse.gov.uk/company/13363761\n",
      "Requesting: https://api.companieshouse.gov.uk/company/12017052\n",
      "Requesting: https://api.companieshouse.gov.uk/company/11279165\n",
      "Requesting: https://api.companieshouse.gov.uk/company/12105752\n",
      "Requesting: https://api.companieshouse.gov.uk/company/05880007\n",
      "Requesting: https://api.companieshouse.gov.uk/company/11705318\n",
      "Requesting: https://api.companieshouse.gov.uk/company/13672761\n",
      "Requesting: https://api.companieshouse.gov.uk/company/SC653970\n",
      "Requesting: https://api.companieshouse.gov.uk/company/12209931\n",
      "Requesting: https://api.companieshouse.gov.uk/company/12987565\n",
      "Requesting: https://api.companieshouse.gov.uk/company/13488516\n",
      "Requesting: https://api.companieshouse.gov.uk/company/11652698\n",
      "Requesting: https://api.companieshouse.gov.uk/company/13039395\n",
      "Requesting: https://api.companieshouse.gov.uk/company/10796914\n",
      "Requesting: https://api.companieshouse.gov.uk/company/13341521\n",
      "Requesting: https://api.companieshouse.gov.uk/company/13344310\n",
      "Requesting: https://api.companieshouse.gov.uk/company/13275783\n",
      "Requesting: https://api.companieshouse.gov.uk/company/11342962\n",
      "Requesting: https://api.companieshouse.gov.uk/company/13422254\n",
      "Requesting: https://api.companieshouse.gov.uk/company/10954215\n",
      "Requesting: https://api.companieshouse.gov.uk/company/12459845\n",
      "Requesting: https://api.companieshouse.gov.uk/company/11662636\n",
      "Requesting: https://api.companieshouse.gov.uk/company/11286523\n",
      "Requesting: https://api.companieshouse.gov.uk/company/12175215\n",
      "Requesting: https://api.companieshouse.gov.uk/company/13117756\n",
      "Requesting: https://api.companieshouse.gov.uk/company/SC679504\n",
      "Requesting: https://api.companieshouse.gov.uk/company/09259030\n",
      "Requesting: https://api.companieshouse.gov.uk/company/10755660\n",
      "Requesting: https://api.companieshouse.gov.uk/company/12358222\n",
      "Requesting: https://api.companieshouse.gov.uk/company/10037388\n",
      "Requesting: https://api.companieshouse.gov.uk/company/07972316\n",
      "Requesting: https://api.companieshouse.gov.uk/company/12391430\n",
      "Requesting: https://api.companieshouse.gov.uk/company/10062901\n",
      "Requesting: https://api.companieshouse.gov.uk/company/13653018\n",
      "Requesting: https://api.companieshouse.gov.uk/company/13503874\n",
      "Requesting: https://api.companieshouse.gov.uk/company/13722682\n",
      "Requesting: https://api.companieshouse.gov.uk/company/12954142\n",
      "Requesting: https://api.companieshouse.gov.uk/company/07951229\n",
      "Requesting: https://api.companieshouse.gov.uk/company/12780032\n",
      "Requesting: https://api.companieshouse.gov.uk/company/13260607\n",
      "Requesting: https://api.companieshouse.gov.uk/company/12341137\n",
      "Requesting: https://api.companieshouse.gov.uk/company/03388762\n",
      "Requesting: https://api.companieshouse.gov.uk/company/SC695936\n",
      "Requesting: https://api.companieshouse.gov.uk/company/13520994\n",
      "Requesting: https://api.companieshouse.gov.uk/company/12150489\n",
      "Requesting: https://api.companieshouse.gov.uk/company/12908943\n",
      "Requesting: https://api.companieshouse.gov.uk/company/11054148\n",
      "Requesting: https://api.companieshouse.gov.uk/company/12221292\n",
      "Requesting: https://api.companieshouse.gov.uk/company/SC505641\n",
      "Requesting: https://api.companieshouse.gov.uk/company/10729685\n",
      "Requesting: https://api.companieshouse.gov.uk/company/13394224\n",
      "Requesting: https://api.companieshouse.gov.uk/company/12846947\n",
      "Requesting: https://api.companieshouse.gov.uk/company/10225842\n",
      "Requesting: https://api.companieshouse.gov.uk/company/13137180\n",
      "Requesting: https://api.companieshouse.gov.uk/company/11846243\n",
      "Requesting: https://api.companieshouse.gov.uk/company/13704157\n",
      "Requesting: https://api.companieshouse.gov.uk/company/07374693\n",
      "Requesting: https://api.companieshouse.gov.uk/company/13451787\n",
      "Requesting: https://api.companieshouse.gov.uk/company/11065013\n",
      "Requesting: https://api.companieshouse.gov.uk/company/13600886\n",
      "Requesting: https://api.companieshouse.gov.uk/company/11650389\n",
      "Requesting: https://api.companieshouse.gov.uk/company/13195580\n",
      "Requesting: https://api.companieshouse.gov.uk/company/12724648\n",
      "Requesting: https://api.companieshouse.gov.uk/company/12598809\n",
      "Requesting: https://api.companieshouse.gov.uk/company/SC611583\n",
      "Requesting: https://api.companieshouse.gov.uk/company/13134281\n",
      "Requesting: https://api.companieshouse.gov.uk/company/08571347\n",
      "Requesting: https://api.companieshouse.gov.uk/company/10211939\n",
      "Requesting: https://api.companieshouse.gov.uk/company/08821576\n",
      "Requesting: https://api.companieshouse.gov.uk/company/13151152\n",
      "Requesting: https://api.companieshouse.gov.uk/company/12614986\n",
      "Requesting: https://api.companieshouse.gov.uk/company/12193763\n",
      "Requesting: https://api.companieshouse.gov.uk/company/13069229\n",
      "Requesting: https://api.companieshouse.gov.uk/company/12063999\n",
      "Requesting: https://api.companieshouse.gov.uk/company/13155107\n",
      "Requesting: https://api.companieshouse.gov.uk/company/12064063\n",
      "Requesting: https://api.companieshouse.gov.uk/company/12449847\n",
      "Requesting: https://api.companieshouse.gov.uk/company/09352020\n",
      "Requesting: https://api.companieshouse.gov.uk/company/13679838\n",
      "Requesting: https://api.companieshouse.gov.uk/company/13748713\n",
      "Requesting: https://api.companieshouse.gov.uk/company/12292377\n",
      "Requesting: https://api.companieshouse.gov.uk/company/12390372\n",
      "Requesting: https://api.companieshouse.gov.uk/company/08427019\n",
      "Requesting: https://api.companieshouse.gov.uk/company/10274613\n",
      "Requesting: https://api.companieshouse.gov.uk/company/12686832\n",
      "Requesting: https://api.companieshouse.gov.uk/company/12217656\n",
      "Requesting: https://api.companieshouse.gov.uk/company/13589508\n",
      "Requesting: https://api.companieshouse.gov.uk/company/12242555\n",
      "Requesting: https://api.companieshouse.gov.uk/company/13176933\n",
      "Requesting: https://api.companieshouse.gov.uk/company/12423512\n",
      "Requesting: https://api.companieshouse.gov.uk/company/13711186\n",
      "Requesting: https://api.companieshouse.gov.uk/company/12902901\n",
      "Requesting: https://api.companieshouse.gov.uk/company/13041917\n",
      "Requesting: https://api.companieshouse.gov.uk/company/12445163\n",
      "Requesting: https://api.companieshouse.gov.uk/company/11459228\n",
      "Requesting: https://api.companieshouse.gov.uk/company/NI679463\n",
      "Requesting: https://api.companieshouse.gov.uk/company/12200623\n",
      "Requesting: https://api.companieshouse.gov.uk/company/NI670374\n",
      "Requesting: https://api.companieshouse.gov.uk/company/12969431\n",
      "Requesting: https://api.companieshouse.gov.uk/company/13558650\n",
      "Requesting: https://api.companieshouse.gov.uk/company/08015159\n",
      "Requesting: https://api.companieshouse.gov.uk/company/12026971\n",
      "Requesting: https://api.companieshouse.gov.uk/company/10172711\n",
      "Requesting: https://api.companieshouse.gov.uk/company/11867286\n",
      "Requesting: https://api.companieshouse.gov.uk/company/12889820\n",
      "Requesting: https://api.companieshouse.gov.uk/company/10492230\n",
      "Requesting: https://api.companieshouse.gov.uk/company/12552752\n",
      "Requesting: https://api.companieshouse.gov.uk/company/12205901\n",
      "Requesting: https://api.companieshouse.gov.uk/company/12864966\n",
      "Requesting: https://api.companieshouse.gov.uk/company/13694649\n",
      "Requesting: https://api.companieshouse.gov.uk/company/12008372\n",
      "Requesting: https://api.companieshouse.gov.uk/company/12770394\n",
      "Requesting: https://api.companieshouse.gov.uk/company/08537793\n",
      "Requesting: https://api.companieshouse.gov.uk/company/12626696\n",
      "Requesting: https://api.companieshouse.gov.uk/company/11101054\n",
      "Requesting: https://api.companieshouse.gov.uk/company/11888059\n",
      "Requesting: https://api.companieshouse.gov.uk/company/11349247\n",
      "Requesting: https://api.companieshouse.gov.uk/company/13165479\n",
      "Requesting: https://api.companieshouse.gov.uk/company/13637292\n",
      "Requesting: https://api.companieshouse.gov.uk/company/13678813\n",
      "Requesting: https://api.companieshouse.gov.uk/company/10670080\n",
      "Requesting: https://api.companieshouse.gov.uk/company/12861363\n",
      "Requesting: https://api.companieshouse.gov.uk/company/12891234\n",
      "Requesting: https://api.companieshouse.gov.uk/company/13757101\n",
      "Requesting: https://api.companieshouse.gov.uk/company/12295131\n",
      "Requesting: https://api.companieshouse.gov.uk/company/13736719\n",
      "Requesting: https://api.companieshouse.gov.uk/company/12393120\n",
      "Requesting: https://api.companieshouse.gov.uk/company/11305630\n",
      "Requesting: https://api.companieshouse.gov.uk/company/10218174\n",
      "Requesting: https://api.companieshouse.gov.uk/company/11377347\n",
      "Requesting: https://api.companieshouse.gov.uk/company/11920741\n",
      "Requesting: https://api.companieshouse.gov.uk/company/09876521\n",
      "Requesting: https://api.companieshouse.gov.uk/company/05424391\n",
      "Requesting: https://api.companieshouse.gov.uk/company/11095935\n",
      "Requesting: https://api.companieshouse.gov.uk/company/10052272\n",
      "Requesting: https://api.companieshouse.gov.uk/company/10290264\n",
      "Requesting: https://api.companieshouse.gov.uk/company/11998970\n",
      "Requesting: https://api.companieshouse.gov.uk/company/10481381\n",
      "Requesting: https://api.companieshouse.gov.uk/company/13365727\n",
      "Requesting: https://api.companieshouse.gov.uk/company/13290103\n",
      "Requesting: https://api.companieshouse.gov.uk/company/11812674\n",
      "Requesting: https://api.companieshouse.gov.uk/company/12889013\n",
      "Requesting: https://api.companieshouse.gov.uk/company/13172690\n",
      "Requesting: https://api.companieshouse.gov.uk/company/12939244\n",
      "Requesting: https://api.companieshouse.gov.uk/company/11852940\n",
      "Requesting: https://api.companieshouse.gov.uk/company/13197231\n",
      "Requesting: https://api.companieshouse.gov.uk/company/10345664\n",
      "Requesting: https://api.companieshouse.gov.uk/company/12134103\n",
      "Requesting: https://api.companieshouse.gov.uk/company/12904726\n",
      "Requesting: https://api.companieshouse.gov.uk/company/10733957\n",
      "Requesting: https://api.companieshouse.gov.uk/company/12745681\n",
      "Requesting: https://api.companieshouse.gov.uk/company/08366935\n",
      "Requesting: https://api.companieshouse.gov.uk/company/09989480\n",
      "Requesting: https://api.companieshouse.gov.uk/company/12081114\n",
      "Requesting: https://api.companieshouse.gov.uk/company/10214538\n",
      "Requesting: https://api.companieshouse.gov.uk/company/10877381\n",
      "Requesting: https://api.companieshouse.gov.uk/company/12445071\n",
      "Requesting: https://api.companieshouse.gov.uk/company/10096589\n",
      "Requesting: https://api.companieshouse.gov.uk/company/11051313\n",
      "Requesting: https://api.companieshouse.gov.uk/company/10987213\n",
      "Requesting: https://api.companieshouse.gov.uk/company/13485865\n",
      "Requesting: https://api.companieshouse.gov.uk/company/12959901\n",
      "Requesting: https://api.companieshouse.gov.uk/company/12397072\n",
      "Requesting: https://api.companieshouse.gov.uk/company/13135200\n",
      "Requesting: https://api.companieshouse.gov.uk/company/10888676\n",
      "Requesting: https://api.companieshouse.gov.uk/company/13568994\n",
      "Requesting: https://api.companieshouse.gov.uk/company/13144406\n",
      "Requesting: https://api.companieshouse.gov.uk/company/11688929\n",
      "Requesting: https://api.companieshouse.gov.uk/company/13634864\n",
      "Requesting: https://api.companieshouse.gov.uk/company/13589884\n",
      "Requesting: https://api.companieshouse.gov.uk/company/11264284\n",
      "Requesting: https://api.companieshouse.gov.uk/company/11301668\n",
      "Requesting: https://api.companieshouse.gov.uk/company/10594651\n",
      "Requesting: https://api.companieshouse.gov.uk/company/10249474\n",
      "Requesting: https://api.companieshouse.gov.uk/company/12370055\n",
      "Requesting: https://api.companieshouse.gov.uk/company/11039677\n",
      "Requesting: https://api.companieshouse.gov.uk/company/11330882\n",
      "Requesting: https://api.companieshouse.gov.uk/company/13210482\n",
      "Requesting: https://api.companieshouse.gov.uk/company/11960800\n",
      "Requesting: https://api.companieshouse.gov.uk/company/11516250\n",
      "Requesting: https://api.companieshouse.gov.uk/company/13046382\n",
      "Requesting: https://api.companieshouse.gov.uk/company/10309955\n",
      "Requesting: https://api.companieshouse.gov.uk/company/12594981\n",
      "Requesting: https://api.companieshouse.gov.uk/company/11263707\n",
      "Requesting: https://api.companieshouse.gov.uk/company/11756064\n",
      "Requesting: https://api.companieshouse.gov.uk/company/SC707073\n",
      "Requesting: https://api.companieshouse.gov.uk/company/12295987\n",
      "Requesting: https://api.companieshouse.gov.uk/company/NI647111\n",
      "Requesting: https://api.companieshouse.gov.uk/company/NI645427\n",
      "Requesting: https://api.companieshouse.gov.uk/company/10721561\n",
      "Requesting: https://api.companieshouse.gov.uk/company/11181055\n",
      "Requesting: https://api.companieshouse.gov.uk/company/08427064\n",
      "Requesting: https://api.companieshouse.gov.uk/company/11672111\n",
      "Requesting: https://api.companieshouse.gov.uk/company/12660461\n",
      "Requesting: https://api.companieshouse.gov.uk/company/11885271\n",
      "Requesting: https://api.companieshouse.gov.uk/company/10935017\n",
      "Requesting: https://api.companieshouse.gov.uk/company/12066814\n",
      "Requesting: https://api.companieshouse.gov.uk/company/12286175\n",
      "Requesting: https://api.companieshouse.gov.uk/company/13723322\n",
      "Requesting: https://api.companieshouse.gov.uk/company/13480994\n",
      "Requesting: https://api.companieshouse.gov.uk/company/13086096\n",
      "Requesting: https://api.companieshouse.gov.uk/company/SC564149\n",
      "Requesting: https://api.companieshouse.gov.uk/company/11965478\n",
      "Requesting: https://api.companieshouse.gov.uk/company/11295382\n",
      "Requesting: https://api.companieshouse.gov.uk/company/12858151\n",
      "Requesting: https://api.companieshouse.gov.uk/company/13087444\n",
      "Requesting: https://api.companieshouse.gov.uk/company/04297195\n",
      "Requesting: https://api.companieshouse.gov.uk/company/11615636\n",
      "Requesting: https://api.companieshouse.gov.uk/company/12061096\n",
      "Requesting: https://api.companieshouse.gov.uk/company/12149404\n",
      "Requesting: https://api.companieshouse.gov.uk/company/11966109\n",
      "Requesting: https://api.companieshouse.gov.uk/company/11359625\n",
      "Requesting: https://api.companieshouse.gov.uk/company/12294408\n",
      "Requesting: https://api.companieshouse.gov.uk/company/10796507\n",
      "Requesting: https://api.companieshouse.gov.uk/company/12614407\n",
      "Requesting: https://api.companieshouse.gov.uk/company/13024854\n",
      "Requesting: https://api.companieshouse.gov.uk/company/09526596\n",
      "Requesting: https://api.companieshouse.gov.uk/company/12372917\n",
      "Requesting: https://api.companieshouse.gov.uk/company/13522017\n",
      "Requesting: https://api.companieshouse.gov.uk/company/12980900\n",
      "Requesting: https://api.companieshouse.gov.uk/company/SC597315\n",
      "Requesting: https://api.companieshouse.gov.uk/company/13628334\n",
      "Requesting: https://api.companieshouse.gov.uk/company/11342733\n",
      "Requesting: https://api.companieshouse.gov.uk/company/11652923\n",
      "Requesting: https://api.companieshouse.gov.uk/company/13592203\n",
      "Requesting: https://api.companieshouse.gov.uk/company/13096726\n",
      "Requesting: https://api.companieshouse.gov.uk/company/11887371\n",
      "Requesting: https://api.companieshouse.gov.uk/company/11983973\n",
      "Requesting: https://api.companieshouse.gov.uk/company/05083763\n",
      "Requesting: https://api.companieshouse.gov.uk/company/12586488\n",
      "Requesting: https://api.companieshouse.gov.uk/company/12511508\n",
      "Requesting: https://api.companieshouse.gov.uk/company/09933845\n",
      "Requesting: https://api.companieshouse.gov.uk/company/12449708\n",
      "Requesting: https://api.companieshouse.gov.uk/company/12522987\n",
      "Requesting: https://api.companieshouse.gov.uk/company/11764846\n",
      "Requesting: https://api.companieshouse.gov.uk/company/12210005\n",
      "Requesting: https://api.companieshouse.gov.uk/company/13673525\n",
      "Requesting: https://api.companieshouse.gov.uk/company/09652731\n",
      "Requesting: https://api.companieshouse.gov.uk/company/11240395\n",
      "Requesting: https://api.companieshouse.gov.uk/company/12798749\n",
      "Requesting: https://api.companieshouse.gov.uk/company/13237808\n",
      "Requesting: https://api.companieshouse.gov.uk/company/09712827\n",
      "Requesting: https://api.companieshouse.gov.uk/company/13614796\n",
      "Requesting: https://api.companieshouse.gov.uk/company/11963627\n",
      "Requesting: https://api.companieshouse.gov.uk/company/13642377\n",
      "Requesting: https://api.companieshouse.gov.uk/company/09084082\n",
      "Requesting: https://api.companieshouse.gov.uk/company/10851816\n",
      "Requesting: https://api.companieshouse.gov.uk/company/13402229\n",
      "Requesting: https://api.companieshouse.gov.uk/company/13584418\n",
      "Requesting: https://api.companieshouse.gov.uk/company/SC668469\n",
      "Requesting: https://api.companieshouse.gov.uk/company/13605254\n",
      "Requesting: https://api.companieshouse.gov.uk/company/11780941\n",
      "Requesting: https://api.companieshouse.gov.uk/company/12467489\n",
      "Requesting: https://api.companieshouse.gov.uk/company/11231078\n",
      "Requesting: https://api.companieshouse.gov.uk/company/12218682\n",
      "Requesting: https://api.companieshouse.gov.uk/company/11607139\n",
      "Requesting: https://api.companieshouse.gov.uk/company/12546567\n",
      "Requesting: https://api.companieshouse.gov.uk/company/11288058\n",
      "Requesting: https://api.companieshouse.gov.uk/company/SC605015\n",
      "Requesting: https://api.companieshouse.gov.uk/company/11461993\n",
      "Requesting: https://api.companieshouse.gov.uk/company/11845022\n",
      "Requesting: https://api.companieshouse.gov.uk/company/11905264\n",
      "Requesting: https://api.companieshouse.gov.uk/company/12193108\n",
      "Requesting: https://api.companieshouse.gov.uk/company/13130687\n",
      "Requesting: https://api.companieshouse.gov.uk/company/13411899\n",
      "Requesting: https://api.companieshouse.gov.uk/company/13705041\n",
      "Requesting: https://api.companieshouse.gov.uk/company/11966474\n",
      "Requesting: https://api.companieshouse.gov.uk/company/11879404\n",
      "Requesting: https://api.companieshouse.gov.uk/company/11844744\n",
      "Requesting: https://api.companieshouse.gov.uk/company/12167442\n",
      "Requesting: https://api.companieshouse.gov.uk/company/10694385\n",
      "Requesting: https://api.companieshouse.gov.uk/company/11051496\n",
      "Requesting: https://api.companieshouse.gov.uk/company/12823298\n",
      "Requesting: https://api.companieshouse.gov.uk/company/08603930\n",
      "Requesting: https://api.companieshouse.gov.uk/company/09008210\n",
      "Requesting: https://api.companieshouse.gov.uk/company/13146696\n",
      "Requesting: https://api.companieshouse.gov.uk/company/13395415\n",
      "Requesting: https://api.companieshouse.gov.uk/company/12355356\n",
      "Requesting: https://api.companieshouse.gov.uk/company/09711576\n",
      "Requesting: https://api.companieshouse.gov.uk/company/13695255\n",
      "Requesting: https://api.companieshouse.gov.uk/company/11172981\n",
      "Requesting: https://api.companieshouse.gov.uk/company/12428355\n",
      "Requesting: https://api.companieshouse.gov.uk/company/12744026\n",
      "Requesting: https://api.companieshouse.gov.uk/company/12097638\n",
      "Requesting: https://api.companieshouse.gov.uk/company/11510986\n",
      "Requesting: https://api.companieshouse.gov.uk/company/13728088\n",
      "Requesting: https://api.companieshouse.gov.uk/company/12700475\n",
      "Requesting: https://api.companieshouse.gov.uk/company/12017009\n",
      "Requesting: https://api.companieshouse.gov.uk/company/12486167\n",
      "Requesting: https://api.companieshouse.gov.uk/company/12925347\n",
      "Requesting: https://api.companieshouse.gov.uk/company/12660615\n",
      "Requesting: https://api.companieshouse.gov.uk/company/11039501\n",
      "Requesting: https://api.companieshouse.gov.uk/company/12872588\n",
      "Requesting: https://api.companieshouse.gov.uk/company/12326551\n",
      "Requesting: https://api.companieshouse.gov.uk/company/11149863\n",
      "Requesting: https://api.companieshouse.gov.uk/company/07123271\n",
      "Requesting: https://api.companieshouse.gov.uk/company/13066076\n",
      "Requesting: https://api.companieshouse.gov.uk/company/12116077\n",
      "Requesting: https://api.companieshouse.gov.uk/company/09564520\n",
      "Requesting: https://api.companieshouse.gov.uk/company/SC707478\n",
      "Requesting: https://api.companieshouse.gov.uk/company/11700874\n",
      "Requesting: https://api.companieshouse.gov.uk/company/13274582\n",
      "Requesting: https://api.companieshouse.gov.uk/company/12316469\n",
      "Requesting: https://api.companieshouse.gov.uk/company/11576472\n",
      "Requesting: https://api.companieshouse.gov.uk/company/08910305\n",
      "Requesting: https://api.companieshouse.gov.uk/company/12298346\n",
      "Requesting: https://api.companieshouse.gov.uk/company/12525206\n",
      "Requesting: https://api.companieshouse.gov.uk/company/12237709\n",
      "Requesting: https://api.companieshouse.gov.uk/company/12535378\n",
      "Requesting: https://api.companieshouse.gov.uk/company/09744436\n",
      "Requesting: https://api.companieshouse.gov.uk/company/SC609609\n",
      "Requesting: https://api.companieshouse.gov.uk/company/11966490\n",
      "Requesting: https://api.companieshouse.gov.uk/company/12742342\n",
      "Requesting: https://api.companieshouse.gov.uk/company/11809792\n",
      "Requesting: https://api.companieshouse.gov.uk/company/04757135\n",
      "Requesting: https://api.companieshouse.gov.uk/company/09915444\n",
      "Requesting: https://api.companieshouse.gov.uk/company/13265198\n",
      "Requesting: https://api.companieshouse.gov.uk/company/11637114\n",
      "Requesting: https://api.companieshouse.gov.uk/company/10749226\n",
      "Requesting: https://api.companieshouse.gov.uk/company/12939919\n",
      "Requesting: https://api.companieshouse.gov.uk/company/12075140\n",
      "Requesting: https://api.companieshouse.gov.uk/company/13144458\n",
      "Requesting: https://api.companieshouse.gov.uk/company/12818407\n",
      "Requesting: https://api.companieshouse.gov.uk/company/12446103\n",
      "Requesting: https://api.companieshouse.gov.uk/company/13172901\n",
      "Requesting: https://api.companieshouse.gov.uk/company/13350247\n",
      "Requesting: https://api.companieshouse.gov.uk/company/11997596\n",
      "Requesting: https://api.companieshouse.gov.uk/company/13698136\n",
      "Requesting: https://api.companieshouse.gov.uk/company/12699085\n",
      "Requesting: https://api.companieshouse.gov.uk/company/13067259\n",
      "Requesting: https://api.companieshouse.gov.uk/company/SC588919\n",
      "Requesting: https://api.companieshouse.gov.uk/company/10776103\n",
      "Requesting: https://api.companieshouse.gov.uk/company/11841629\n",
      "Requesting: https://api.companieshouse.gov.uk/company/12287524\n",
      "Requesting: https://api.companieshouse.gov.uk/company/13747024\n",
      "Requesting: https://api.companieshouse.gov.uk/company/09463433\n",
      "Requesting: https://api.companieshouse.gov.uk/company/11267901\n",
      "Requesting: https://api.companieshouse.gov.uk/company/12182954\n",
      "Requesting: https://api.companieshouse.gov.uk/company/10683906\n",
      "Requesting: https://api.companieshouse.gov.uk/company/12920384\n",
      "Requesting: https://api.companieshouse.gov.uk/company/12649170\n",
      "Requesting: https://api.companieshouse.gov.uk/company/11036434\n",
      "Requesting: https://api.companieshouse.gov.uk/company/12713537\n",
      "Requesting: https://api.companieshouse.gov.uk/company/11826631\n",
      "Requesting: https://api.companieshouse.gov.uk/company/12093271\n",
      "Requesting: https://api.companieshouse.gov.uk/company/07257573\n",
      "Requesting: https://api.companieshouse.gov.uk/company/10697519\n",
      "Requesting: https://api.companieshouse.gov.uk/company/SC653973\n",
      "Requesting: https://api.companieshouse.gov.uk/company/06193500\n",
      "Requesting: https://api.companieshouse.gov.uk/company/12926419\n",
      "Requesting: https://api.companieshouse.gov.uk/company/12441308\n",
      "Requesting: https://api.companieshouse.gov.uk/company/11574512\n",
      "Requesting: https://api.companieshouse.gov.uk/company/11778149\n",
      "Requesting: https://api.companieshouse.gov.uk/company/11676904\n",
      "Requesting: https://api.companieshouse.gov.uk/company/13422801\n",
      "Requesting: https://api.companieshouse.gov.uk/company/12826331\n",
      "Requesting: https://api.companieshouse.gov.uk/company/13676316\n",
      "Requesting: https://api.companieshouse.gov.uk/company/13337520\n",
      "Requesting: https://api.companieshouse.gov.uk/company/13274990\n",
      "Requesting: https://api.companieshouse.gov.uk/company/11331952\n",
      "Requesting: https://api.companieshouse.gov.uk/company/13278919\n",
      "Requesting: https://api.companieshouse.gov.uk/company/12109858\n",
      "Requesting: https://api.companieshouse.gov.uk/company/13414129\n",
      "Requesting: https://api.companieshouse.gov.uk/company/12162730\n",
      "Requesting: https://api.companieshouse.gov.uk/company/12119512\n",
      "Requesting: https://api.companieshouse.gov.uk/company/12676278\n",
      "Requesting: https://api.companieshouse.gov.uk/company/12235840\n",
      "Requesting: https://api.companieshouse.gov.uk/company/10882024\n",
      "Requesting: https://api.companieshouse.gov.uk/company/10595342\n",
      "Requesting: https://api.companieshouse.gov.uk/company/12595004\n",
      "Requesting: https://api.companieshouse.gov.uk/company/13648472\n",
      "Requesting: https://api.companieshouse.gov.uk/company/13282316\n",
      "Requesting: https://api.companieshouse.gov.uk/company/12917382\n",
      "Requesting: https://api.companieshouse.gov.uk/company/12920396\n",
      "Requesting: https://api.companieshouse.gov.uk/company/13270409\n",
      "Requesting: https://api.companieshouse.gov.uk/company/10403293\n",
      "Requesting: https://api.companieshouse.gov.uk/company/03394108\n",
      "Requesting: https://api.companieshouse.gov.uk/company/10074361\n",
      "Requesting: https://api.companieshouse.gov.uk/company/12907966\n",
      "Requesting: https://api.companieshouse.gov.uk/company/13265666\n",
      "Requesting: https://api.companieshouse.gov.uk/company/SC688149\n",
      "Requesting: https://api.companieshouse.gov.uk/company/12359839\n",
      "Requesting: https://api.companieshouse.gov.uk/company/09007889\n",
      "Requesting: https://api.companieshouse.gov.uk/company/12495072\n",
      "Requesting: https://api.companieshouse.gov.uk/company/SC710447\n",
      "Requesting: https://api.companieshouse.gov.uk/company/12629437\n",
      "Requesting: https://api.companieshouse.gov.uk/company/11373997\n",
      "Requesting: https://api.companieshouse.gov.uk/company/11161243\n",
      "Requesting: https://api.companieshouse.gov.uk/company/11465216\n",
      "Requesting: https://api.companieshouse.gov.uk/company/12008331\n",
      "Requesting: https://api.companieshouse.gov.uk/company/12717060\n",
      "Requesting: https://api.companieshouse.gov.uk/company/10391830\n",
      "Requesting: https://api.companieshouse.gov.uk/company/13376727\n",
      "Requesting: https://api.companieshouse.gov.uk/company/12088807\n",
      "Requesting: https://api.companieshouse.gov.uk/company/13064039\n",
      "Requesting: https://api.companieshouse.gov.uk/company/10035492\n",
      "Requesting: https://api.companieshouse.gov.uk/company/12095713\n",
      "Requesting: https://api.companieshouse.gov.uk/company/13624319\n",
      "Requesting: https://api.companieshouse.gov.uk/company/12939144\n",
      "Requesting: https://api.companieshouse.gov.uk/company/12912833\n",
      "Requesting: https://api.companieshouse.gov.uk/company/07122155\n",
      "Requesting: https://api.companieshouse.gov.uk/company/12472438\n",
      "Requesting: https://api.companieshouse.gov.uk/company/12750637\n",
      "Requesting: https://api.companieshouse.gov.uk/company/11549328\n",
      "Requesting: https://api.companieshouse.gov.uk/company/12197906\n",
      "Requesting: https://api.companieshouse.gov.uk/company/13372060\n",
      "Requesting: https://api.companieshouse.gov.uk/company/12360636\n",
      "Requesting: https://api.companieshouse.gov.uk/company/12310451\n",
      "Requesting: https://api.companieshouse.gov.uk/company/11839318\n",
      "Requesting: https://api.companieshouse.gov.uk/company/11685774\n",
      "Requesting: https://api.companieshouse.gov.uk/company/12417139\n",
      "Requesting: https://api.companieshouse.gov.uk/company/12328809\n",
      "Requesting: https://api.companieshouse.gov.uk/company/10464932\n",
      "Requesting: https://api.companieshouse.gov.uk/company/11304550\n",
      "Requesting: https://api.companieshouse.gov.uk/company/11224830\n",
      "Requesting: https://api.companieshouse.gov.uk/company/12820800\n",
      "Requesting: https://api.companieshouse.gov.uk/company/12228382\n",
      "Requesting: https://api.companieshouse.gov.uk/company/10018579\n",
      "Requesting: https://api.companieshouse.gov.uk/company/11705377\n",
      "Requesting: https://api.companieshouse.gov.uk/company/11034906\n",
      "Requesting: https://api.companieshouse.gov.uk/company/12536206\n",
      "Requesting: https://api.companieshouse.gov.uk/company/13172822\n",
      "Requesting: https://api.companieshouse.gov.uk/company/10188297\n",
      "Requesting: https://api.companieshouse.gov.uk/company/12974845\n",
      "Requesting: https://api.companieshouse.gov.uk/company/11671886\n",
      "Requesting: https://api.companieshouse.gov.uk/company/12219104\n",
      "Requesting: https://api.companieshouse.gov.uk/company/12150026\n",
      "Requesting: https://api.companieshouse.gov.uk/company/11697280\n",
      "Requesting: https://api.companieshouse.gov.uk/company/12259472\n",
      "Requesting: https://api.companieshouse.gov.uk/company/13744450\n",
      "Requesting: https://api.companieshouse.gov.uk/company/12545630\n",
      "Requesting: https://api.companieshouse.gov.uk/company/11935395\n",
      "Requesting: https://api.companieshouse.gov.uk/company/08592208\n",
      "Requesting: https://api.companieshouse.gov.uk/company/NI667734\n",
      "Requesting: https://api.companieshouse.gov.uk/company/11940253\n",
      "Requesting: https://api.companieshouse.gov.uk/company/11393638\n",
      "Requesting: https://api.companieshouse.gov.uk/company/13165830\n",
      "Requesting: https://api.companieshouse.gov.uk/company/SC548808\n",
      "Requesting: https://api.companieshouse.gov.uk/company/12761445\n",
      "Requesting: https://api.companieshouse.gov.uk/company/12746248\n",
      "Requesting: https://api.companieshouse.gov.uk/company/12463870\n",
      "Requesting: https://api.companieshouse.gov.uk/company/11281680\n",
      "Requesting: https://api.companieshouse.gov.uk/company/12069257\n",
      "Requesting: https://api.companieshouse.gov.uk/company/13719066\n",
      "Requesting: https://api.companieshouse.gov.uk/company/11352323\n",
      "Requesting: https://api.companieshouse.gov.uk/company/04439955\n",
      "Requesting: https://api.companieshouse.gov.uk/company/11281207\n",
      "Requesting: https://api.companieshouse.gov.uk/company/09758569\n",
      "Requesting: https://api.companieshouse.gov.uk/company/09417701\n",
      "Requesting: https://api.companieshouse.gov.uk/company/08863805\n",
      "Requesting: https://api.companieshouse.gov.uk/company/12675127\n",
      "Requesting: https://api.companieshouse.gov.uk/company/07918785\n",
      "Requesting: https://api.companieshouse.gov.uk/company/13573096\n",
      "Requesting: https://api.companieshouse.gov.uk/company/09880148\n",
      "Requesting: https://api.companieshouse.gov.uk/company/09099828\n",
      "Requesting: https://api.companieshouse.gov.uk/company/12217912\n",
      "Requesting: https://api.companieshouse.gov.uk/company/09166565\n",
      "Requesting: https://api.companieshouse.gov.uk/company/12643665\n",
      "Requesting: https://api.companieshouse.gov.uk/company/11375984\n",
      "Requesting: https://api.companieshouse.gov.uk/company/12543831\n",
      "Requesting: https://api.companieshouse.gov.uk/company/12339522\n",
      "Requesting: https://api.companieshouse.gov.uk/company/12928203\n",
      "Requesting: https://api.companieshouse.gov.uk/company/11412797\n",
      "Requesting: https://api.companieshouse.gov.uk/company/13401177\n",
      "Requesting: https://api.companieshouse.gov.uk/company/13643596\n",
      "Requesting: https://api.companieshouse.gov.uk/company/11333481\n",
      "Requesting: https://api.companieshouse.gov.uk/company/11091017\n",
      "Requesting: https://api.companieshouse.gov.uk/company/10878601\n",
      "Requesting: https://api.companieshouse.gov.uk/company/08176028\n",
      "Requesting: https://api.companieshouse.gov.uk/company/12735189\n",
      "Requesting: https://api.companieshouse.gov.uk/company/12580010\n",
      "Requesting: https://api.companieshouse.gov.uk/company/09184337\n",
      "Requesting: https://api.companieshouse.gov.uk/company/08612044\n",
      "Requesting: https://api.companieshouse.gov.uk/company/13508757\n",
      "Requesting: https://api.companieshouse.gov.uk/company/11900953\n",
      "Requesting: https://api.companieshouse.gov.uk/company/13700561\n",
      "Requesting: https://api.companieshouse.gov.uk/company/10431441\n",
      "Requesting: https://api.companieshouse.gov.uk/company/13142249\n",
      "Requesting: https://api.companieshouse.gov.uk/company/10905196\n",
      "Requesting: https://api.companieshouse.gov.uk/company/09953506\n",
      "Requesting: https://api.companieshouse.gov.uk/company/13128987\n",
      "Requesting: https://api.companieshouse.gov.uk/company/13029308\n",
      "Requesting: https://api.companieshouse.gov.uk/company/12955154\n",
      "Requesting: https://api.companieshouse.gov.uk/company/12314550\n",
      "Requesting: https://api.companieshouse.gov.uk/company/10704869\n",
      "Requesting: https://api.companieshouse.gov.uk/company/12849327\n",
      "Requesting: https://api.companieshouse.gov.uk/company/12608873\n",
      "Requesting: https://api.companieshouse.gov.uk/company/10773306\n",
      "Requesting: https://api.companieshouse.gov.uk/company/12026265\n",
      "Requesting: https://api.companieshouse.gov.uk/company/11781748\n",
      "Successfully obtained 1000 records of company details\n",
      "API request is finished\n",
      "Initiating iteration number 1...\n",
      "Requesting: https://api.companieshouse.gov.uk/company/10977462\n",
      "Requesting: https://api.companieshouse.gov.uk/company/09036263\n",
      "Requesting: https://api.companieshouse.gov.uk/company/11823554\n",
      "Requesting: https://api.companieshouse.gov.uk/company/13604448\n",
      "Requesting: https://api.companieshouse.gov.uk/company/13681780\n",
      "Requesting: https://api.companieshouse.gov.uk/company/09988753\n",
      "Requesting: https://api.companieshouse.gov.uk/company/13303537\n",
      "Requesting: https://api.companieshouse.gov.uk/company/11709175\n",
      "Requesting: https://api.companieshouse.gov.uk/company/13724615\n",
      "Requesting: https://api.companieshouse.gov.uk/company/13209477\n",
      "Requesting: https://api.companieshouse.gov.uk/company/11983447\n",
      "Requesting: https://api.companieshouse.gov.uk/company/13687045\n",
      "Requesting: https://api.companieshouse.gov.uk/company/13090178\n",
      "Requesting: https://api.companieshouse.gov.uk/company/11658891\n",
      "Requesting: https://api.companieshouse.gov.uk/company/13143346\n",
      "Requesting: https://api.companieshouse.gov.uk/company/13250550\n",
      "Requesting: https://api.companieshouse.gov.uk/company/13151041\n",
      "Requesting: https://api.companieshouse.gov.uk/company/12437582\n",
      "Requesting: https://api.companieshouse.gov.uk/company/13487513\n",
      "Requesting: https://api.companieshouse.gov.uk/company/07885192\n",
      "Requesting: https://api.companieshouse.gov.uk/company/13276847\n",
      "Requesting: https://api.companieshouse.gov.uk/company/13263852\n",
      "Requesting: https://api.companieshouse.gov.uk/company/08265532\n",
      "Requesting: https://api.companieshouse.gov.uk/company/12985595\n",
      "Requesting: https://api.companieshouse.gov.uk/company/SC670269\n",
      "Requesting: https://api.companieshouse.gov.uk/company/12602116\n",
      "Requesting: https://api.companieshouse.gov.uk/company/13068769\n",
      "Requesting: https://api.companieshouse.gov.uk/company/13188847\n",
      "Requesting: https://api.companieshouse.gov.uk/company/13530843\n",
      "Requesting: https://api.companieshouse.gov.uk/company/12046354\n",
      "Requesting: https://api.companieshouse.gov.uk/company/13365266\n",
      "Requesting: https://api.companieshouse.gov.uk/company/12036024\n",
      "Requesting: https://api.companieshouse.gov.uk/company/12936779\n",
      "Requesting: https://api.companieshouse.gov.uk/company/11537372\n",
      "Requesting: https://api.companieshouse.gov.uk/company/12972754\n",
      "Requesting: https://api.companieshouse.gov.uk/company/11195050\n",
      "Requesting: https://api.companieshouse.gov.uk/company/12613964\n",
      "Requesting: https://api.companieshouse.gov.uk/company/08522034\n",
      "Requesting: https://api.companieshouse.gov.uk/company/13260521\n",
      "Requesting: https://api.companieshouse.gov.uk/company/13540385\n",
      "Requesting: https://api.companieshouse.gov.uk/company/13767629\n",
      "Requesting: https://api.companieshouse.gov.uk/company/13316955\n",
      "Requesting: https://api.companieshouse.gov.uk/company/11991669\n",
      "Requesting: https://api.companieshouse.gov.uk/company/10752569\n",
      "Requesting: https://api.companieshouse.gov.uk/company/06170466\n",
      "Requesting: https://api.companieshouse.gov.uk/company/12913967\n",
      "Requesting: https://api.companieshouse.gov.uk/company/08316424\n",
      "Requesting: https://api.companieshouse.gov.uk/company/11760738\n",
      "Requesting: https://api.companieshouse.gov.uk/company/13418191\n",
      "Requesting: https://api.companieshouse.gov.uk/company/09400372\n",
      "Requesting: https://api.companieshouse.gov.uk/company/11402143\n",
      "Requesting: https://api.companieshouse.gov.uk/company/08872574\n",
      "Requesting: https://api.companieshouse.gov.uk/company/05049204\n",
      "Requesting: https://api.companieshouse.gov.uk/company/11727312\n",
      "Requesting: https://api.companieshouse.gov.uk/company/13476892\n",
      "Requesting: https://api.companieshouse.gov.uk/company/06051675\n",
      "Requesting: https://api.companieshouse.gov.uk/company/13235668\n",
      "Requesting: https://api.companieshouse.gov.uk/company/13376253\n",
      "Requesting: https://api.companieshouse.gov.uk/company/13527396\n",
      "Requesting: https://api.companieshouse.gov.uk/company/12828202\n",
      "Requesting: https://api.companieshouse.gov.uk/company/13519936\n",
      "Requesting: https://api.companieshouse.gov.uk/company/11701904\n",
      "Requesting: https://api.companieshouse.gov.uk/company/13635963\n",
      "Requesting: https://api.companieshouse.gov.uk/company/13303026\n",
      "Requesting: https://api.companieshouse.gov.uk/company/12083884\n",
      "Requesting: https://api.companieshouse.gov.uk/company/13284273\n",
      "Requesting: https://api.companieshouse.gov.uk/company/11470715\n",
      "Requesting: https://api.companieshouse.gov.uk/company/10750707\n",
      "Requesting: https://api.companieshouse.gov.uk/company/13326892\n",
      "Requesting: https://api.companieshouse.gov.uk/company/05806032\n",
      "Requesting: https://api.companieshouse.gov.uk/company/12629484\n",
      "Requesting: https://api.companieshouse.gov.uk/company/13242211\n",
      "Requesting: https://api.companieshouse.gov.uk/company/12795221\n",
      "Requesting: https://api.companieshouse.gov.uk/company/12912310\n",
      "Requesting: https://api.companieshouse.gov.uk/company/10507988\n",
      "Requesting: https://api.companieshouse.gov.uk/company/11876429\n",
      "Requesting: https://api.companieshouse.gov.uk/company/11314582\n",
      "Requesting: https://api.companieshouse.gov.uk/company/12800316\n",
      "Requesting: https://api.companieshouse.gov.uk/company/13343428\n",
      "Requesting: https://api.companieshouse.gov.uk/company/12907207\n",
      "Requesting: https://api.companieshouse.gov.uk/company/SC655395\n",
      "Requesting: https://api.companieshouse.gov.uk/company/10687102\n",
      "Requesting: https://api.companieshouse.gov.uk/company/12808180\n",
      "Requesting: https://api.companieshouse.gov.uk/company/10702496\n",
      "Requesting: https://api.companieshouse.gov.uk/company/07035478\n",
      "Requesting: https://api.companieshouse.gov.uk/company/08357712\n",
      "Requesting: https://api.companieshouse.gov.uk/company/09017452\n",
      "Requesting: https://api.companieshouse.gov.uk/company/12533748\n",
      "Requesting: https://api.companieshouse.gov.uk/company/12536583\n",
      "Requesting: https://api.companieshouse.gov.uk/company/10944652\n",
      "Requesting: https://api.companieshouse.gov.uk/company/13565736\n",
      "Requesting: https://api.companieshouse.gov.uk/company/08864094\n",
      "Requesting: https://api.companieshouse.gov.uk/company/12570828\n",
      "Requesting: https://api.companieshouse.gov.uk/company/11448734\n",
      "Requesting: https://api.companieshouse.gov.uk/company/12468886\n",
      "Requesting: https://api.companieshouse.gov.uk/company/12499770\n",
      "Requesting: https://api.companieshouse.gov.uk/company/13351002\n",
      "Requesting: https://api.companieshouse.gov.uk/company/12055440\n",
      "Requesting: https://api.companieshouse.gov.uk/company/12683332\n",
      "Requesting: https://api.companieshouse.gov.uk/company/07651932\n",
      "Requesting: https://api.companieshouse.gov.uk/company/10151864\n",
      "Requesting: https://api.companieshouse.gov.uk/company/12556860\n",
      "Requesting: https://api.companieshouse.gov.uk/company/SC715762\n",
      "Requesting: https://api.companieshouse.gov.uk/company/13760480\n",
      "Requesting: https://api.companieshouse.gov.uk/company/13614661\n",
      "Requesting: https://api.companieshouse.gov.uk/company/SC476010\n",
      "Requesting: https://api.companieshouse.gov.uk/company/12306038\n",
      "Requesting: https://api.companieshouse.gov.uk/company/09377770\n",
      "Requesting: https://api.companieshouse.gov.uk/company/13637699\n",
      "Requesting: https://api.companieshouse.gov.uk/company/12775377\n",
      "Requesting: https://api.companieshouse.gov.uk/company/SC691418\n",
      "Requesting: https://api.companieshouse.gov.uk/company/12859027\n",
      "Requesting: https://api.companieshouse.gov.uk/company/12102609\n",
      "Requesting: https://api.companieshouse.gov.uk/company/11901213\n",
      "Requesting: https://api.companieshouse.gov.uk/company/09441146\n",
      "Requesting: https://api.companieshouse.gov.uk/company/11219449\n",
      "Requesting: https://api.companieshouse.gov.uk/company/12928504\n",
      "Requesting: https://api.companieshouse.gov.uk/company/11822588\n",
      "Requesting: https://api.companieshouse.gov.uk/company/11975825\n",
      "Requesting: https://api.companieshouse.gov.uk/company/11822249\n",
      "Requesting: https://api.companieshouse.gov.uk/company/13014992\n",
      "Requesting: https://api.companieshouse.gov.uk/company/13400824\n",
      "Requesting: https://api.companieshouse.gov.uk/company/13160552\n",
      "Requesting: https://api.companieshouse.gov.uk/company/12611042\n",
      "Requesting: https://api.companieshouse.gov.uk/company/08945262\n",
      "Requesting: https://api.companieshouse.gov.uk/company/11949242\n",
      "Requesting: https://api.companieshouse.gov.uk/company/12002516\n",
      "Requesting: https://api.companieshouse.gov.uk/company/11977431\n",
      "Requesting: https://api.companieshouse.gov.uk/company/09700237\n",
      "Requesting: https://api.companieshouse.gov.uk/company/11171895\n",
      "Requesting: https://api.companieshouse.gov.uk/company/12849198\n",
      "Requesting: https://api.companieshouse.gov.uk/company/04033973\n",
      "Requesting: https://api.companieshouse.gov.uk/company/10720944\n",
      "Requesting: https://api.companieshouse.gov.uk/company/13475716\n",
      "Requesting: https://api.companieshouse.gov.uk/company/07888006\n",
      "Requesting: https://api.companieshouse.gov.uk/company/08019428\n",
      "Requesting: https://api.companieshouse.gov.uk/company/09022642\n",
      "Requesting: https://api.companieshouse.gov.uk/company/13186500\n",
      "Requesting: https://api.companieshouse.gov.uk/company/06800269\n",
      "Requesting: https://api.companieshouse.gov.uk/company/13742835\n",
      "Requesting: https://api.companieshouse.gov.uk/company/10572895\n",
      "Requesting: https://api.companieshouse.gov.uk/company/09032975\n",
      "Requesting: https://api.companieshouse.gov.uk/company/10040786\n",
      "Requesting: https://api.companieshouse.gov.uk/company/SC567108\n",
      "Requesting: https://api.companieshouse.gov.uk/company/SC574444\n",
      "Requesting: https://api.companieshouse.gov.uk/company/13351805\n",
      "Requesting: https://api.companieshouse.gov.uk/company/SC639725\n",
      "Requesting: https://api.companieshouse.gov.uk/company/12246493\n",
      "Requesting: https://api.companieshouse.gov.uk/company/OC369498\n",
      "Requesting: https://api.companieshouse.gov.uk/company/13615098\n",
      "Requesting: https://api.companieshouse.gov.uk/company/13767929\n",
      "Requesting: https://api.companieshouse.gov.uk/company/11044732\n",
      "Requesting: https://api.companieshouse.gov.uk/company/12627946\n",
      "Requesting: https://api.companieshouse.gov.uk/company/06932821\n",
      "Requesting: https://api.companieshouse.gov.uk/company/08141471\n",
      "Requesting: https://api.companieshouse.gov.uk/company/10724512\n",
      "Requesting: https://api.companieshouse.gov.uk/company/13430704\n",
      "Requesting: https://api.companieshouse.gov.uk/company/12244153\n",
      "Requesting: https://api.companieshouse.gov.uk/company/08557094\n",
      "Requesting: https://api.companieshouse.gov.uk/company/13615827\n",
      "Requesting: https://api.companieshouse.gov.uk/company/13677858\n",
      "Requesting: https://api.companieshouse.gov.uk/company/12498572\n",
      "Requesting: https://api.companieshouse.gov.uk/company/13274452\n",
      "Requesting: https://api.companieshouse.gov.uk/company/08576626\n",
      "Requesting: https://api.companieshouse.gov.uk/company/11248632\n",
      "Requesting: https://api.companieshouse.gov.uk/company/SC491526\n",
      "Requesting: https://api.companieshouse.gov.uk/company/11649548\n",
      "Requesting: https://api.companieshouse.gov.uk/company/11955740\n",
      "Requesting: https://api.companieshouse.gov.uk/company/11802460\n",
      "Requesting: https://api.companieshouse.gov.uk/company/11595829\n",
      "Requesting: https://api.companieshouse.gov.uk/company/09710914\n",
      "Requesting: https://api.companieshouse.gov.uk/company/08681042\n",
      "Requesting: https://api.companieshouse.gov.uk/company/11520936\n",
      "Requesting: https://api.companieshouse.gov.uk/company/11034143\n",
      "Requesting: https://api.companieshouse.gov.uk/company/11314681\n",
      "Requesting: https://api.companieshouse.gov.uk/company/10528329\n",
      "Requesting: https://api.companieshouse.gov.uk/company/10883610\n",
      "Requesting: https://api.companieshouse.gov.uk/company/12165578\n",
      "Requesting: https://api.companieshouse.gov.uk/company/10094196\n",
      "Requesting: https://api.companieshouse.gov.uk/company/11214088\n",
      "Requesting: https://api.companieshouse.gov.uk/company/11270180\n",
      "Requesting: https://api.companieshouse.gov.uk/company/11176435\n",
      "Requesting: https://api.companieshouse.gov.uk/company/11145125\n",
      "Requesting: https://api.companieshouse.gov.uk/company/11068332\n",
      "Requesting: https://api.companieshouse.gov.uk/company/10417121\n",
      "Requesting: https://api.companieshouse.gov.uk/company/11038562\n",
      "Requesting: https://api.companieshouse.gov.uk/company/08861077\n",
      "Requesting: https://api.companieshouse.gov.uk/company/11027990\n",
      "Requesting: https://api.companieshouse.gov.uk/company/10977900\n",
      "Requesting: https://api.companieshouse.gov.uk/company/10416408\n",
      "Requesting: https://api.companieshouse.gov.uk/company/10779716\n",
      "Requesting: https://api.companieshouse.gov.uk/company/10341112\n",
      "Requesting: https://api.companieshouse.gov.uk/company/11359941\n",
      "Requesting: https://api.companieshouse.gov.uk/company/11536003\n",
      "Requesting: https://api.companieshouse.gov.uk/company/10227817\n",
      "Requesting: https://api.companieshouse.gov.uk/company/10417122\n",
      "Requesting: https://api.companieshouse.gov.uk/company/08306482\n",
      "Requesting: https://api.companieshouse.gov.uk/company/08767138\n",
      "Requesting: https://api.companieshouse.gov.uk/company/10165792\n",
      "Requesting: https://api.companieshouse.gov.uk/company/10545689\n",
      "Requesting: https://api.companieshouse.gov.uk/company/09075058\n",
      "Requesting: https://api.companieshouse.gov.uk/company/09438876\n",
      "Requesting: https://api.companieshouse.gov.uk/company/10516420\n",
      "Requesting: https://api.companieshouse.gov.uk/company/10377812\n",
      "Requesting: https://api.companieshouse.gov.uk/company/07858275\n",
      "Requesting: https://api.companieshouse.gov.uk/company/10878776\n",
      "Requesting: https://api.companieshouse.gov.uk/company/10098377\n",
      "Requesting: https://api.companieshouse.gov.uk/company/10307264\n",
      "Requesting: https://api.companieshouse.gov.uk/company/10689977\n",
      "Requesting: https://api.companieshouse.gov.uk/company/06523320\n",
      "Requesting: https://api.companieshouse.gov.uk/company/06524324\n",
      "Requesting: https://api.companieshouse.gov.uk/company/06523312\n",
      "Requesting: https://api.companieshouse.gov.uk/company/10130684\n",
      "Requesting: https://api.companieshouse.gov.uk/company/10415570\n",
      "Requesting: https://api.companieshouse.gov.uk/company/OC372582\n",
      "Requesting: https://api.companieshouse.gov.uk/company/09397372\n",
      "Requesting: https://api.companieshouse.gov.uk/company/10463327\n",
      "Requesting: https://api.companieshouse.gov.uk/company/09795320\n",
      "Requesting: https://api.companieshouse.gov.uk/company/09768035\n",
      "Requesting: https://api.companieshouse.gov.uk/company/08483582\n",
      "Requesting: https://api.companieshouse.gov.uk/company/08851057\n",
      "Requesting: https://api.companieshouse.gov.uk/company/09724524\n",
      "Requesting: https://api.companieshouse.gov.uk/company/09723502\n",
      "Requesting: https://api.companieshouse.gov.uk/company/10107022\n",
      "Requesting: https://api.companieshouse.gov.uk/company/08097455\n",
      "Requesting: https://api.companieshouse.gov.uk/company/09602480\n",
      "Requesting: https://api.companieshouse.gov.uk/company/09757392\n",
      "Requesting: https://api.companieshouse.gov.uk/company/09636326\n",
      "Requesting: https://api.companieshouse.gov.uk/company/09505833\n",
      "Requesting: https://api.companieshouse.gov.uk/company/08847117\n",
      "Requesting: https://api.companieshouse.gov.uk/company/08912718\n",
      "Requesting: https://api.companieshouse.gov.uk/company/09895198\n",
      "Requesting: https://api.companieshouse.gov.uk/company/08817531\n",
      "Requesting: https://api.companieshouse.gov.uk/company/06908004\n",
      "Requesting: https://api.companieshouse.gov.uk/company/09235375\n",
      "Requesting: https://api.companieshouse.gov.uk/company/05296102\n",
      "Requesting: https://api.companieshouse.gov.uk/company/09205541\n",
      "Requesting: https://api.companieshouse.gov.uk/company/09505311\n",
      "Requesting: https://api.companieshouse.gov.uk/company/07369010\n",
      "Requesting: https://api.companieshouse.gov.uk/company/09052728\n",
      "Requesting: https://api.companieshouse.gov.uk/company/08977118\n",
      "Requesting: https://api.companieshouse.gov.uk/company/08941818\n",
      "Requesting: https://api.companieshouse.gov.uk/company/08196067\n",
      "Requesting: https://api.companieshouse.gov.uk/company/08334711\n",
      "Requesting: https://api.companieshouse.gov.uk/company/08459890\n",
      "Requesting: https://api.companieshouse.gov.uk/company/07425110\n",
      "Requesting: https://api.companieshouse.gov.uk/company/08733915\n",
      "Requesting: https://api.companieshouse.gov.uk/company/08732497\n",
      "Requesting: https://api.companieshouse.gov.uk/company/08710430\n",
      "Requesting: https://api.companieshouse.gov.uk/company/09233566\n",
      "Requesting: https://api.companieshouse.gov.uk/company/09233620\n",
      "Requesting: https://api.companieshouse.gov.uk/company/07598402\n",
      "Requesting: https://api.companieshouse.gov.uk/company/08249114\n",
      "Requesting: https://api.companieshouse.gov.uk/company/07751116\n",
      "Requesting: https://api.companieshouse.gov.uk/company/07183576\n",
      "Requesting: https://api.companieshouse.gov.uk/company/07555302\n",
      "Requesting: https://api.companieshouse.gov.uk/company/08744449\n",
      "Requesting: https://api.companieshouse.gov.uk/company/06481361\n",
      "Requesting: https://api.companieshouse.gov.uk/company/06801854\n",
      "Requesting: https://api.companieshouse.gov.uk/company/08096775\n",
      "Requesting: https://api.companieshouse.gov.uk/company/07793646\n",
      "Requesting: https://api.companieshouse.gov.uk/company/07789967\n",
      "Requesting: https://api.companieshouse.gov.uk/company/08037303\n",
      "Requesting: https://api.companieshouse.gov.uk/company/07757124\n",
      "Requesting: https://api.companieshouse.gov.uk/company/07988532\n",
      "Requesting: https://api.companieshouse.gov.uk/company/08550753\n",
      "Requesting: https://api.companieshouse.gov.uk/company/07870563\n",
      "Requesting: https://api.companieshouse.gov.uk/company/07864197\n",
      "Requesting: https://api.companieshouse.gov.uk/company/SC433346\n",
      "Requesting: https://api.companieshouse.gov.uk/company/07690948\n",
      "Requesting: https://api.companieshouse.gov.uk/company/SC298112\n",
      "Requesting: https://api.companieshouse.gov.uk/company/07789717\n",
      "Requesting: https://api.companieshouse.gov.uk/company/07608306\n",
      "Requesting: https://api.companieshouse.gov.uk/company/07341544\n",
      "Requesting: https://api.companieshouse.gov.uk/company/06987504\n",
      "Requesting: https://api.companieshouse.gov.uk/company/07526991\n",
      "Requesting: https://api.companieshouse.gov.uk/company/05417268\n",
      "Requesting: https://api.companieshouse.gov.uk/company/07492454\n",
      "Requesting: https://api.companieshouse.gov.uk/company/06802230\n",
      "Requesting: https://api.companieshouse.gov.uk/company/07275136\n",
      "Requesting: https://api.companieshouse.gov.uk/company/07118416\n",
      "Requesting: https://api.companieshouse.gov.uk/company/07247036\n",
      "Requesting: https://api.companieshouse.gov.uk/company/07202234\n",
      "Requesting: https://api.companieshouse.gov.uk/company/05925431\n",
      "Requesting: https://api.companieshouse.gov.uk/company/SC372752\n",
      "Requesting: https://api.companieshouse.gov.uk/company/06964128\n",
      "Requesting: https://api.companieshouse.gov.uk/company/05781338\n",
      "Requesting: https://api.companieshouse.gov.uk/company/SC383944\n",
      "Requesting: https://api.companieshouse.gov.uk/company/06365930\n",
      "Requesting: https://api.companieshouse.gov.uk/company/07277078\n",
      "Requesting: https://api.companieshouse.gov.uk/company/05294746\n",
      "Requesting: https://api.companieshouse.gov.uk/company/07328704\n",
      "Requesting: https://api.companieshouse.gov.uk/company/06911006\n",
      "Requesting: https://api.companieshouse.gov.uk/company/05918971\n",
      "Requesting: https://api.companieshouse.gov.uk/company/06889913\n",
      "Requesting: https://api.companieshouse.gov.uk/company/06048314\n",
      "Requesting: https://api.companieshouse.gov.uk/company/05226446\n",
      "Requesting: https://api.companieshouse.gov.uk/company/07160160\n",
      "Requesting: https://api.companieshouse.gov.uk/company/12662154\n",
      "Requesting: https://api.companieshouse.gov.uk/company/13049038\n",
      "Requesting: https://api.companieshouse.gov.uk/company/12881727\n",
      "Requesting: https://api.companieshouse.gov.uk/company/13228047\n",
      "Requesting: https://api.companieshouse.gov.uk/company/13056140\n",
      "Requesting: https://api.companieshouse.gov.uk/company/12175545\n",
      "Requesting: https://api.companieshouse.gov.uk/company/SC381145\n",
      "Requesting: https://api.companieshouse.gov.uk/company/10389643\n",
      "Requesting: https://api.companieshouse.gov.uk/company/10318595\n",
      "Requesting: https://api.companieshouse.gov.uk/company/10904440\n",
      "Requesting: https://api.companieshouse.gov.uk/company/12286425\n",
      "Requesting: https://api.companieshouse.gov.uk/company/12610917\n",
      "Requesting: https://api.companieshouse.gov.uk/company/13741611\n",
      "Requesting: https://api.companieshouse.gov.uk/company/12072739\n",
      "Requesting: https://api.companieshouse.gov.uk/company/13573871\n",
      "Requesting: https://api.companieshouse.gov.uk/company/11533112\n",
      "Requesting: https://api.companieshouse.gov.uk/company/13252598\n",
      "Requesting: https://api.companieshouse.gov.uk/company/12476345\n",
      "Requesting: https://api.companieshouse.gov.uk/company/12073495\n",
      "Requesting: https://api.companieshouse.gov.uk/company/12534447\n",
      "Requesting: https://api.companieshouse.gov.uk/company/08027234\n",
      "Requesting: https://api.companieshouse.gov.uk/company/13736731\n",
      "Requesting: https://api.companieshouse.gov.uk/company/09754549\n",
      "Requesting: https://api.companieshouse.gov.uk/company/12392480\n",
      "Requesting: https://api.companieshouse.gov.uk/company/SC711850\n",
      "Requesting: https://api.companieshouse.gov.uk/company/09600836\n",
      "Requesting: https://api.companieshouse.gov.uk/company/13310987\n",
      "Requesting: https://api.companieshouse.gov.uk/company/12526571\n",
      "Requesting: https://api.companieshouse.gov.uk/company/09202871\n",
      "Requesting: https://api.companieshouse.gov.uk/company/10527328\n",
      "Requesting: https://api.companieshouse.gov.uk/company/12967655\n",
      "Requesting: https://api.companieshouse.gov.uk/company/13141751\n",
      "Requesting: https://api.companieshouse.gov.uk/company/08527196\n",
      "Requesting: https://api.companieshouse.gov.uk/company/12568422\n",
      "Requesting: https://api.companieshouse.gov.uk/company/11719681\n",
      "Requesting: https://api.companieshouse.gov.uk/company/08933834\n",
      "Requesting: https://api.companieshouse.gov.uk/company/13293494\n",
      "Requesting: https://api.companieshouse.gov.uk/company/12713040\n",
      "Requesting: https://api.companieshouse.gov.uk/company/07894363\n",
      "Requesting: https://api.companieshouse.gov.uk/company/12574438\n",
      "Requesting: https://api.companieshouse.gov.uk/company/12683370\n",
      "Requesting: https://api.companieshouse.gov.uk/company/11040515\n",
      "Requesting: https://api.companieshouse.gov.uk/company/08977504\n",
      "Requesting: https://api.companieshouse.gov.uk/company/11919175\n",
      "Requesting: https://api.companieshouse.gov.uk/company/10279112\n",
      "Requesting: https://api.companieshouse.gov.uk/company/12139248\n",
      "Requesting: https://api.companieshouse.gov.uk/company/06761902\n",
      "Requesting: https://api.companieshouse.gov.uk/company/09570391\n",
      "Requesting: https://api.companieshouse.gov.uk/company/07517520\n",
      "Requesting: https://api.companieshouse.gov.uk/company/10587838\n",
      "Requesting: https://api.companieshouse.gov.uk/company/09038496\n",
      "Requesting: https://api.companieshouse.gov.uk/company/10544728\n",
      "Requesting: https://api.companieshouse.gov.uk/company/10544744\n",
      "Requesting: https://api.companieshouse.gov.uk/company/10544711\n",
      "Requesting: https://api.companieshouse.gov.uk/company/06151105\n",
      "Requesting: https://api.companieshouse.gov.uk/company/10239777\n",
      "Requesting: https://api.companieshouse.gov.uk/company/09783056\n",
      "Requesting: https://api.companieshouse.gov.uk/company/09994008\n",
      "Requesting: https://api.companieshouse.gov.uk/company/09719461\n",
      "Requesting: https://api.companieshouse.gov.uk/company/09715528\n",
      "Requesting: https://api.companieshouse.gov.uk/company/08256292\n",
      "Requesting: https://api.companieshouse.gov.uk/company/09435714\n",
      "Requesting: https://api.companieshouse.gov.uk/company/08760136\n",
      "Requesting: https://api.companieshouse.gov.uk/company/08738442\n",
      "Requesting: https://api.companieshouse.gov.uk/company/09239272\n",
      "Requesting: https://api.companieshouse.gov.uk/company/08590485\n",
      "Requesting: https://api.companieshouse.gov.uk/company/09509715\n",
      "Requesting: https://api.companieshouse.gov.uk/company/10672527\n",
      "Requesting: https://api.companieshouse.gov.uk/company/13164295\n",
      "Requesting: https://api.companieshouse.gov.uk/company/13002725\n",
      "Requesting: https://api.companieshouse.gov.uk/company/11716319\n",
      "Requesting: https://api.companieshouse.gov.uk/company/13266826\n",
      "Requesting: https://api.companieshouse.gov.uk/company/12494023\n",
      "Requesting: https://api.companieshouse.gov.uk/company/12267827\n",
      "Requesting: https://api.companieshouse.gov.uk/company/13243521\n",
      "Requesting: https://api.companieshouse.gov.uk/company/12869962\n",
      "Requesting: https://api.companieshouse.gov.uk/company/13694078\n",
      "Requesting: https://api.companieshouse.gov.uk/company/12915039\n",
      "Requesting: https://api.companieshouse.gov.uk/company/13608118\n",
      "Requesting: https://api.companieshouse.gov.uk/company/12846223\n",
      "Requesting: https://api.companieshouse.gov.uk/company/12871055\n",
      "Requesting: https://api.companieshouse.gov.uk/company/13708267\n",
      "Requesting: https://api.companieshouse.gov.uk/company/SC684988\n",
      "Requesting: https://api.companieshouse.gov.uk/company/13554368\n",
      "Requesting: https://api.companieshouse.gov.uk/company/12863942\n",
      "Requesting: https://api.companieshouse.gov.uk/company/13654199\n",
      "Requesting: https://api.companieshouse.gov.uk/company/12196912\n",
      "Requesting: https://api.companieshouse.gov.uk/company/10451850\n",
      "Requesting: https://api.companieshouse.gov.uk/company/11917212\n",
      "Requesting: https://api.companieshouse.gov.uk/company/10867407\n",
      "Requesting: https://api.companieshouse.gov.uk/company/08716607\n",
      "Requesting: https://api.companieshouse.gov.uk/company/13699566\n",
      "Requesting: https://api.companieshouse.gov.uk/company/10837012\n",
      "Requesting: https://api.companieshouse.gov.uk/company/SC692990\n",
      "Requesting: https://api.companieshouse.gov.uk/company/10655291\n",
      "Requesting: https://api.companieshouse.gov.uk/company/12724875\n",
      "Requesting: https://api.companieshouse.gov.uk/company/12019944\n",
      "Requesting: https://api.companieshouse.gov.uk/company/13592023\n",
      "Requesting: https://api.companieshouse.gov.uk/company/13359585\n",
      "Requesting: https://api.companieshouse.gov.uk/company/10806310\n",
      "Requesting: https://api.companieshouse.gov.uk/company/12966511\n",
      "Requesting: https://api.companieshouse.gov.uk/company/10904093\n",
      "Requesting: https://api.companieshouse.gov.uk/company/10499750\n",
      "Requesting: https://api.companieshouse.gov.uk/company/13669228\n",
      "Requesting: https://api.companieshouse.gov.uk/company/08687142\n",
      "Requesting: https://api.companieshouse.gov.uk/company/12625157\n",
      "Requesting: https://api.companieshouse.gov.uk/company/12906821\n",
      "Requesting: https://api.companieshouse.gov.uk/company/SC651703\n",
      "Requesting: https://api.companieshouse.gov.uk/company/12459394\n",
      "Requesting: https://api.companieshouse.gov.uk/company/12277420\n",
      "Requesting: https://api.companieshouse.gov.uk/company/10271110\n",
      "Requesting: https://api.companieshouse.gov.uk/company/10866437\n",
      "Requesting: https://api.companieshouse.gov.uk/company/10318665\n",
      "Requesting: https://api.companieshouse.gov.uk/company/10786455\n",
      "Requesting: https://api.companieshouse.gov.uk/company/13443035\n",
      "Requesting: https://api.companieshouse.gov.uk/company/11233559\n",
      "Requesting: https://api.companieshouse.gov.uk/company/SC544856\n",
      "Requesting: https://api.companieshouse.gov.uk/company/10874066\n",
      "Requesting: https://api.companieshouse.gov.uk/company/13253327\n",
      "Requesting: https://api.companieshouse.gov.uk/company/13234877\n",
      "Requesting: https://api.companieshouse.gov.uk/company/11177458\n",
      "Requesting: https://api.companieshouse.gov.uk/company/13496162\n",
      "Requesting: https://api.companieshouse.gov.uk/company/09463622\n",
      "Requesting: https://api.companieshouse.gov.uk/company/13262934\n",
      "Requesting: https://api.companieshouse.gov.uk/company/11580925\n",
      "Requesting: https://api.companieshouse.gov.uk/company/11158477\n",
      "Requesting: https://api.companieshouse.gov.uk/company/13266356\n",
      "Requesting: https://api.companieshouse.gov.uk/company/13312251\n",
      "Requesting: https://api.companieshouse.gov.uk/company/SC546921\n",
      "Requesting: https://api.companieshouse.gov.uk/company/11188162\n",
      "Requesting: https://api.companieshouse.gov.uk/company/10302734\n",
      "Requesting: https://api.companieshouse.gov.uk/company/13169699\n",
      "Requesting: https://api.companieshouse.gov.uk/company/12376971\n",
      "Requesting: https://api.companieshouse.gov.uk/company/09127419\n",
      "Requesting: https://api.companieshouse.gov.uk/company/13306656\n",
      "Requesting: https://api.companieshouse.gov.uk/company/07657834\n",
      "Requesting: https://api.companieshouse.gov.uk/company/13091442\n",
      "Requesting: https://api.companieshouse.gov.uk/company/13490957\n",
      "Requesting: https://api.companieshouse.gov.uk/company/13281565\n",
      "Requesting: https://api.companieshouse.gov.uk/company/10925442\n",
      "Requesting: https://api.companieshouse.gov.uk/company/13489272\n",
      "Requesting: https://api.companieshouse.gov.uk/company/12317888\n",
      "Requesting: https://api.companieshouse.gov.uk/company/SC623539\n",
      "Requesting: https://api.companieshouse.gov.uk/company/13271562\n",
      "Requesting: https://api.companieshouse.gov.uk/company/07439593\n",
      "Requesting: https://api.companieshouse.gov.uk/company/13067913\n",
      "Requesting: https://api.companieshouse.gov.uk/company/13115502\n",
      "Requesting: https://api.companieshouse.gov.uk/company/13301444\n",
      "Requesting: https://api.companieshouse.gov.uk/company/13250426\n",
      "Requesting: https://api.companieshouse.gov.uk/company/03720871\n",
      "Requesting: https://api.companieshouse.gov.uk/company/11848254\n",
      "Requesting: https://api.companieshouse.gov.uk/company/10232313\n",
      "Requesting: https://api.companieshouse.gov.uk/company/11417897\n",
      "Requesting: https://api.companieshouse.gov.uk/company/13219438\n",
      "Requesting: https://api.companieshouse.gov.uk/company/13376366\n",
      "Requesting: https://api.companieshouse.gov.uk/company/12223850\n",
      "Requesting: https://api.companieshouse.gov.uk/company/13242681\n",
      "Requesting: https://api.companieshouse.gov.uk/company/12128329\n",
      "Requesting: https://api.companieshouse.gov.uk/company/11003512\n",
      "Requesting: https://api.companieshouse.gov.uk/company/07432635\n",
      "Requesting: https://api.companieshouse.gov.uk/company/11965280\n",
      "Requesting: https://api.companieshouse.gov.uk/company/10296412\n",
      "Requesting: https://api.companieshouse.gov.uk/company/12714797\n",
      "Requesting: https://api.companieshouse.gov.uk/company/13259298\n",
      "Requesting: https://api.companieshouse.gov.uk/company/06701069\n",
      "Requesting: https://api.companieshouse.gov.uk/company/12952413\n",
      "Requesting: https://api.companieshouse.gov.uk/company/08080717\n",
      "Requesting: https://api.companieshouse.gov.uk/company/10427895\n",
      "Requesting: https://api.companieshouse.gov.uk/company/SC696726\n",
      "Requesting: https://api.companieshouse.gov.uk/company/12720234\n",
      "Requesting: https://api.companieshouse.gov.uk/company/11109253\n",
      "Requesting: https://api.companieshouse.gov.uk/company/07391392\n",
      "Requesting: https://api.companieshouse.gov.uk/company/13314271\n",
      "Requesting: https://api.companieshouse.gov.uk/company/10944512\n",
      "Requesting: https://api.companieshouse.gov.uk/company/12777600\n",
      "Requesting: https://api.companieshouse.gov.uk/company/13126127\n",
      "Requesting: https://api.companieshouse.gov.uk/company/SC714923\n",
      "Requesting: https://api.companieshouse.gov.uk/company/10920202\n",
      "Requesting: https://api.companieshouse.gov.uk/company/09175928\n",
      "Requesting: https://api.companieshouse.gov.uk/company/10980050\n",
      "Requesting: https://api.companieshouse.gov.uk/company/SC508437\n",
      "Requesting: https://api.companieshouse.gov.uk/company/10605033\n",
      "Requesting: https://api.companieshouse.gov.uk/company/SC604393\n",
      "Requesting: https://api.companieshouse.gov.uk/company/11632314\n",
      "Requesting: https://api.companieshouse.gov.uk/company/11034093\n",
      "Requesting: https://api.companieshouse.gov.uk/company/09964448\n",
      "Requesting: https://api.companieshouse.gov.uk/company/09042872\n",
      "Requesting: https://api.companieshouse.gov.uk/company/12552262\n",
      "Requesting: https://api.companieshouse.gov.uk/company/13403863\n",
      "Requesting: https://api.companieshouse.gov.uk/company/06402329\n",
      "Requesting: https://api.companieshouse.gov.uk/company/06402337\n",
      "Requesting: https://api.companieshouse.gov.uk/company/13655816\n",
      "Requesting: https://api.companieshouse.gov.uk/company/10825238\n",
      "Requesting: https://api.companieshouse.gov.uk/company/10536996\n",
      "Requesting: https://api.companieshouse.gov.uk/company/13395220\n",
      "Requesting: https://api.companieshouse.gov.uk/company/11507515\n",
      "Requesting: https://api.companieshouse.gov.uk/company/13638461\n",
      "Requesting: https://api.companieshouse.gov.uk/company/07940334\n",
      "Requesting: https://api.companieshouse.gov.uk/company/11712217\n",
      "Requesting: https://api.companieshouse.gov.uk/company/10477490\n",
      "Requesting: https://api.companieshouse.gov.uk/company/12363461\n",
      "Requesting: https://api.companieshouse.gov.uk/company/10295657\n",
      "Successfully obtained 500 records of company details\n",
      "Waiting for 300 seconds before starting another iteration...\n",
      "Initiating iteration number 2...\n",
      "Requesting: https://api.companieshouse.gov.uk/company/12298704\n",
      "Requesting: https://api.companieshouse.gov.uk/company/12932859\n",
      "Requesting: https://api.companieshouse.gov.uk/company/09584407\n",
      "Requesting: https://api.companieshouse.gov.uk/company/13421634\n",
      "Requesting: https://api.companieshouse.gov.uk/company/12447782\n",
      "Requesting: https://api.companieshouse.gov.uk/company/13129387\n",
      "Requesting: https://api.companieshouse.gov.uk/company/10794714\n",
      "Requesting: https://api.companieshouse.gov.uk/company/13220359\n",
      "Requesting: https://api.companieshouse.gov.uk/company/13410935\n",
      "Requesting: https://api.companieshouse.gov.uk/company/12713223\n",
      "Requesting: https://api.companieshouse.gov.uk/company/12757276\n",
      "Requesting: https://api.companieshouse.gov.uk/company/11575901\n",
      "Requesting: https://api.companieshouse.gov.uk/company/08700035\n",
      "Requesting: https://api.companieshouse.gov.uk/company/11959812\n",
      "Requesting: https://api.companieshouse.gov.uk/company/10909714\n",
      "Requesting: https://api.companieshouse.gov.uk/company/10814729\n",
      "Requesting: https://api.companieshouse.gov.uk/company/13352887\n",
      "Requesting: https://api.companieshouse.gov.uk/company/09766836\n",
      "Requesting: https://api.companieshouse.gov.uk/company/12687490\n",
      "Requesting: https://api.companieshouse.gov.uk/company/12006707\n",
      "Requesting: https://api.companieshouse.gov.uk/company/12376649\n",
      "Requesting: https://api.companieshouse.gov.uk/company/SC685368\n",
      "Requesting: https://api.companieshouse.gov.uk/company/13555670\n",
      "Requesting: https://api.companieshouse.gov.uk/company/SC645606\n",
      "Requesting: https://api.companieshouse.gov.uk/company/09752695\n",
      "Requesting: https://api.companieshouse.gov.uk/company/12481927\n",
      "Requesting: https://api.companieshouse.gov.uk/company/12328440\n",
      "Requesting: https://api.companieshouse.gov.uk/company/11555447\n",
      "Requesting: https://api.companieshouse.gov.uk/company/10911261\n",
      "Requesting: https://api.companieshouse.gov.uk/company/13538688\n",
      "Requesting: https://api.companieshouse.gov.uk/company/13417584\n",
      "Requesting: https://api.companieshouse.gov.uk/company/SC533869\n",
      "Requesting: https://api.companieshouse.gov.uk/company/12776048\n",
      "Requesting: https://api.companieshouse.gov.uk/company/12603518\n",
      "Requesting: https://api.companieshouse.gov.uk/company/11983848\n",
      "Requesting: https://api.companieshouse.gov.uk/company/11159649\n",
      "Requesting: https://api.companieshouse.gov.uk/company/12597711\n",
      "Requesting: https://api.companieshouse.gov.uk/company/13658498\n",
      "Requesting: https://api.companieshouse.gov.uk/company/11992081\n",
      "Requesting: https://api.companieshouse.gov.uk/company/13492237\n",
      "Requesting: https://api.companieshouse.gov.uk/company/10499676\n",
      "Requesting: https://api.companieshouse.gov.uk/company/13291895\n",
      "Requesting: https://api.companieshouse.gov.uk/company/10239962\n",
      "Requesting: https://api.companieshouse.gov.uk/company/13481990\n",
      "Requesting: https://api.companieshouse.gov.uk/company/12090326\n",
      "Requesting: https://api.companieshouse.gov.uk/company/12128591\n",
      "Requesting: https://api.companieshouse.gov.uk/company/10249020\n",
      "Requesting: https://api.companieshouse.gov.uk/company/SC640132\n",
      "Requesting: https://api.companieshouse.gov.uk/company/12455698\n",
      "Requesting: https://api.companieshouse.gov.uk/company/09821994\n",
      "Requesting: https://api.companieshouse.gov.uk/company/12275803\n",
      "Requesting: https://api.companieshouse.gov.uk/company/10285140\n",
      "Requesting: https://api.companieshouse.gov.uk/company/07054981\n",
      "Requesting: https://api.companieshouse.gov.uk/company/11486344\n",
      "Requesting: https://api.companieshouse.gov.uk/company/13274704\n",
      "Requesting: https://api.companieshouse.gov.uk/company/13494872\n",
      "Requesting: https://api.companieshouse.gov.uk/company/07060825\n",
      "Requesting: https://api.companieshouse.gov.uk/company/11118247\n",
      "Requesting: https://api.companieshouse.gov.uk/company/12815992\n",
      "Requesting: https://api.companieshouse.gov.uk/company/13264444\n",
      "Requesting: https://api.companieshouse.gov.uk/company/13628690\n",
      "Requesting: https://api.companieshouse.gov.uk/company/08729379\n",
      "Requesting: https://api.companieshouse.gov.uk/company/13586237\n",
      "Requesting: https://api.companieshouse.gov.uk/company/13445987\n",
      "Requesting: https://api.companieshouse.gov.uk/company/12978636\n",
      "Requesting: https://api.companieshouse.gov.uk/company/10973919\n",
      "Requesting: https://api.companieshouse.gov.uk/company/13295217\n",
      "Requesting: https://api.companieshouse.gov.uk/company/09638648\n",
      "Requesting: https://api.companieshouse.gov.uk/company/09764276\n",
      "Requesting: https://api.companieshouse.gov.uk/company/13454001\n",
      "Requesting: https://api.companieshouse.gov.uk/company/SC668165\n",
      "Requesting: https://api.companieshouse.gov.uk/company/06655493\n",
      "Requesting: https://api.companieshouse.gov.uk/company/13226445\n",
      "Requesting: https://api.companieshouse.gov.uk/company/12076467\n",
      "Requesting: https://api.companieshouse.gov.uk/company/12772755\n",
      "Requesting: https://api.companieshouse.gov.uk/company/11976763\n",
      "Requesting: https://api.companieshouse.gov.uk/company/12258841\n",
      "Requesting: https://api.companieshouse.gov.uk/company/12057743\n",
      "Requesting: https://api.companieshouse.gov.uk/company/06387453\n",
      "Requesting: https://api.companieshouse.gov.uk/company/12870787\n",
      "Requesting: https://api.companieshouse.gov.uk/company/08814082\n",
      "Requesting: https://api.companieshouse.gov.uk/company/11727455\n",
      "Requesting: https://api.companieshouse.gov.uk/company/06826074\n",
      "Requesting: https://api.companieshouse.gov.uk/company/13504701\n",
      "Requesting: https://api.companieshouse.gov.uk/company/SC703507\n",
      "Requesting: https://api.companieshouse.gov.uk/company/11606024\n",
      "Requesting: https://api.companieshouse.gov.uk/company/11745864\n",
      "Requesting: https://api.companieshouse.gov.uk/company/11521862\n",
      "Requesting: https://api.companieshouse.gov.uk/company/13283316\n",
      "Requesting: https://api.companieshouse.gov.uk/company/13349472\n",
      "Requesting: https://api.companieshouse.gov.uk/company/12960382\n",
      "Requesting: https://api.companieshouse.gov.uk/company/12587205\n",
      "Requesting: https://api.companieshouse.gov.uk/company/12339387\n",
      "Requesting: https://api.companieshouse.gov.uk/company/SC666592\n",
      "Requesting: https://api.companieshouse.gov.uk/company/10313012\n",
      "Requesting: https://api.companieshouse.gov.uk/company/12465641\n",
      "Requesting: https://api.companieshouse.gov.uk/company/10026854\n",
      "Requesting: https://api.companieshouse.gov.uk/company/08152527\n",
      "Requesting: https://api.companieshouse.gov.uk/company/10553274\n",
      "Requesting: https://api.companieshouse.gov.uk/company/12954776\n",
      "Requesting: https://api.companieshouse.gov.uk/company/12522012\n",
      "Requesting: https://api.companieshouse.gov.uk/company/10154726\n",
      "Requesting: https://api.companieshouse.gov.uk/company/13448170\n",
      "Requesting: https://api.companieshouse.gov.uk/company/11617060\n",
      "Requesting: https://api.companieshouse.gov.uk/company/12503714\n",
      "Requesting: https://api.companieshouse.gov.uk/company/13471268\n",
      "Requesting: https://api.companieshouse.gov.uk/company/12517069\n",
      "Requesting: https://api.companieshouse.gov.uk/company/SC575140\n",
      "Requesting: https://api.companieshouse.gov.uk/company/06374865\n",
      "Requesting: https://api.companieshouse.gov.uk/company/12412833\n",
      "Requesting: https://api.companieshouse.gov.uk/company/12700672\n",
      "Requesting: https://api.companieshouse.gov.uk/company/11883301\n",
      "Requesting: https://api.companieshouse.gov.uk/company/13159244\n",
      "Requesting: https://api.companieshouse.gov.uk/company/13640612\n",
      "Requesting: https://api.companieshouse.gov.uk/company/09175404\n",
      "Requesting: https://api.companieshouse.gov.uk/company/11855506\n",
      "Requesting: https://api.companieshouse.gov.uk/company/12152638\n",
      "Requesting: https://api.companieshouse.gov.uk/company/12514781\n",
      "Requesting: https://api.companieshouse.gov.uk/company/13767507\n",
      "Requesting: https://api.companieshouse.gov.uk/company/11115373\n",
      "Requesting: https://api.companieshouse.gov.uk/company/12575303\n",
      "Requesting: https://api.companieshouse.gov.uk/company/13768181\n",
      "Requesting: https://api.companieshouse.gov.uk/company/12288741\n",
      "Requesting: https://api.companieshouse.gov.uk/company/12810748\n",
      "Requesting: https://api.companieshouse.gov.uk/company/12511480\n",
      "Requesting: https://api.companieshouse.gov.uk/company/SC712851\n",
      "Requesting: https://api.companieshouse.gov.uk/company/12305459\n",
      "Requesting: https://api.companieshouse.gov.uk/company/12531262\n",
      "Requesting: https://api.companieshouse.gov.uk/company/SC712778\n",
      "Requesting: https://api.companieshouse.gov.uk/company/11738122\n",
      "Requesting: https://api.companieshouse.gov.uk/company/12097901\n",
      "Requesting: https://api.companieshouse.gov.uk/company/11357616\n",
      "Requesting: https://api.companieshouse.gov.uk/company/13660933\n",
      "Requesting: https://api.companieshouse.gov.uk/company/11564205\n",
      "Requesting: https://api.companieshouse.gov.uk/company/12144225\n",
      "Requesting: https://api.companieshouse.gov.uk/company/12359000\n",
      "Requesting: https://api.companieshouse.gov.uk/company/12472026\n",
      "Requesting: https://api.companieshouse.gov.uk/company/12236044\n",
      "Requesting: https://api.companieshouse.gov.uk/company/12199312\n",
      "Requesting: https://api.companieshouse.gov.uk/company/13577148\n",
      "Requesting: https://api.companieshouse.gov.uk/company/12467536\n",
      "Requesting: https://api.companieshouse.gov.uk/company/11951586\n",
      "Requesting: https://api.companieshouse.gov.uk/company/13281497\n",
      "Requesting: https://api.companieshouse.gov.uk/company/12261777\n",
      "Requesting: https://api.companieshouse.gov.uk/company/12090882\n",
      "Requesting: https://api.companieshouse.gov.uk/company/12569157\n",
      "Requesting: https://api.companieshouse.gov.uk/company/12597660\n",
      "Requesting: https://api.companieshouse.gov.uk/company/11066087\n",
      "Requesting: https://api.companieshouse.gov.uk/company/11527112\n",
      "Requesting: https://api.companieshouse.gov.uk/company/13724504\n",
      "Requesting: https://api.companieshouse.gov.uk/company/12546573\n",
      "Requesting: https://api.companieshouse.gov.uk/company/10032599\n",
      "Requesting: https://api.companieshouse.gov.uk/company/12250826\n",
      "Requesting: https://api.companieshouse.gov.uk/company/12388750\n",
      "Requesting: https://api.companieshouse.gov.uk/company/13142555\n",
      "Requesting: https://api.companieshouse.gov.uk/company/13490862\n",
      "Requesting: https://api.companieshouse.gov.uk/company/12673453\n",
      "Requesting: https://api.companieshouse.gov.uk/company/13617882\n",
      "Requesting: https://api.companieshouse.gov.uk/company/SC492696\n",
      "Requesting: https://api.companieshouse.gov.uk/company/13127547\n",
      "Requesting: https://api.companieshouse.gov.uk/company/08598894\n",
      "Requesting: https://api.companieshouse.gov.uk/company/11588642\n",
      "Requesting: https://api.companieshouse.gov.uk/company/07129992\n",
      "Requesting: https://api.companieshouse.gov.uk/company/07761867\n",
      "Requesting: https://api.companieshouse.gov.uk/company/08053518\n",
      "Requesting: https://api.companieshouse.gov.uk/company/09463171\n",
      "Requesting: https://api.companieshouse.gov.uk/company/13298564\n",
      "Requesting: https://api.companieshouse.gov.uk/company/12022461\n",
      "Requesting: https://api.companieshouse.gov.uk/company/13183148\n",
      "Requesting: https://api.companieshouse.gov.uk/company/13503670\n",
      "Requesting: https://api.companieshouse.gov.uk/company/11889748\n",
      "Requesting: https://api.companieshouse.gov.uk/company/SC654898\n",
      "Requesting: https://api.companieshouse.gov.uk/company/12988213\n",
      "Requesting: https://api.companieshouse.gov.uk/company/13297431\n",
      "Requesting: https://api.companieshouse.gov.uk/company/13322919\n",
      "Requesting: https://api.companieshouse.gov.uk/company/SC613474\n",
      "Requesting: https://api.companieshouse.gov.uk/company/08703165\n",
      "Requesting: https://api.companieshouse.gov.uk/company/13293022\n",
      "Requesting: https://api.companieshouse.gov.uk/company/11575305\n",
      "Requesting: https://api.companieshouse.gov.uk/company/13587033\n",
      "Requesting: https://api.companieshouse.gov.uk/company/13096820\n",
      "Requesting: https://api.companieshouse.gov.uk/company/09467420\n",
      "Requesting: https://api.companieshouse.gov.uk/company/10340902\n",
      "Requesting: https://api.companieshouse.gov.uk/company/12821836\n",
      "Requesting: https://api.companieshouse.gov.uk/company/11070903\n",
      "Requesting: https://api.companieshouse.gov.uk/company/11933007\n",
      "Requesting: https://api.companieshouse.gov.uk/company/11143445\n",
      "Requesting: https://api.companieshouse.gov.uk/company/11694624\n",
      "Requesting: https://api.companieshouse.gov.uk/company/10734785\n",
      "Requesting: https://api.companieshouse.gov.uk/company/11188408\n",
      "Requesting: https://api.companieshouse.gov.uk/company/05701659\n",
      "Requesting: https://api.companieshouse.gov.uk/company/12722948\n",
      "Requesting: https://api.companieshouse.gov.uk/company/13394620\n",
      "Requesting: https://api.companieshouse.gov.uk/company/10785405\n",
      "Requesting: https://api.companieshouse.gov.uk/company/13369179\n",
      "Requesting: https://api.companieshouse.gov.uk/company/13085520\n",
      "Requesting: https://api.companieshouse.gov.uk/company/10477684\n",
      "Requesting: https://api.companieshouse.gov.uk/company/11368534\n",
      "Requesting: https://api.companieshouse.gov.uk/company/11001154\n",
      "Requesting: https://api.companieshouse.gov.uk/company/13487352\n",
      "Requesting: https://api.companieshouse.gov.uk/company/13523056\n",
      "Requesting: https://api.companieshouse.gov.uk/company/10943853\n",
      "Requesting: https://api.companieshouse.gov.uk/company/11051721\n",
      "Requesting: https://api.companieshouse.gov.uk/company/13092077\n",
      "Requesting: https://api.companieshouse.gov.uk/company/13605802\n",
      "Requesting: https://api.companieshouse.gov.uk/company/13437069\n",
      "Requesting: https://api.companieshouse.gov.uk/company/13089305\n",
      "Requesting: https://api.companieshouse.gov.uk/company/13479442\n",
      "Requesting: https://api.companieshouse.gov.uk/company/13669922\n",
      "Requesting: https://api.companieshouse.gov.uk/company/12029046\n",
      "Requesting: https://api.companieshouse.gov.uk/company/10499767\n",
      "Requesting: https://api.companieshouse.gov.uk/company/11843008\n",
      "Requesting: https://api.companieshouse.gov.uk/company/13646080\n",
      "Requesting: https://api.companieshouse.gov.uk/company/10670387\n",
      "Requesting: https://api.companieshouse.gov.uk/company/11747231\n",
      "Requesting: https://api.companieshouse.gov.uk/company/SC665184\n",
      "Requesting: https://api.companieshouse.gov.uk/company/09420919\n",
      "Requesting: https://api.companieshouse.gov.uk/company/12869354\n",
      "Requesting: https://api.companieshouse.gov.uk/company/07263276\n",
      "Requesting: https://api.companieshouse.gov.uk/company/11250383\n",
      "Requesting: https://api.companieshouse.gov.uk/company/13395903\n",
      "Requesting: https://api.companieshouse.gov.uk/company/13078010\n",
      "Requesting: https://api.companieshouse.gov.uk/company/13297669\n",
      "Requesting: https://api.companieshouse.gov.uk/company/13260092\n",
      "Requesting: https://api.companieshouse.gov.uk/company/12619466\n",
      "Requesting: https://api.companieshouse.gov.uk/company/11205867\n",
      "Requesting: https://api.companieshouse.gov.uk/company/12168623\n",
      "Requesting: https://api.companieshouse.gov.uk/company/12650544\n",
      "Requesting: https://api.companieshouse.gov.uk/company/13195042\n",
      "Requesting: https://api.companieshouse.gov.uk/company/11394728\n",
      "Requesting: https://api.companieshouse.gov.uk/company/12900958\n",
      "Requesting: https://api.companieshouse.gov.uk/company/09772837\n",
      "Requesting: https://api.companieshouse.gov.uk/company/12685632\n",
      "Requesting: https://api.companieshouse.gov.uk/company/13159703\n",
      "Requesting: https://api.companieshouse.gov.uk/company/12902983\n",
      "Requesting: https://api.companieshouse.gov.uk/company/11463948\n",
      "Requesting: https://api.companieshouse.gov.uk/company/12968848\n",
      "Requesting: https://api.companieshouse.gov.uk/company/13664710\n",
      "Requesting: https://api.companieshouse.gov.uk/company/12662500\n",
      "Requesting: https://api.companieshouse.gov.uk/company/12887980\n",
      "Requesting: https://api.companieshouse.gov.uk/company/10056353\n",
      "Requesting: https://api.companieshouse.gov.uk/company/09211909\n",
      "Requesting: https://api.companieshouse.gov.uk/company/SC467084\n",
      "Requesting: https://api.companieshouse.gov.uk/company/NI641652\n",
      "Requesting: https://api.companieshouse.gov.uk/company/10702909\n",
      "Requesting: https://api.companieshouse.gov.uk/company/12422022\n",
      "Requesting: https://api.companieshouse.gov.uk/company/13354378\n",
      "Requesting: https://api.companieshouse.gov.uk/company/12581918\n",
      "Requesting: https://api.companieshouse.gov.uk/company/12633349\n",
      "Requesting: https://api.companieshouse.gov.uk/company/11086079\n",
      "Requesting: https://api.companieshouse.gov.uk/company/07307090\n",
      "Requesting: https://api.companieshouse.gov.uk/company/10761388\n",
      "Requesting: https://api.companieshouse.gov.uk/company/11669735\n",
      "Requesting: https://api.companieshouse.gov.uk/company/13603985\n",
      "Requesting: https://api.companieshouse.gov.uk/company/10739621\n",
      "Requesting: https://api.companieshouse.gov.uk/company/09140270\n",
      "Requesting: https://api.companieshouse.gov.uk/company/13179070\n",
      "Requesting: https://api.companieshouse.gov.uk/company/12891089\n",
      "Requesting: https://api.companieshouse.gov.uk/company/07777507\n",
      "Requesting: https://api.companieshouse.gov.uk/company/09757854\n",
      "Requesting: https://api.companieshouse.gov.uk/company/11202523\n",
      "Requesting: https://api.companieshouse.gov.uk/company/09638914\n",
      "Requesting: https://api.companieshouse.gov.uk/company/13085023\n",
      "Requesting: https://api.companieshouse.gov.uk/company/13066460\n",
      "Requesting: https://api.companieshouse.gov.uk/company/12997371\n",
      "Requesting: https://api.companieshouse.gov.uk/company/12287649\n",
      "Requesting: https://api.companieshouse.gov.uk/company/13630271\n",
      "Requesting: https://api.companieshouse.gov.uk/company/10219512\n",
      "Requesting: https://api.companieshouse.gov.uk/company/13604879\n",
      "Requesting: https://api.companieshouse.gov.uk/company/07585016\n",
      "Requesting: https://api.companieshouse.gov.uk/company/SC677106\n",
      "Requesting: https://api.companieshouse.gov.uk/company/10933490\n",
      "Requesting: https://api.companieshouse.gov.uk/company/12627193\n",
      "Requesting: https://api.companieshouse.gov.uk/company/13296977\n",
      "Requesting: https://api.companieshouse.gov.uk/company/09378227\n",
      "Requesting: https://api.companieshouse.gov.uk/company/11435376\n",
      "Requesting: https://api.companieshouse.gov.uk/company/11743140\n",
      "Requesting: https://api.companieshouse.gov.uk/company/13319807\n",
      "Requesting: https://api.companieshouse.gov.uk/company/13758302\n",
      "Requesting: https://api.companieshouse.gov.uk/company/12112021\n",
      "Requesting: https://api.companieshouse.gov.uk/company/13065939\n",
      "Requesting: https://api.companieshouse.gov.uk/company/11944259\n",
      "Requesting: https://api.companieshouse.gov.uk/company/10956034\n",
      "Requesting: https://api.companieshouse.gov.uk/company/13669156\n",
      "Requesting: https://api.companieshouse.gov.uk/company/13570153\n",
      "Requesting: https://api.companieshouse.gov.uk/company/12925773\n",
      "Requesting: https://api.companieshouse.gov.uk/company/09338309\n",
      "Requesting: https://api.companieshouse.gov.uk/company/10761476\n",
      "Requesting: https://api.companieshouse.gov.uk/company/13379185\n",
      "Requesting: https://api.companieshouse.gov.uk/company/09694739\n",
      "Requesting: https://api.companieshouse.gov.uk/company/NI682744\n",
      "Requesting: https://api.companieshouse.gov.uk/company/09971058\n",
      "Requesting: https://api.companieshouse.gov.uk/company/12273545\n",
      "Requesting: https://api.companieshouse.gov.uk/company/13669359\n",
      "Requesting: https://api.companieshouse.gov.uk/company/11694035\n",
      "Requesting: https://api.companieshouse.gov.uk/company/13430488\n",
      "Requesting: https://api.companieshouse.gov.uk/company/12809828\n",
      "Requesting: https://api.companieshouse.gov.uk/company/12801564\n",
      "Requesting: https://api.companieshouse.gov.uk/company/13245965\n",
      "Requesting: https://api.companieshouse.gov.uk/company/08106545\n",
      "Requesting: https://api.companieshouse.gov.uk/company/06845379\n",
      "Requesting: https://api.companieshouse.gov.uk/company/11848656\n",
      "Requesting: https://api.companieshouse.gov.uk/company/11094495\n",
      "Requesting: https://api.companieshouse.gov.uk/company/13232167\n",
      "Requesting: https://api.companieshouse.gov.uk/company/12668218\n",
      "Requesting: https://api.companieshouse.gov.uk/company/11151318\n",
      "Requesting: https://api.companieshouse.gov.uk/company/13271540\n",
      "Requesting: https://api.companieshouse.gov.uk/company/12057632\n",
      "Requesting: https://api.companieshouse.gov.uk/company/12049647\n",
      "Requesting: https://api.companieshouse.gov.uk/company/13612148\n",
      "Requesting: https://api.companieshouse.gov.uk/company/11029540\n",
      "Requesting: https://api.companieshouse.gov.uk/company/10522144\n",
      "Requesting: https://api.companieshouse.gov.uk/company/SC627355\n",
      "Requesting: https://api.companieshouse.gov.uk/company/12710444\n",
      "Requesting: https://api.companieshouse.gov.uk/company/11772269\n",
      "Requesting: https://api.companieshouse.gov.uk/company/11195080\n",
      "Requesting: https://api.companieshouse.gov.uk/company/10187738\n",
      "Requesting: https://api.companieshouse.gov.uk/company/11665298\n",
      "Requesting: https://api.companieshouse.gov.uk/company/11769249\n",
      "Requesting: https://api.companieshouse.gov.uk/company/SC698468\n",
      "Requesting: https://api.companieshouse.gov.uk/company/13058514\n",
      "Requesting: https://api.companieshouse.gov.uk/company/13278021\n",
      "Requesting: https://api.companieshouse.gov.uk/company/13560059\n",
      "Requesting: https://api.companieshouse.gov.uk/company/13367486\n",
      "Requesting: https://api.companieshouse.gov.uk/company/13031953\n",
      "Requesting: https://api.companieshouse.gov.uk/company/11635594\n",
      "Requesting: https://api.companieshouse.gov.uk/company/12361199\n",
      "Requesting: https://api.companieshouse.gov.uk/company/13579073\n",
      "Requesting: https://api.companieshouse.gov.uk/company/05572765\n",
      "Requesting: https://api.companieshouse.gov.uk/company/11243825\n",
      "Requesting: https://api.companieshouse.gov.uk/company/09134227\n",
      "Requesting: https://api.companieshouse.gov.uk/company/07811519\n",
      "Requesting: https://api.companieshouse.gov.uk/company/13485616\n",
      "Requesting: https://api.companieshouse.gov.uk/company/11624422\n",
      "Requesting: https://api.companieshouse.gov.uk/company/10389443\n",
      "Requesting: https://api.companieshouse.gov.uk/company/11729290\n",
      "Requesting: https://api.companieshouse.gov.uk/company/07103242\n",
      "Requesting: https://api.companieshouse.gov.uk/company/03370524\n",
      "Requesting: https://api.companieshouse.gov.uk/company/03491612\n",
      "Requesting: https://api.companieshouse.gov.uk/company/02994470\n",
      "Requesting: https://api.companieshouse.gov.uk/company/07353195\n",
      "Requesting: https://api.companieshouse.gov.uk/company/05983129\n",
      "Requesting: https://api.companieshouse.gov.uk/company/11917220\n",
      "Requesting: https://api.companieshouse.gov.uk/company/11856717\n",
      "Requesting: https://api.companieshouse.gov.uk/company/13210112\n",
      "Requesting: https://api.companieshouse.gov.uk/company/09243937\n",
      "Requesting: https://api.companieshouse.gov.uk/company/13437031\n",
      "Requesting: https://api.companieshouse.gov.uk/company/12614714\n",
      "Requesting: https://api.companieshouse.gov.uk/company/13405753\n",
      "Requesting: https://api.companieshouse.gov.uk/company/10435137\n",
      "Requesting: https://api.companieshouse.gov.uk/company/10434885\n",
      "Requesting: https://api.companieshouse.gov.uk/company/13344603\n",
      "Requesting: https://api.companieshouse.gov.uk/company/13518510\n",
      "Requesting: https://api.companieshouse.gov.uk/company/08088004\n",
      "Requesting: https://api.companieshouse.gov.uk/company/08235675\n",
      "Requesting: https://api.companieshouse.gov.uk/company/13437412\n",
      "Requesting: https://api.companieshouse.gov.uk/company/13540038\n",
      "Requesting: https://api.companieshouse.gov.uk/company/12259075\n",
      "Requesting: https://api.companieshouse.gov.uk/company/08788928\n",
      "Requesting: https://api.companieshouse.gov.uk/company/11352046\n",
      "Requesting: https://api.companieshouse.gov.uk/company/12785920\n",
      "Requesting: https://api.companieshouse.gov.uk/company/12789999\n",
      "Requesting: https://api.companieshouse.gov.uk/company/12544109\n",
      "Requesting: https://api.companieshouse.gov.uk/company/10695261\n",
      "Requesting: https://api.companieshouse.gov.uk/company/10392784\n",
      "Requesting: https://api.companieshouse.gov.uk/company/12881040\n",
      "Requesting: https://api.companieshouse.gov.uk/company/10686137\n",
      "Requesting: https://api.companieshouse.gov.uk/company/11070373\n",
      "Requesting: https://api.companieshouse.gov.uk/company/12635418\n",
      "Requesting: https://api.companieshouse.gov.uk/company/10990882\n",
      "Requesting: https://api.companieshouse.gov.uk/company/08325160\n",
      "Requesting: https://api.companieshouse.gov.uk/company/11494421\n",
      "Requesting: https://api.companieshouse.gov.uk/company/10721046\n",
      "Requesting: https://api.companieshouse.gov.uk/company/12024709\n",
      "Requesting: https://api.companieshouse.gov.uk/company/08131134\n",
      "Requesting: https://api.companieshouse.gov.uk/company/SC535834\n",
      "Requesting: https://api.companieshouse.gov.uk/company/10199089\n",
      "Requesting: https://api.companieshouse.gov.uk/company/10629724\n",
      "Requesting: https://api.companieshouse.gov.uk/company/10376776\n",
      "Requesting: https://api.companieshouse.gov.uk/company/10457021\n",
      "Requesting: https://api.companieshouse.gov.uk/company/12016033\n",
      "Requesting: https://api.companieshouse.gov.uk/company/11280481\n",
      "Requesting: https://api.companieshouse.gov.uk/company/09105442\n",
      "Requesting: https://api.companieshouse.gov.uk/company/10405435\n",
      "Requesting: https://api.companieshouse.gov.uk/company/10932649\n",
      "Requesting: https://api.companieshouse.gov.uk/company/10921892\n",
      "Requesting: https://api.companieshouse.gov.uk/company/SC608520\n",
      "Requesting: https://api.companieshouse.gov.uk/company/10338878\n",
      "Requesting: https://api.companieshouse.gov.uk/company/11541959\n",
      "Requesting: https://api.companieshouse.gov.uk/company/11119984\n",
      "Requesting: https://api.companieshouse.gov.uk/company/09697608\n",
      "Requesting: https://api.companieshouse.gov.uk/company/11533989\n",
      "Requesting: https://api.companieshouse.gov.uk/company/12146039\n",
      "Requesting: https://api.companieshouse.gov.uk/company/10844376\n",
      "Requesting: https://api.companieshouse.gov.uk/company/11959130\n",
      "Requesting: https://api.companieshouse.gov.uk/company/11557237\n",
      "Requesting: https://api.companieshouse.gov.uk/company/12194022\n",
      "Requesting: https://api.companieshouse.gov.uk/company/11059447\n",
      "Requesting: https://api.companieshouse.gov.uk/company/11480757\n",
      "Requesting: https://api.companieshouse.gov.uk/company/08330413\n",
      "Requesting: https://api.companieshouse.gov.uk/company/10247903\n",
      "Requesting: https://api.companieshouse.gov.uk/company/05121580\n",
      "Requesting: https://api.companieshouse.gov.uk/company/03927286\n",
      "Requesting: https://api.companieshouse.gov.uk/company/05512224\n",
      "Requesting: https://api.companieshouse.gov.uk/company/11133055\n",
      "Requesting: https://api.companieshouse.gov.uk/company/09019395\n",
      "Requesting: https://api.companieshouse.gov.uk/company/11493729\n",
      "Requesting: https://api.companieshouse.gov.uk/company/10854678\n",
      "Requesting: https://api.companieshouse.gov.uk/company/11378395\n",
      "Requesting: https://api.companieshouse.gov.uk/company/09707008\n",
      "Requesting: https://api.companieshouse.gov.uk/company/11367078\n",
      "Requesting: https://api.companieshouse.gov.uk/company/09985413\n",
      "Requesting: https://api.companieshouse.gov.uk/company/10648862\n",
      "Requesting: https://api.companieshouse.gov.uk/company/11399921\n",
      "Requesting: https://api.companieshouse.gov.uk/company/10729776\n",
      "Requesting: https://api.companieshouse.gov.uk/company/10542275\n",
      "Requesting: https://api.companieshouse.gov.uk/company/09209547\n",
      "Requesting: https://api.companieshouse.gov.uk/company/09137046\n",
      "Requesting: https://api.companieshouse.gov.uk/company/10917884\n",
      "Requesting: https://api.companieshouse.gov.uk/company/10826785\n",
      "Requesting: https://api.companieshouse.gov.uk/company/10608239\n",
      "Requesting: https://api.companieshouse.gov.uk/company/11081650\n",
      "Requesting: https://api.companieshouse.gov.uk/company/11253152\n",
      "Requesting: https://api.companieshouse.gov.uk/company/10751527\n",
      "Requesting: https://api.companieshouse.gov.uk/company/12053207\n",
      "Requesting: https://api.companieshouse.gov.uk/company/11713233\n",
      "Requesting: https://api.companieshouse.gov.uk/company/07541051\n",
      "Requesting: https://api.companieshouse.gov.uk/company/10432933\n",
      "Requesting: https://api.companieshouse.gov.uk/company/SC596377\n",
      "Requesting: https://api.companieshouse.gov.uk/company/11283580\n",
      "Requesting: https://api.companieshouse.gov.uk/company/09830358\n",
      "Requesting: https://api.companieshouse.gov.uk/company/11166043\n",
      "Requesting: https://api.companieshouse.gov.uk/company/10383124\n",
      "Requesting: https://api.companieshouse.gov.uk/company/11067244\n",
      "Requesting: https://api.companieshouse.gov.uk/company/10128935\n",
      "Requesting: https://api.companieshouse.gov.uk/company/09942972\n",
      "Requesting: https://api.companieshouse.gov.uk/company/10863378\n",
      "Requesting: https://api.companieshouse.gov.uk/company/10739017\n",
      "Requesting: https://api.companieshouse.gov.uk/company/SC576537\n",
      "Requesting: https://api.companieshouse.gov.uk/company/09266747\n",
      "Requesting: https://api.companieshouse.gov.uk/company/11104524\n",
      "Requesting: https://api.companieshouse.gov.uk/company/10571408\n",
      "Requesting: https://api.companieshouse.gov.uk/company/09993627\n",
      "Requesting: https://api.companieshouse.gov.uk/company/10440726\n",
      "Requesting: https://api.companieshouse.gov.uk/company/11014624\n",
      "Requesting: https://api.companieshouse.gov.uk/company/09893975\n",
      "Requesting: https://api.companieshouse.gov.uk/company/10691208\n",
      "Requesting: https://api.companieshouse.gov.uk/company/10791244\n",
      "Requesting: https://api.companieshouse.gov.uk/company/10982331\n",
      "Requesting: https://api.companieshouse.gov.uk/company/09930641\n",
      "Requesting: https://api.companieshouse.gov.uk/company/11559551\n",
      "Requesting: https://api.companieshouse.gov.uk/company/10694150\n",
      "Requesting: https://api.companieshouse.gov.uk/company/09820387\n",
      "Requesting: https://api.companieshouse.gov.uk/company/10523921\n",
      "Requesting: https://api.companieshouse.gov.uk/company/11058725\n",
      "Requesting: https://api.companieshouse.gov.uk/company/10584873\n",
      "Requesting: https://api.companieshouse.gov.uk/company/09919816\n",
      "Requesting: https://api.companieshouse.gov.uk/company/10562985\n",
      "Requesting: https://api.companieshouse.gov.uk/company/09641742\n",
      "Requesting: https://api.companieshouse.gov.uk/company/09721058\n",
      "Requesting: https://api.companieshouse.gov.uk/company/07490901\n",
      "Requesting: https://api.companieshouse.gov.uk/company/10779920\n",
      "Requesting: https://api.companieshouse.gov.uk/company/10159302\n",
      "Requesting: https://api.companieshouse.gov.uk/company/09346703\n",
      "Requesting: https://api.companieshouse.gov.uk/company/07366633\n",
      "Requesting: https://api.companieshouse.gov.uk/company/10727252\n",
      "Requesting: https://api.companieshouse.gov.uk/company/10706908\n",
      "Requesting: https://api.companieshouse.gov.uk/company/04733221\n",
      "Requesting: https://api.companieshouse.gov.uk/company/10696488\n",
      "Requesting: https://api.companieshouse.gov.uk/company/11220312\n",
      "Requesting: https://api.companieshouse.gov.uk/company/10660020\n",
      "Requesting: https://api.companieshouse.gov.uk/company/09159487\n",
      "Requesting: https://api.companieshouse.gov.uk/company/10576214\n",
      "Requesting: https://api.companieshouse.gov.uk/company/09029085\n",
      "Requesting: https://api.companieshouse.gov.uk/company/11218036\n",
      "Requesting: https://api.companieshouse.gov.uk/company/10575943\n",
      "Requesting: https://api.companieshouse.gov.uk/company/08292880\n",
      "Requesting: https://api.companieshouse.gov.uk/company/10128715\n",
      "Requesting: https://api.companieshouse.gov.uk/company/09382826\n",
      "Requesting: https://api.companieshouse.gov.uk/company/10653845\n",
      "Requesting: https://api.companieshouse.gov.uk/company/10582583\n",
      "Requesting: https://api.companieshouse.gov.uk/company/10778709\n",
      "Requesting: https://api.companieshouse.gov.uk/company/11153691\n",
      "Requesting: https://api.companieshouse.gov.uk/company/09953483\n",
      "Requesting: https://api.companieshouse.gov.uk/company/11040833\n",
      "Requesting: https://api.companieshouse.gov.uk/company/10486751\n",
      "Requesting: https://api.companieshouse.gov.uk/company/10461598\n",
      "Requesting: https://api.companieshouse.gov.uk/company/09387205\n",
      "Requesting: https://api.companieshouse.gov.uk/company/10407900\n",
      "Requesting: https://api.companieshouse.gov.uk/company/08789287\n",
      "Requesting: https://api.companieshouse.gov.uk/company/07267424\n",
      "Requesting: https://api.companieshouse.gov.uk/company/10394221\n",
      "Requesting: https://api.companieshouse.gov.uk/company/06608497\n",
      "Requesting: https://api.companieshouse.gov.uk/company/09802079\n",
      "Requesting: https://api.companieshouse.gov.uk/company/08790487\n",
      "Requesting: https://api.companieshouse.gov.uk/company/10370164\n",
      "Requesting: https://api.companieshouse.gov.uk/company/10108689\n",
      "Requesting: https://api.companieshouse.gov.uk/company/10391750\n",
      "Requesting: https://api.companieshouse.gov.uk/company/10613015\n",
      "Requesting: https://api.companieshouse.gov.uk/company/10254959\n",
      "Successfully obtained 1000 records of company details\n",
      "API request is finished\n"
     ]
    }
   ],
   "source": [
    "# Get kebab and sushi company details\n",
    "kebab_company_detail_df = get_company_details(kebab_df)\n",
    "time.sleep(300)\n",
    "sushi_company_detail_df = get_company_details(sushi_df)"
   ]
  },
  {
   "cell_type": "code",
   "execution_count": 9,
   "id": "ea051337",
   "metadata": {},
   "outputs": [],
   "source": [
    "# Merge company details into the original dataframe\n",
    "kebab_df = kebab_df.merge(kebab_company_detail_df[['company_number','sic_codes']], how = 'left', left_on = 'company_number', right_on = 'company_number')\n",
    "sushi_df = sushi_df.merge(sushi_company_detail_df[['company_number','sic_codes']], how = 'left', left_on = 'company_number', right_on = 'company_number')"
   ]
  },
  {
   "cell_type": "markdown",
   "id": "elementary-nightlife",
   "metadata": {},
   "source": [
    "### 1C. Parse date_of_creation and date_of_cessation to extract creation_year and cessation_year"
   ]
  },
  {
   "cell_type": "code",
   "execution_count": 10,
   "id": "significant-bradley",
   "metadata": {},
   "outputs": [],
   "source": [
    "# Clean date format\n",
    "def remove_incorrect_date_of_creation(df):\n",
    "    date_of_creation_format=[]\n",
    "    for i,col in df['date_of_creation'].items():\n",
    "        if str(col) != 'nan':\n",
    "            try:\n",
    "                datetime.strptime(str(col), '%Y-%m-%d') # All dates must be in YYYY-MM-DD format\n",
    "                date_of_creation_format.append(\"Correct\")\n",
    "            except ValueError:\n",
    "                date_of_creation_format.append(\"Incorrect\") \n",
    "        else:\n",
    "            date_of_creation_format.append(\"Correct\")\n",
    "    df['date_of_creation_format'] = date_of_creation_format\n",
    "    df = df[df['date_of_creation_format']=='Correct']\n",
    "    \n",
    "    return df\n",
    "        \n",
    "def remove_incorrect_date_of_cessation(df):\n",
    "    date_of_cessation_format=[]\n",
    "    for i,col in df['date_of_cessation'].items():\n",
    "        if str(col) != 'nan':\n",
    "            try:\n",
    "                datetime.strptime(str(col), '%Y-%m-%d') # All dates must be in YYYY-MM-DD format\n",
    "                date_of_cessation_format.append(\"Correct\")\n",
    "            except ValueError:\n",
    "                date_of_cessation_format.append(\"Incorrect\") \n",
    "        else:\n",
    "            date_of_cessation_format.append(\"Correct\")       \n",
    "    df['date_of_cessation_format'] = date_of_cessation_format\n",
    "    df = df[df['date_of_cessation_format']=='Correct']\n",
    "    return df"
   ]
  },
  {
   "cell_type": "code",
   "execution_count": 11,
   "id": "framed-gilbert",
   "metadata": {},
   "outputs": [],
   "source": [
    "# Clean date format\n",
    "kebab_df = remove_incorrect_date_of_creation(kebab_df)\n",
    "kebab_df = remove_incorrect_date_of_cessation(kebab_df)\n",
    "\n",
    "sushi_df = remove_incorrect_date_of_creation(sushi_df)\n",
    "sushi_df = remove_incorrect_date_of_cessation(sushi_df)"
   ]
  },
  {
   "cell_type": "code",
   "execution_count": 12,
   "id": "opponent-given",
   "metadata": {},
   "outputs": [],
   "source": [
    "# Extract year from date_of_creation\n",
    "def get_creation_year(df):\n",
    "    creation_year=[]\n",
    "    for i,col in df['date_of_creation'].items():\n",
    "        if str(col) != 'nan':\n",
    "            creation_year.append(pd.to_datetime(col, format='%Y-%m-%d').strftime('%Y'))\n",
    "        else:\n",
    "            creation_year.append(np.nan)\n",
    "    return creation_year"
   ]
  },
  {
   "cell_type": "code",
   "execution_count": 13,
   "id": "talented-scout",
   "metadata": {},
   "outputs": [],
   "source": [
    "# Extract year from date_of_cessation\n",
    "def get_cessation_year(df):\n",
    "    cessation_year=[]\n",
    "    for i,col in df['date_of_cessation'].items():\n",
    "        if str(col) != 'nan':\n",
    "            cessation_year.append(pd.to_datetime(col, format='%Y-%m-%d').strftime('%Y'))\n",
    "        else:\n",
    "            cessation_year.append(np.nan)\n",
    "    return cessation_year"
   ]
  },
  {
   "cell_type": "code",
   "execution_count": 14,
   "id": "executive-immune",
   "metadata": {},
   "outputs": [],
   "source": [
    "# Add creation year into dataframe\n",
    "kebab_df['creation_year'] = get_creation_year(kebab_df)\n",
    "sushi_df['creation_year'] = get_creation_year(sushi_df)\n",
    "\n",
    "# Add cessation year into dataframe\n",
    "kebab_df['cessation_year'] = get_cessation_year(kebab_df)\n",
    "sushi_df['cessation_year'] = get_cessation_year(sushi_df)"
   ]
  },
  {
   "cell_type": "markdown",
   "id": "electoral-copper",
   "metadata": {},
   "source": [
    "### 1D. Parse address to get postal_code"
   ]
  },
  {
   "cell_type": "code",
   "execution_count": 15,
   "id": "initial-warren",
   "metadata": {},
   "outputs": [],
   "source": [
    "# Create a function to parse the address\n",
    "def parse_address(df):\n",
    "    df = df.assign(**pd.DataFrame(df['address'].values.tolist()))\n",
    "    return df"
   ]
  },
  {
   "cell_type": "code",
   "execution_count": 16,
   "id": "experienced-inspector",
   "metadata": {},
   "outputs": [],
   "source": [
    "# Parse the address\n",
    "kebab_df = parse_address(kebab_df)\n",
    "sushi_df = parse_address(sushi_df)"
   ]
  },
  {
   "cell_type": "markdown",
   "id": "seasonal-manufacturer",
   "metadata": {},
   "source": [
    "### 1E. Get latitude, longitude, state_name, and county_name from postal_code"
   ]
  },
  {
   "cell_type": "code",
   "execution_count": 17,
   "id": "clinical-usage",
   "metadata": {},
   "outputs": [],
   "source": [
    "# Create a function to get the location details from postal_code\n",
    "def get_coordinates(df):\n",
    "    latitude = []\n",
    "    longitude = []\n",
    "    county_name = []\n",
    "    state_name = []\n",
    "    for i,col in df['postal_code'].items():\n",
    "        if str(col) != 'nan':\n",
    "            latitude.append(pgeocode.Nominatim('gb').query_postal_code(col)['latitude'])\n",
    "            longitude.append(pgeocode.Nominatim('gb').query_postal_code(col)['longitude'])  \n",
    "            county_name.append(pgeocode.Nominatim('gb').query_postal_code(col)['county_name'])\n",
    "            state_name.append(pgeocode.Nominatim('gb').query_postal_code(col)['state_name'])\n",
    "        else:\n",
    "            latitude.append(np.nan)\n",
    "            longitude.append(np.nan)\n",
    "            county_name.append(np.nan)\n",
    "            county_name.append(np.nan)\n",
    "        \n",
    "    df['latitude'] = latitude\n",
    "    df['longitude'] = longitude\n",
    "    df['county_name'] = county_name\n",
    "    df['state_name'] = state_name\n",
    "    \n",
    "    return df"
   ]
  },
  {
   "cell_type": "code",
   "execution_count": 18,
   "id": "demonstrated-encoding",
   "metadata": {},
   "outputs": [
    {
     "name": "stdout",
     "output_type": "stream",
     "text": [
      "CPU times: user 4min 58s, sys: 23.5 s, total: 5min 22s\n",
      "Wall time: 5min 23s\n"
     ]
    }
   ],
   "source": [
    "%%time\n",
    "kebab_df = get_coordinates(kebab_df)\n",
    "sushi_df = get_coordinates(sushi_df)"
   ]
  },
  {
   "cell_type": "markdown",
   "id": "delayed-blond",
   "metadata": {},
   "source": [
    "# 2. Data cleaning"
   ]
  },
  {
   "cell_type": "markdown",
   "id": "effective-adventure",
   "metadata": {},
   "source": [
    "### 2A. Handling missing data"
   ]
  },
  {
   "cell_type": "code",
   "execution_count": 19,
   "id": "associate-caribbean",
   "metadata": {},
   "outputs": [],
   "source": [
    "# Create a function to calculate the percentage of null values in the dataframe\n",
    "def check_missing_values(df, df_name):\n",
    "    print(f'Percentage of null values in {df_name}')\n",
    "    print('---------------------------------------------')\n",
    "    for i, col in df.items():\n",
    "        count_null = col.isnull()\n",
    "        percentage_null = count_null.sum() * 100.0 / np.shape(df)[0]\n",
    "        print(f'Percentage of null values in column {i} = {percentage_null}%')"
   ]
  },
  {
   "cell_type": "code",
   "execution_count": 20,
   "id": "bacterial-relation",
   "metadata": {},
   "outputs": [
    {
     "name": "stdout",
     "output_type": "stream",
     "text": [
      "Percentage of null values in Kebab Dataframe\n",
      "---------------------------------------------\n",
      "Percentage of null values in column company_number = 0.0%\n",
      "Percentage of null values in column title = 0.0%\n",
      "Percentage of null values in column snippet = 0.0%\n",
      "Percentage of null values in column description = 0.0%\n",
      "Percentage of null values in column description_identifier = 0.0%\n",
      "Percentage of null values in column company_type = 0.0%\n",
      "Percentage of null values in column company_status = 0.0%\n",
      "Percentage of null values in column date_of_creation = 0.0%\n",
      "Percentage of null values in column date_of_cessation = 66.5%\n",
      "Percentage of null values in column links = 0.0%\n",
      "Percentage of null values in column matches = 0.0%\n",
      "Percentage of null values in column address = 0.0%\n",
      "Percentage of null values in column address_snippet = 0.0%\n",
      "Percentage of null values in column sic_codes = 5.9%\n",
      "Percentage of null values in column date_of_creation_format = 0.0%\n",
      "Percentage of null values in column date_of_cessation_format = 0.0%\n",
      "Percentage of null values in column creation_year = 0.0%\n",
      "Percentage of null values in column cessation_year = 66.5%\n",
      "Percentage of null values in column address_line_1 = 1.7%\n",
      "Percentage of null values in column premises = 0.0%\n",
      "Percentage of null values in column country = 12.4%\n",
      "Percentage of null values in column locality = 0.1%\n",
      "Percentage of null values in column postal_code = 0.0%\n",
      "Percentage of null values in column address_line_2 = 83.7%\n",
      "Percentage of null values in column region = 75.3%\n",
      "Percentage of null values in column care_of_name = 99.8%\n",
      "Percentage of null values in column latitude = 2.3%\n",
      "Percentage of null values in column longitude = 2.3%\n",
      "Percentage of null values in column county_name = 3.0%\n",
      "Percentage of null values in column state_name = 2.3%\n",
      "\n",
      "\n",
      "Percentage of null values in Sushi Dataframe\n",
      "---------------------------------------------\n",
      "Percentage of null values in column company_number = 0.0%\n",
      "Percentage of null values in column title = 0.0%\n",
      "Percentage of null values in column snippet = 0.0%\n",
      "Percentage of null values in column description = 0.0%\n",
      "Percentage of null values in column description_identifier = 0.0%\n",
      "Percentage of null values in column company_type = 0.0%\n",
      "Percentage of null values in column company_status = 0.0%\n",
      "Percentage of null values in column date_of_creation = 0.0%\n",
      "Percentage of null values in column date_of_cessation = 65.9%\n",
      "Percentage of null values in column links = 0.0%\n",
      "Percentage of null values in column matches = 0.0%\n",
      "Percentage of null values in column address = 0.0%\n",
      "Percentage of null values in column address_snippet = 0.0%\n",
      "Percentage of null values in column sic_codes = 4.4%\n",
      "Percentage of null values in column date_of_creation_format = 0.0%\n",
      "Percentage of null values in column date_of_cessation_format = 0.0%\n",
      "Percentage of null values in column creation_year = 0.0%\n",
      "Percentage of null values in column cessation_year = 65.9%\n",
      "Percentage of null values in column premises = 0.0%\n",
      "Percentage of null values in column locality = 0.4%\n",
      "Percentage of null values in column address_line_1 = 1.3%\n",
      "Percentage of null values in column postal_code = 0.0%\n",
      "Percentage of null values in column country = 12.8%\n",
      "Percentage of null values in column address_line_2 = 77.4%\n",
      "Percentage of null values in column region = 79.0%\n",
      "Percentage of null values in column care_of_name = 99.8%\n",
      "Percentage of null values in column latitude = 0.9%\n",
      "Percentage of null values in column longitude = 0.9%\n",
      "Percentage of null values in column county_name = 1.3%\n",
      "Percentage of null values in column state_name = 0.9%\n"
     ]
    }
   ],
   "source": [
    "# Check missing values in kebab dataframe\n",
    "check_missing_values(kebab_df, \"Kebab Dataframe\")\n",
    "\n",
    "print('\\n')\n",
    "\n",
    "# Check missing values in sushi dataframe\n",
    "check_missing_values(sushi_df, \"Sushi Dataframe\")"
   ]
  },
  {
   "cell_type": "markdown",
   "id": "critical-trouble",
   "metadata": {},
   "source": [
    "To handle missing values, we will do the following:\n",
    "- Remove the entire columns that we don't need in the analysis\n",
    "- Remove rows with missing values\n",
    "- We will keep the records with missing `date_of_cessation` because it is expected. An empty date_of_cessation indicates that the company is still active"
   ]
  },
  {
   "cell_type": "code",
   "execution_count": 21,
   "id": "informal-joining",
   "metadata": {},
   "outputs": [],
   "source": [
    "# Remove unnecessary columns\n",
    "kebab_df = kebab_df.drop(columns={'snippet','matches','premises','country','address_line_1','locality','address_line_2','country','locality','address_line_1','region','care_of_name'})\n",
    "sushi_df = sushi_df.drop(columns={'snippet','matches','premises','country','address_line_1','locality','address_line_2','country','locality','address_line_1','region','care_of_name'})"
   ]
  },
  {
   "cell_type": "code",
   "execution_count": 22,
   "id": "integral-session",
   "metadata": {},
   "outputs": [],
   "source": [
    "# Remove rows with missing sic_codes, latitude, longitude, and county_name\n",
    "kebab_df = kebab_df[(kebab_df['sic_codes'].notnull()) & (kebab_df['latitude'].notnull()) & (kebab_df['longitude'].notnull()) & (kebab_df['county_name'].notnull())]\n",
    "sushi_df = sushi_df[(sushi_df['sic_codes'].notnull()) & (sushi_df['latitude'].notnull()) & (sushi_df['longitude'].notnull()) & (sushi_df['county_name'].notnull())]"
   ]
  },
  {
   "cell_type": "markdown",
   "id": "authorized-solid",
   "metadata": {},
   "source": [
    "### 2B. Filter companies by SIC code"
   ]
  },
  {
   "cell_type": "markdown",
   "id": "sexual-minister",
   "metadata": {},
   "source": [
    "Companies with the word \"kebab\" and \"sushi\" are not necessarily restaurants. Therefore, we are going to filter these companies by their SIC codes. Based on gov.uk website, here are the SIC codes for restaurants:\n",
    "\n",
    "- 56101:\tLicensed restaurants\n",
    "- 56102:\tUnlicensed restaurants and cafes"
   ]
  },
  {
   "cell_type": "code",
   "execution_count": 23,
   "id": "natural-smoke",
   "metadata": {},
   "outputs": [],
   "source": [
    "# Transform sic_codes from list to string\n",
    "kebab_df['sic_code_string'] = [','.join(map(str, l)) for l in kebab_df['sic_codes']]\n",
    "sushi_df['sic_code_string'] = [','.join(map(str, l)) for l in sushi_df['sic_codes']]"
   ]
  },
  {
   "cell_type": "code",
   "execution_count": 24,
   "id": "historic-prototype",
   "metadata": {},
   "outputs": [],
   "source": [
    "# Create a function to filter companies by sic_codes\n",
    "def filter_company_by_sic_code(df, sic_codes):\n",
    "    df = df[df['sic_code_string'].str.contains(sic_codes)]  \n",
    "    return df"
   ]
  },
  {
   "cell_type": "code",
   "execution_count": 25,
   "id": "phantom-raleigh",
   "metadata": {},
   "outputs": [],
   "source": [
    "# Filter companies by sic_codes\n",
    "kebab_df = filter_company_by_sic_code(kebab_df, '5610')\n",
    "sushi_df = filter_company_by_sic_code(sushi_df, '5610')"
   ]
  },
  {
   "cell_type": "markdown",
   "id": "monthly-denver",
   "metadata": {},
   "source": [
    "### 2C. Validate if we have handled all missing data and remove unnecessary columns"
   ]
  },
  {
   "cell_type": "markdown",
   "id": "administrative-travel",
   "metadata": {},
   "source": [
    "Note: We accept null values in `date_of_cessation` and `cessation_year` because it indicates that the company is still active until now."
   ]
  },
  {
   "cell_type": "code",
   "execution_count": 26,
   "id": "unlikely-territory",
   "metadata": {},
   "outputs": [
    {
     "name": "stdout",
     "output_type": "stream",
     "text": [
      "Percentage of null values in Kebab Dataframe\n",
      "---------------------------------------------\n",
      "Percentage of null values in column company_number = 0.0%\n",
      "Percentage of null values in column title = 0.0%\n",
      "Percentage of null values in column description = 0.0%\n",
      "Percentage of null values in column description_identifier = 0.0%\n",
      "Percentage of null values in column company_type = 0.0%\n",
      "Percentage of null values in column company_status = 0.0%\n",
      "Percentage of null values in column date_of_creation = 0.0%\n",
      "Percentage of null values in column date_of_cessation = 73.95287958115183%\n",
      "Percentage of null values in column links = 0.0%\n",
      "Percentage of null values in column address = 0.0%\n",
      "Percentage of null values in column address_snippet = 0.0%\n",
      "Percentage of null values in column sic_codes = 0.0%\n",
      "Percentage of null values in column date_of_creation_format = 0.0%\n",
      "Percentage of null values in column date_of_cessation_format = 0.0%\n",
      "Percentage of null values in column creation_year = 0.0%\n",
      "Percentage of null values in column cessation_year = 73.95287958115183%\n",
      "Percentage of null values in column postal_code = 0.0%\n",
      "Percentage of null values in column latitude = 0.0%\n",
      "Percentage of null values in column longitude = 0.0%\n",
      "Percentage of null values in column county_name = 0.0%\n",
      "Percentage of null values in column state_name = 0.0%\n",
      "Percentage of null values in column sic_code_string = 0.0%\n",
      "\n",
      "\n",
      "Percentage of null values in Sushi Dataframe\n",
      "---------------------------------------------\n",
      "Percentage of null values in column company_number = 0.0%\n",
      "Percentage of null values in column title = 0.0%\n",
      "Percentage of null values in column description = 0.0%\n",
      "Percentage of null values in column description_identifier = 0.0%\n",
      "Percentage of null values in column company_type = 0.0%\n",
      "Percentage of null values in column company_status = 0.0%\n",
      "Percentage of null values in column date_of_creation = 0.0%\n",
      "Percentage of null values in column date_of_cessation = 71.6867469879518%\n",
      "Percentage of null values in column links = 0.0%\n",
      "Percentage of null values in column address = 0.0%\n",
      "Percentage of null values in column address_snippet = 0.0%\n",
      "Percentage of null values in column sic_codes = 0.0%\n",
      "Percentage of null values in column date_of_creation_format = 0.0%\n",
      "Percentage of null values in column date_of_cessation_format = 0.0%\n",
      "Percentage of null values in column creation_year = 0.0%\n",
      "Percentage of null values in column cessation_year = 71.6867469879518%\n",
      "Percentage of null values in column postal_code = 0.0%\n",
      "Percentage of null values in column latitude = 0.0%\n",
      "Percentage of null values in column longitude = 0.0%\n",
      "Percentage of null values in column county_name = 0.0%\n",
      "Percentage of null values in column state_name = 0.0%\n",
      "Percentage of null values in column sic_code_string = 0.0%\n"
     ]
    }
   ],
   "source": [
    "# Check null values in kebab dataframe\n",
    "check_missing_values(kebab_df, \"Kebab Dataframe\")\n",
    "\n",
    "print('\\n')\n",
    "\n",
    "# Check null values in sushi dataframe\n",
    "check_missing_values(sushi_df, \"Sushi Dataframe\")"
   ]
  },
  {
   "cell_type": "markdown",
   "id": "domestic-kentucky",
   "metadata": {},
   "source": [
    "# 3. Analysis"
   ]
  },
  {
   "cell_type": "markdown",
   "id": "spoken-diploma",
   "metadata": {},
   "source": [
    "### 3A. Number of active companies over year"
   ]
  },
  {
   "cell_type": "code",
   "execution_count": 27,
   "id": "posted-tuner",
   "metadata": {},
   "outputs": [],
   "source": [
    "# Create a function to check whether a company is active or not in the given year\n",
    "def get_active_flag(df, year):\n",
    "    active_flag_list = []\n",
    "    for i,col in df.iterrows():\n",
    "        if str(df['creation_year'][i]) != 'nan' and str(df['cessation_year'][i]) != 'nan':\n",
    "            if int(df['creation_year'][i]) <= year & int(df['cessation_year'][i]) > year:\n",
    "                active_flag_list.append(1)\n",
    "            else:\n",
    "                active_flag_list.append(0)\n",
    "        elif str(df['creation_year'][i]) == 'nan' and str(df['cessation_year'][i]) != 'nan':\n",
    "            active_flag_list.append(0)\n",
    "        elif str(df['creation_year'][i]) != 'nan' and str(df['cessation_year'][i]) == 'nan':\n",
    "            if int(df['creation_year'][i]) <= year:\n",
    "                active_flag_list.append(1)\n",
    "            else:\n",
    "                active_flag_list.append(0)\n",
    "        else:\n",
    "            active_flag_list.append(0)\n",
    "    return active_flag_list"
   ]
  },
  {
   "cell_type": "code",
   "execution_count": 28,
   "id": "anticipated-creativity",
   "metadata": {},
   "outputs": [],
   "source": [
    "# Get company's active flag for kebab companies\n",
    "kebab_df['active_2015'] = get_active_flag(kebab_df, 2015)\n",
    "kebab_df['active_2016'] = get_active_flag(kebab_df, 2016)\n",
    "kebab_df['active_2017'] = get_active_flag(kebab_df, 2017)\n",
    "kebab_df['active_2018'] = get_active_flag(kebab_df, 2018)\n",
    "kebab_df['active_2019'] = get_active_flag(kebab_df, 2019)\n",
    "kebab_df['active_2020'] = get_active_flag(kebab_df, 2020)\n",
    "kebab_df['active_2021'] = get_active_flag(kebab_df, 2021)\n",
    "\n",
    "# Get company's active flag for sushi companies\n",
    "sushi_df['active_2015'] = get_active_flag(sushi_df, 2015)\n",
    "sushi_df['active_2016'] = get_active_flag(sushi_df, 2016)\n",
    "sushi_df['active_2017'] = get_active_flag(sushi_df, 2017)\n",
    "sushi_df['active_2018'] = get_active_flag(sushi_df, 2018)\n",
    "sushi_df['active_2019'] = get_active_flag(sushi_df, 2019)\n",
    "sushi_df['active_2020'] = get_active_flag(sushi_df, 2020)\n",
    "sushi_df['active_2021'] = get_active_flag(sushi_df, 2021)"
   ]
  },
  {
   "cell_type": "code",
   "execution_count": 29,
   "id": "binding-youth",
   "metadata": {},
   "outputs": [
    {
     "data": {
      "text/html": [
       "<div>\n",
       "<style scoped>\n",
       "    .dataframe tbody tr th:only-of-type {\n",
       "        vertical-align: middle;\n",
       "    }\n",
       "\n",
       "    .dataframe tbody tr th {\n",
       "        vertical-align: top;\n",
       "    }\n",
       "\n",
       "    .dataframe thead th {\n",
       "        text-align: right;\n",
       "    }\n",
       "</style>\n",
       "<table border=\"1\" class=\"dataframe\">\n",
       "  <thead>\n",
       "    <tr style=\"text-align: right;\">\n",
       "      <th></th>\n",
       "      <th>year</th>\n",
       "      <th>total_active_kebab_restaurants</th>\n",
       "    </tr>\n",
       "  </thead>\n",
       "  <tbody>\n",
       "    <tr>\n",
       "      <th>0</th>\n",
       "      <td>2015</td>\n",
       "      <td>60</td>\n",
       "    </tr>\n",
       "    <tr>\n",
       "      <th>1</th>\n",
       "      <td>2016</td>\n",
       "      <td>85</td>\n",
       "    </tr>\n",
       "    <tr>\n",
       "      <th>2</th>\n",
       "      <td>2017</td>\n",
       "      <td>123</td>\n",
       "    </tr>\n",
       "    <tr>\n",
       "      <th>3</th>\n",
       "      <td>2018</td>\n",
       "      <td>185</td>\n",
       "    </tr>\n",
       "    <tr>\n",
       "      <th>4</th>\n",
       "      <td>2019</td>\n",
       "      <td>292</td>\n",
       "    </tr>\n",
       "    <tr>\n",
       "      <th>5</th>\n",
       "      <td>2020</td>\n",
       "      <td>421</td>\n",
       "    </tr>\n",
       "    <tr>\n",
       "      <th>6</th>\n",
       "      <td>2021</td>\n",
       "      <td>565</td>\n",
       "    </tr>\n",
       "  </tbody>\n",
       "</table>\n",
       "</div>"
      ],
      "text/plain": [
       "   year  total_active_kebab_restaurants\n",
       "0  2015                              60\n",
       "1  2016                              85\n",
       "2  2017                             123\n",
       "3  2018                             185\n",
       "4  2019                             292\n",
       "5  2020                             421\n",
       "6  2021                             565"
      ]
     },
     "execution_count": 29,
     "metadata": {},
     "output_type": "execute_result"
    }
   ],
   "source": [
    "# Calculate unique active companies of each year\n",
    "kebab_total_active_2015 = int(kebab_df[kebab_df['active_2015']==1].agg({'company_number':pd.Series.nunique}))\n",
    "kebab_total_active_2016 = int(kebab_df[kebab_df['active_2016']==1].agg({'company_number':pd.Series.nunique}))\n",
    "kebab_total_active_2017 = int(kebab_df[kebab_df['active_2017']==1].agg({'company_number':pd.Series.nunique}))\n",
    "kebab_total_active_2018 = int(kebab_df[kebab_df['active_2018']==1].agg({'company_number':pd.Series.nunique}))\n",
    "kebab_total_active_2019 = int(kebab_df[kebab_df['active_2019']==1].agg({'company_number':pd.Series.nunique}))\n",
    "kebab_total_active_2020 = int(kebab_df[kebab_df['active_2020']==1].agg({'company_number':pd.Series.nunique}))\n",
    "kebab_total_active_2021 = int(kebab_df[kebab_df['active_2021']==1].agg({'company_number':pd.Series.nunique}))\n",
    "\n",
    "# Create a list of total active companies\n",
    "kebab_total_active_companies = [['2015', kebab_total_active_2015],\n",
    "                                ['2016', kebab_total_active_2016],\n",
    "                                ['2017', kebab_total_active_2017],\n",
    "                                ['2018', kebab_total_active_2018],\n",
    "                                ['2019', kebab_total_active_2019],\n",
    "                                ['2020', kebab_total_active_2020],\n",
    "                                ['2021', kebab_total_active_2021]\n",
    "                               ]\n",
    "\n",
    "# Create a dataframe from the list\n",
    "kebab_active_companies_by_year = pd.DataFrame(kebab_total_active_companies, columns = ['year','total_active_kebab_restaurants'])\n",
    "kebab_active_companies_by_year"
   ]
  },
  {
   "cell_type": "code",
   "execution_count": 30,
   "id": "pleased-evening",
   "metadata": {},
   "outputs": [
    {
     "data": {
      "text/html": [
       "<div>\n",
       "<style scoped>\n",
       "    .dataframe tbody tr th:only-of-type {\n",
       "        vertical-align: middle;\n",
       "    }\n",
       "\n",
       "    .dataframe tbody tr th {\n",
       "        vertical-align: top;\n",
       "    }\n",
       "\n",
       "    .dataframe thead th {\n",
       "        text-align: right;\n",
       "    }\n",
       "</style>\n",
       "<table border=\"1\" class=\"dataframe\">\n",
       "  <thead>\n",
       "    <tr style=\"text-align: right;\">\n",
       "      <th></th>\n",
       "      <th>year</th>\n",
       "      <th>total_active_sushi_restaurants</th>\n",
       "    </tr>\n",
       "  </thead>\n",
       "  <tbody>\n",
       "    <tr>\n",
       "      <th>0</th>\n",
       "      <td>2015</td>\n",
       "      <td>59</td>\n",
       "    </tr>\n",
       "    <tr>\n",
       "      <th>1</th>\n",
       "      <td>2016</td>\n",
       "      <td>85</td>\n",
       "    </tr>\n",
       "    <tr>\n",
       "      <th>2</th>\n",
       "      <td>2017</td>\n",
       "      <td>127</td>\n",
       "    </tr>\n",
       "    <tr>\n",
       "      <th>3</th>\n",
       "      <td>2018</td>\n",
       "      <td>172</td>\n",
       "    </tr>\n",
       "    <tr>\n",
       "      <th>4</th>\n",
       "      <td>2019</td>\n",
       "      <td>228</td>\n",
       "    </tr>\n",
       "    <tr>\n",
       "      <th>5</th>\n",
       "      <td>2020</td>\n",
       "      <td>326</td>\n",
       "    </tr>\n",
       "    <tr>\n",
       "      <th>6</th>\n",
       "      <td>2021</td>\n",
       "      <td>476</td>\n",
       "    </tr>\n",
       "  </tbody>\n",
       "</table>\n",
       "</div>"
      ],
      "text/plain": [
       "   year  total_active_sushi_restaurants\n",
       "0  2015                              59\n",
       "1  2016                              85\n",
       "2  2017                             127\n",
       "3  2018                             172\n",
       "4  2019                             228\n",
       "5  2020                             326\n",
       "6  2021                             476"
      ]
     },
     "execution_count": 30,
     "metadata": {},
     "output_type": "execute_result"
    }
   ],
   "source": [
    "# Calculate unique active companies of each year\n",
    "sushi_total_active_2015 = int(sushi_df[sushi_df['active_2015']==1].agg({'company_number':pd.Series.nunique}))\n",
    "sushi_total_active_2016 = int(sushi_df[sushi_df['active_2016']==1].agg({'company_number':pd.Series.nunique}))\n",
    "sushi_total_active_2017 = int(sushi_df[sushi_df['active_2017']==1].agg({'company_number':pd.Series.nunique}))\n",
    "sushi_total_active_2018 = int(sushi_df[sushi_df['active_2018']==1].agg({'company_number':pd.Series.nunique}))\n",
    "sushi_total_active_2019 = int(sushi_df[sushi_df['active_2019']==1].agg({'company_number':pd.Series.nunique}))\n",
    "sushi_total_active_2020 = int(sushi_df[sushi_df['active_2020']==1].agg({'company_number':pd.Series.nunique}))\n",
    "sushi_total_active_2021 = int(sushi_df[sushi_df['active_2021']==1].agg({'company_number':pd.Series.nunique}))\n",
    "\n",
    "# Create a list of total active companies\n",
    "sushi_total_active_companies = [['2015', sushi_total_active_2015],\n",
    "                                ['2016', sushi_total_active_2016],\n",
    "                                ['2017', sushi_total_active_2017],\n",
    "                                ['2018', sushi_total_active_2018],\n",
    "                                ['2019', sushi_total_active_2019],\n",
    "                                ['2020', sushi_total_active_2020],\n",
    "                                ['2021', sushi_total_active_2021]\n",
    "                               ]\n",
    "\n",
    "# Create a dataframe from the list\n",
    "sushi_active_companies_by_year = pd.DataFrame(sushi_total_active_companies, columns = ['year','total_active_sushi_restaurants'])\n",
    "sushi_active_companies_by_year"
   ]
  },
  {
   "cell_type": "code",
   "execution_count": 31,
   "id": "great-internship",
   "metadata": {},
   "outputs": [
    {
     "data": {
      "text/html": [
       "<div>\n",
       "<style scoped>\n",
       "    .dataframe tbody tr th:only-of-type {\n",
       "        vertical-align: middle;\n",
       "    }\n",
       "\n",
       "    .dataframe tbody tr th {\n",
       "        vertical-align: top;\n",
       "    }\n",
       "\n",
       "    .dataframe thead th {\n",
       "        text-align: right;\n",
       "    }\n",
       "</style>\n",
       "<table border=\"1\" class=\"dataframe\">\n",
       "  <thead>\n",
       "    <tr style=\"text-align: right;\">\n",
       "      <th></th>\n",
       "      <th>year</th>\n",
       "      <th>total_active_kebab_restaurants</th>\n",
       "      <th>total_active_sushi_restaurants</th>\n",
       "    </tr>\n",
       "  </thead>\n",
       "  <tbody>\n",
       "    <tr>\n",
       "      <th>0</th>\n",
       "      <td>2015</td>\n",
       "      <td>60</td>\n",
       "      <td>59</td>\n",
       "    </tr>\n",
       "    <tr>\n",
       "      <th>1</th>\n",
       "      <td>2016</td>\n",
       "      <td>85</td>\n",
       "      <td>85</td>\n",
       "    </tr>\n",
       "    <tr>\n",
       "      <th>2</th>\n",
       "      <td>2017</td>\n",
       "      <td>123</td>\n",
       "      <td>127</td>\n",
       "    </tr>\n",
       "    <tr>\n",
       "      <th>3</th>\n",
       "      <td>2018</td>\n",
       "      <td>185</td>\n",
       "      <td>172</td>\n",
       "    </tr>\n",
       "    <tr>\n",
       "      <th>4</th>\n",
       "      <td>2019</td>\n",
       "      <td>292</td>\n",
       "      <td>228</td>\n",
       "    </tr>\n",
       "    <tr>\n",
       "      <th>5</th>\n",
       "      <td>2020</td>\n",
       "      <td>421</td>\n",
       "      <td>326</td>\n",
       "    </tr>\n",
       "    <tr>\n",
       "      <th>6</th>\n",
       "      <td>2021</td>\n",
       "      <td>565</td>\n",
       "      <td>476</td>\n",
       "    </tr>\n",
       "  </tbody>\n",
       "</table>\n",
       "</div>"
      ],
      "text/plain": [
       "   year  total_active_kebab_restaurants  total_active_sushi_restaurants\n",
       "0  2015                              60                              59\n",
       "1  2016                              85                              85\n",
       "2  2017                             123                             127\n",
       "3  2018                             185                             172\n",
       "4  2019                             292                             228\n",
       "5  2020                             421                             326\n",
       "6  2021                             565                             476"
      ]
     },
     "execution_count": 31,
     "metadata": {},
     "output_type": "execute_result"
    }
   ],
   "source": [
    "# Merge kebab and sushi active companies\n",
    "active_companies_by_year = kebab_active_companies_by_year.merge(sushi_active_companies_by_year, how='left', left_on='year', right_on='year')\n",
    "active_companies_by_year"
   ]
  },
  {
   "cell_type": "code",
   "execution_count": 32,
   "id": "understood-headline",
   "metadata": {},
   "outputs": [],
   "source": [
    "# Calculate YoY growth\n",
    "active_companies_by_year['kebab_yoy_growth'] = round(active_companies_by_year['total_active_kebab_restaurants'].pct_change()*100,2)\n",
    "active_companies_by_year['sushi_yoy_growth'] = round(active_companies_by_year['total_active_sushi_restaurants'].pct_change()*100,2)\n",
    "\n",
    "# Create kebab YoY growth in string format\n",
    "kebab_yoy_growth_string=[]\n",
    "for i,col in active_companies_by_year['kebab_yoy_growth'].items():\n",
    "    if str(col) == 'nan':\n",
    "        kebab_yoy_growth_string.append(np.nan)\n",
    "    elif col > 0:\n",
    "        kebab_yoy_growth_string.append('+' + str(col) + '%')\n",
    "    elif col == 0:\n",
    "        kebab_yoy_growth_string.append(str(col) + '%')\n",
    "    elif col < 0:\n",
    "        kebab_yoy_growth_string.append(str(col) + '%')\n",
    "    else:\n",
    "        kebab_yoy_growth_string.append(np.nan)\n",
    "        \n",
    "active_companies_by_year['kebab_yoy_growth_string'] = kebab_yoy_growth_string\n",
    "\n",
    "# Create sushi YoY growth in string format\n",
    "sushi_yoy_growth_string=[]\n",
    "for i,col in active_companies_by_year['sushi_yoy_growth'].items():\n",
    "    if str(col) == 'nan':\n",
    "        sushi_yoy_growth_string.append(np.nan)\n",
    "    elif col > 0:\n",
    "        sushi_yoy_growth_string.append('+' + str(col) + '%')\n",
    "    elif col == 0:\n",
    "        sushi_yoy_growth_string.append(str(col) + '%')\n",
    "    elif col < 0:\n",
    "        sushi_yoy_growth_string.append('-' + str(col) + '%')\n",
    "    else:\n",
    "        sushi_yoy_growth_string.append(np.nan)\n",
    "\n",
    "active_companies_by_year['sushi_yoy_growth_string'] = sushi_yoy_growth_string\n",
    "active_companies_by_year = active_companies_by_year.replace(np.nan, ' ')"
   ]
  },
  {
   "cell_type": "code",
   "execution_count": 33,
   "id": "radio-state",
   "metadata": {},
   "outputs": [],
   "source": [
    "# Create a function to calculate CAGR (Compounded Annual Growth Rate)\n",
    "def calculate_cagr(df, column_number):\n",
    "    cagr = str(round(((df.iloc[len(df)-1][column_number] / df.iloc[0][column_number]) ** (1/len(df))-1)*100, 2)) + '%'\n",
    "    return cagr"
   ]
  },
  {
   "cell_type": "code",
   "execution_count": 34,
   "id": "academic-wagon",
   "metadata": {},
   "outputs": [],
   "source": [
    "# Calculate CAGR (Compounded Annual Growth Rate)\n",
    "kebab_cagr = calculate_cagr(active_companies_by_year, column_number = 1)\n",
    "sushi_cagr = calculate_cagr(active_companies_by_year, column_number = 2)"
   ]
  },
  {
   "cell_type": "code",
   "execution_count": 43,
   "id": "surgical-columbia",
   "metadata": {},
   "outputs": [
    {
     "data": {
      "application/vnd.plotly.v1+json": {
       "config": {
        "plotlyServerURL": "https://plot.ly"
       },
       "data": [
        {
         "marker": {
          "color": "rgb(1, 184, 170)"
         },
         "name": "Kebab restaurants",
         "text": [
          " ",
          "+41.67%",
          "+44.71%",
          "+50.41%",
          "+57.84%",
          "+44.18%",
          "+34.2%"
         ],
         "textposition": "outside",
         "type": "bar",
         "x": [
          "2015",
          "2016",
          "2017",
          "2018",
          "2019",
          "2020",
          "2021"
         ],
         "y": [
          60,
          85,
          123,
          185,
          292,
          421,
          565
         ]
        },
        {
         "marker": {
          "color": "rgb(242, 200, 15)"
         },
         "name": "Sushi restaurants",
         "text": [
          " ",
          "+44.07%",
          "+49.41%",
          "+35.43%",
          "+32.56%",
          "+42.98%",
          "+46.01%"
         ],
         "textposition": "outside",
         "type": "bar",
         "x": [
          "2015",
          "2016",
          "2017",
          "2018",
          "2019",
          "2020",
          "2021"
         ],
         "y": [
          59,
          85,
          127,
          172,
          228,
          326,
          476
         ]
        }
       ],
       "layout": {
        "annotations": [
         {
          "showarrow": false,
          "text": "Kebab CAGR = <b>37.76%</b> \n\n Sushi CAGR = <b>34.75%</b>",
          "y": 400
         }
        ],
        "bargap": 0.2,
        "bargroupgap": 0.05,
        "barmode": "group",
        "legend": {
         "bgcolor": "rgba(255, 255, 255, 0)",
         "bordercolor": "rgba(255, 255, 255, 0)",
         "x": 0,
         "y": 1
        },
        "paper_bgcolor": "rgba(0, 0, 0, 0)",
        "plot_bgcolor": "rgba(0, 0, 0, 0)",
        "template": {
         "data": {
          "bar": [
           {
            "error_x": {
             "color": "#2a3f5f"
            },
            "error_y": {
             "color": "#2a3f5f"
            },
            "marker": {
             "line": {
              "color": "#E5ECF6",
              "width": 0.5
             },
             "pattern": {
              "fillmode": "overlay",
              "size": 10,
              "solidity": 0.2
             }
            },
            "type": "bar"
           }
          ],
          "barpolar": [
           {
            "marker": {
             "line": {
              "color": "#E5ECF6",
              "width": 0.5
             },
             "pattern": {
              "fillmode": "overlay",
              "size": 10,
              "solidity": 0.2
             }
            },
            "type": "barpolar"
           }
          ],
          "carpet": [
           {
            "aaxis": {
             "endlinecolor": "#2a3f5f",
             "gridcolor": "white",
             "linecolor": "white",
             "minorgridcolor": "white",
             "startlinecolor": "#2a3f5f"
            },
            "baxis": {
             "endlinecolor": "#2a3f5f",
             "gridcolor": "white",
             "linecolor": "white",
             "minorgridcolor": "white",
             "startlinecolor": "#2a3f5f"
            },
            "type": "carpet"
           }
          ],
          "choropleth": [
           {
            "colorbar": {
             "outlinewidth": 0,
             "ticks": ""
            },
            "type": "choropleth"
           }
          ],
          "contour": [
           {
            "colorbar": {
             "outlinewidth": 0,
             "ticks": ""
            },
            "colorscale": [
             [
              0,
              "#0d0887"
             ],
             [
              0.1111111111111111,
              "#46039f"
             ],
             [
              0.2222222222222222,
              "#7201a8"
             ],
             [
              0.3333333333333333,
              "#9c179e"
             ],
             [
              0.4444444444444444,
              "#bd3786"
             ],
             [
              0.5555555555555556,
              "#d8576b"
             ],
             [
              0.6666666666666666,
              "#ed7953"
             ],
             [
              0.7777777777777778,
              "#fb9f3a"
             ],
             [
              0.8888888888888888,
              "#fdca26"
             ],
             [
              1,
              "#f0f921"
             ]
            ],
            "type": "contour"
           }
          ],
          "contourcarpet": [
           {
            "colorbar": {
             "outlinewidth": 0,
             "ticks": ""
            },
            "type": "contourcarpet"
           }
          ],
          "heatmap": [
           {
            "colorbar": {
             "outlinewidth": 0,
             "ticks": ""
            },
            "colorscale": [
             [
              0,
              "#0d0887"
             ],
             [
              0.1111111111111111,
              "#46039f"
             ],
             [
              0.2222222222222222,
              "#7201a8"
             ],
             [
              0.3333333333333333,
              "#9c179e"
             ],
             [
              0.4444444444444444,
              "#bd3786"
             ],
             [
              0.5555555555555556,
              "#d8576b"
             ],
             [
              0.6666666666666666,
              "#ed7953"
             ],
             [
              0.7777777777777778,
              "#fb9f3a"
             ],
             [
              0.8888888888888888,
              "#fdca26"
             ],
             [
              1,
              "#f0f921"
             ]
            ],
            "type": "heatmap"
           }
          ],
          "heatmapgl": [
           {
            "colorbar": {
             "outlinewidth": 0,
             "ticks": ""
            },
            "colorscale": [
             [
              0,
              "#0d0887"
             ],
             [
              0.1111111111111111,
              "#46039f"
             ],
             [
              0.2222222222222222,
              "#7201a8"
             ],
             [
              0.3333333333333333,
              "#9c179e"
             ],
             [
              0.4444444444444444,
              "#bd3786"
             ],
             [
              0.5555555555555556,
              "#d8576b"
             ],
             [
              0.6666666666666666,
              "#ed7953"
             ],
             [
              0.7777777777777778,
              "#fb9f3a"
             ],
             [
              0.8888888888888888,
              "#fdca26"
             ],
             [
              1,
              "#f0f921"
             ]
            ],
            "type": "heatmapgl"
           }
          ],
          "histogram": [
           {
            "marker": {
             "pattern": {
              "fillmode": "overlay",
              "size": 10,
              "solidity": 0.2
             }
            },
            "type": "histogram"
           }
          ],
          "histogram2d": [
           {
            "colorbar": {
             "outlinewidth": 0,
             "ticks": ""
            },
            "colorscale": [
             [
              0,
              "#0d0887"
             ],
             [
              0.1111111111111111,
              "#46039f"
             ],
             [
              0.2222222222222222,
              "#7201a8"
             ],
             [
              0.3333333333333333,
              "#9c179e"
             ],
             [
              0.4444444444444444,
              "#bd3786"
             ],
             [
              0.5555555555555556,
              "#d8576b"
             ],
             [
              0.6666666666666666,
              "#ed7953"
             ],
             [
              0.7777777777777778,
              "#fb9f3a"
             ],
             [
              0.8888888888888888,
              "#fdca26"
             ],
             [
              1,
              "#f0f921"
             ]
            ],
            "type": "histogram2d"
           }
          ],
          "histogram2dcontour": [
           {
            "colorbar": {
             "outlinewidth": 0,
             "ticks": ""
            },
            "colorscale": [
             [
              0,
              "#0d0887"
             ],
             [
              0.1111111111111111,
              "#46039f"
             ],
             [
              0.2222222222222222,
              "#7201a8"
             ],
             [
              0.3333333333333333,
              "#9c179e"
             ],
             [
              0.4444444444444444,
              "#bd3786"
             ],
             [
              0.5555555555555556,
              "#d8576b"
             ],
             [
              0.6666666666666666,
              "#ed7953"
             ],
             [
              0.7777777777777778,
              "#fb9f3a"
             ],
             [
              0.8888888888888888,
              "#fdca26"
             ],
             [
              1,
              "#f0f921"
             ]
            ],
            "type": "histogram2dcontour"
           }
          ],
          "mesh3d": [
           {
            "colorbar": {
             "outlinewidth": 0,
             "ticks": ""
            },
            "type": "mesh3d"
           }
          ],
          "parcoords": [
           {
            "line": {
             "colorbar": {
              "outlinewidth": 0,
              "ticks": ""
             }
            },
            "type": "parcoords"
           }
          ],
          "pie": [
           {
            "automargin": true,
            "type": "pie"
           }
          ],
          "scatter": [
           {
            "marker": {
             "colorbar": {
              "outlinewidth": 0,
              "ticks": ""
             }
            },
            "type": "scatter"
           }
          ],
          "scatter3d": [
           {
            "line": {
             "colorbar": {
              "outlinewidth": 0,
              "ticks": ""
             }
            },
            "marker": {
             "colorbar": {
              "outlinewidth": 0,
              "ticks": ""
             }
            },
            "type": "scatter3d"
           }
          ],
          "scattercarpet": [
           {
            "marker": {
             "colorbar": {
              "outlinewidth": 0,
              "ticks": ""
             }
            },
            "type": "scattercarpet"
           }
          ],
          "scattergeo": [
           {
            "marker": {
             "colorbar": {
              "outlinewidth": 0,
              "ticks": ""
             }
            },
            "type": "scattergeo"
           }
          ],
          "scattergl": [
           {
            "marker": {
             "colorbar": {
              "outlinewidth": 0,
              "ticks": ""
             }
            },
            "type": "scattergl"
           }
          ],
          "scattermapbox": [
           {
            "marker": {
             "colorbar": {
              "outlinewidth": 0,
              "ticks": ""
             }
            },
            "type": "scattermapbox"
           }
          ],
          "scatterpolar": [
           {
            "marker": {
             "colorbar": {
              "outlinewidth": 0,
              "ticks": ""
             }
            },
            "type": "scatterpolar"
           }
          ],
          "scatterpolargl": [
           {
            "marker": {
             "colorbar": {
              "outlinewidth": 0,
              "ticks": ""
             }
            },
            "type": "scatterpolargl"
           }
          ],
          "scatterternary": [
           {
            "marker": {
             "colorbar": {
              "outlinewidth": 0,
              "ticks": ""
             }
            },
            "type": "scatterternary"
           }
          ],
          "surface": [
           {
            "colorbar": {
             "outlinewidth": 0,
             "ticks": ""
            },
            "colorscale": [
             [
              0,
              "#0d0887"
             ],
             [
              0.1111111111111111,
              "#46039f"
             ],
             [
              0.2222222222222222,
              "#7201a8"
             ],
             [
              0.3333333333333333,
              "#9c179e"
             ],
             [
              0.4444444444444444,
              "#bd3786"
             ],
             [
              0.5555555555555556,
              "#d8576b"
             ],
             [
              0.6666666666666666,
              "#ed7953"
             ],
             [
              0.7777777777777778,
              "#fb9f3a"
             ],
             [
              0.8888888888888888,
              "#fdca26"
             ],
             [
              1,
              "#f0f921"
             ]
            ],
            "type": "surface"
           }
          ],
          "table": [
           {
            "cells": {
             "fill": {
              "color": "#EBF0F8"
             },
             "line": {
              "color": "white"
             }
            },
            "header": {
             "fill": {
              "color": "#C8D4E3"
             },
             "line": {
              "color": "white"
             }
            },
            "type": "table"
           }
          ]
         },
         "layout": {
          "annotationdefaults": {
           "arrowcolor": "#2a3f5f",
           "arrowhead": 0,
           "arrowwidth": 1
          },
          "autotypenumbers": "strict",
          "coloraxis": {
           "colorbar": {
            "outlinewidth": 0,
            "ticks": ""
           }
          },
          "colorscale": {
           "diverging": [
            [
             0,
             "#8e0152"
            ],
            [
             0.1,
             "#c51b7d"
            ],
            [
             0.2,
             "#de77ae"
            ],
            [
             0.3,
             "#f1b6da"
            ],
            [
             0.4,
             "#fde0ef"
            ],
            [
             0.5,
             "#f7f7f7"
            ],
            [
             0.6,
             "#e6f5d0"
            ],
            [
             0.7,
             "#b8e186"
            ],
            [
             0.8,
             "#7fbc41"
            ],
            [
             0.9,
             "#4d9221"
            ],
            [
             1,
             "#276419"
            ]
           ],
           "sequential": [
            [
             0,
             "#0d0887"
            ],
            [
             0.1111111111111111,
             "#46039f"
            ],
            [
             0.2222222222222222,
             "#7201a8"
            ],
            [
             0.3333333333333333,
             "#9c179e"
            ],
            [
             0.4444444444444444,
             "#bd3786"
            ],
            [
             0.5555555555555556,
             "#d8576b"
            ],
            [
             0.6666666666666666,
             "#ed7953"
            ],
            [
             0.7777777777777778,
             "#fb9f3a"
            ],
            [
             0.8888888888888888,
             "#fdca26"
            ],
            [
             1,
             "#f0f921"
            ]
           ],
           "sequentialminus": [
            [
             0,
             "#0d0887"
            ],
            [
             0.1111111111111111,
             "#46039f"
            ],
            [
             0.2222222222222222,
             "#7201a8"
            ],
            [
             0.3333333333333333,
             "#9c179e"
            ],
            [
             0.4444444444444444,
             "#bd3786"
            ],
            [
             0.5555555555555556,
             "#d8576b"
            ],
            [
             0.6666666666666666,
             "#ed7953"
            ],
            [
             0.7777777777777778,
             "#fb9f3a"
            ],
            [
             0.8888888888888888,
             "#fdca26"
            ],
            [
             1,
             "#f0f921"
            ]
           ]
          },
          "colorway": [
           "#636efa",
           "#EF553B",
           "#00cc96",
           "#ab63fa",
           "#FFA15A",
           "#19d3f3",
           "#FF6692",
           "#B6E880",
           "#FF97FF",
           "#FECB52"
          ],
          "font": {
           "color": "#2a3f5f"
          },
          "geo": {
           "bgcolor": "white",
           "lakecolor": "white",
           "landcolor": "#E5ECF6",
           "showlakes": true,
           "showland": true,
           "subunitcolor": "white"
          },
          "hoverlabel": {
           "align": "left"
          },
          "hovermode": "closest",
          "mapbox": {
           "style": "light"
          },
          "paper_bgcolor": "white",
          "plot_bgcolor": "#E5ECF6",
          "polar": {
           "angularaxis": {
            "gridcolor": "white",
            "linecolor": "white",
            "ticks": ""
           },
           "bgcolor": "#E5ECF6",
           "radialaxis": {
            "gridcolor": "white",
            "linecolor": "white",
            "ticks": ""
           }
          },
          "scene": {
           "xaxis": {
            "backgroundcolor": "#E5ECF6",
            "gridcolor": "white",
            "gridwidth": 2,
            "linecolor": "white",
            "showbackground": true,
            "ticks": "",
            "zerolinecolor": "white"
           },
           "yaxis": {
            "backgroundcolor": "#E5ECF6",
            "gridcolor": "white",
            "gridwidth": 2,
            "linecolor": "white",
            "showbackground": true,
            "ticks": "",
            "zerolinecolor": "white"
           },
           "zaxis": {
            "backgroundcolor": "#E5ECF6",
            "gridcolor": "white",
            "gridwidth": 2,
            "linecolor": "white",
            "showbackground": true,
            "ticks": "",
            "zerolinecolor": "white"
           }
          },
          "shapedefaults": {
           "line": {
            "color": "#2a3f5f"
           }
          },
          "ternary": {
           "aaxis": {
            "gridcolor": "white",
            "linecolor": "white",
            "ticks": ""
           },
           "baxis": {
            "gridcolor": "white",
            "linecolor": "white",
            "ticks": ""
           },
           "bgcolor": "#E5ECF6",
           "caxis": {
            "gridcolor": "white",
            "linecolor": "white",
            "ticks": ""
           }
          },
          "title": {
           "x": 0.05
          },
          "xaxis": {
           "automargin": true,
           "gridcolor": "white",
           "linecolor": "white",
           "ticks": "",
           "title": {
            "standoff": 15
           },
           "zerolinecolor": "white",
           "zerolinewidth": 2
          },
          "yaxis": {
           "automargin": true,
           "gridcolor": "white",
           "linecolor": "white",
           "ticks": "",
           "title": {
            "standoff": 15
           },
           "zerolinecolor": "white",
           "zerolinewidth": 2
          }
         }
        },
        "title": {
         "text": "<b> Fig 1. Total active restaurants in the UK by year"
        },
        "xaxis": {
         "tickfont": {
          "size": 12
         },
         "title": {
          "font": {
           "size": 14
          },
          "text": "Year"
         }
        },
        "yaxis": {
         "tickfont": {
          "size": 12
         },
         "title": {
          "font": {
           "size": 14
          },
          "text": "Total active restaurants"
         }
        }
       }
      },
      "text/html": [
       "<div>                            <div id=\"43535ff0-f5e7-4550-9c59-d68c3cba3ad5\" class=\"plotly-graph-div\" style=\"height:525px; width:100%;\"></div>            <script type=\"text/javascript\">                require([\"plotly\"], function(Plotly) {                    window.PLOTLYENV=window.PLOTLYENV || {};                                    if (document.getElementById(\"43535ff0-f5e7-4550-9c59-d68c3cba3ad5\")) {                    Plotly.newPlot(                        \"43535ff0-f5e7-4550-9c59-d68c3cba3ad5\",                        [{\"marker\":{\"color\":\"rgb(1, 184, 170)\"},\"name\":\"Kebab restaurants\",\"text\":[\" \",\"+41.67%\",\"+44.71%\",\"+50.41%\",\"+57.84%\",\"+44.18%\",\"+34.2%\"],\"textposition\":\"outside\",\"type\":\"bar\",\"x\":[\"2015\",\"2016\",\"2017\",\"2018\",\"2019\",\"2020\",\"2021\"],\"y\":[60,85,123,185,292,421,565]},{\"marker\":{\"color\":\"rgb(242, 200, 15)\"},\"name\":\"Sushi restaurants\",\"text\":[\" \",\"+44.07%\",\"+49.41%\",\"+35.43%\",\"+32.56%\",\"+42.98%\",\"+46.01%\"],\"textposition\":\"outside\",\"type\":\"bar\",\"x\":[\"2015\",\"2016\",\"2017\",\"2018\",\"2019\",\"2020\",\"2021\"],\"y\":[59,85,127,172,228,326,476]}],                        {\"annotations\":[{\"showarrow\":false,\"text\":\"Kebab CAGR = <b>37.76%</b> \\n\\n Sushi CAGR = <b>34.75%</b>\",\"y\":400}],\"bargap\":0.2,\"bargroupgap\":0.05,\"barmode\":\"group\",\"legend\":{\"bgcolor\":\"rgba(255, 255, 255, 0)\",\"bordercolor\":\"rgba(255, 255, 255, 0)\",\"x\":0,\"y\":1.0},\"paper_bgcolor\":\"rgba(0, 0, 0, 0)\",\"plot_bgcolor\":\"rgba(0, 0, 0, 0)\",\"template\":{\"data\":{\"bar\":[{\"error_x\":{\"color\":\"#2a3f5f\"},\"error_y\":{\"color\":\"#2a3f5f\"},\"marker\":{\"line\":{\"color\":\"#E5ECF6\",\"width\":0.5},\"pattern\":{\"fillmode\":\"overlay\",\"size\":10,\"solidity\":0.2}},\"type\":\"bar\"}],\"barpolar\":[{\"marker\":{\"line\":{\"color\":\"#E5ECF6\",\"width\":0.5},\"pattern\":{\"fillmode\":\"overlay\",\"size\":10,\"solidity\":0.2}},\"type\":\"barpolar\"}],\"carpet\":[{\"aaxis\":{\"endlinecolor\":\"#2a3f5f\",\"gridcolor\":\"white\",\"linecolor\":\"white\",\"minorgridcolor\":\"white\",\"startlinecolor\":\"#2a3f5f\"},\"baxis\":{\"endlinecolor\":\"#2a3f5f\",\"gridcolor\":\"white\",\"linecolor\":\"white\",\"minorgridcolor\":\"white\",\"startlinecolor\":\"#2a3f5f\"},\"type\":\"carpet\"}],\"choropleth\":[{\"colorbar\":{\"outlinewidth\":0,\"ticks\":\"\"},\"type\":\"choropleth\"}],\"contour\":[{\"colorbar\":{\"outlinewidth\":0,\"ticks\":\"\"},\"colorscale\":[[0.0,\"#0d0887\"],[0.1111111111111111,\"#46039f\"],[0.2222222222222222,\"#7201a8\"],[0.3333333333333333,\"#9c179e\"],[0.4444444444444444,\"#bd3786\"],[0.5555555555555556,\"#d8576b\"],[0.6666666666666666,\"#ed7953\"],[0.7777777777777778,\"#fb9f3a\"],[0.8888888888888888,\"#fdca26\"],[1.0,\"#f0f921\"]],\"type\":\"contour\"}],\"contourcarpet\":[{\"colorbar\":{\"outlinewidth\":0,\"ticks\":\"\"},\"type\":\"contourcarpet\"}],\"heatmap\":[{\"colorbar\":{\"outlinewidth\":0,\"ticks\":\"\"},\"colorscale\":[[0.0,\"#0d0887\"],[0.1111111111111111,\"#46039f\"],[0.2222222222222222,\"#7201a8\"],[0.3333333333333333,\"#9c179e\"],[0.4444444444444444,\"#bd3786\"],[0.5555555555555556,\"#d8576b\"],[0.6666666666666666,\"#ed7953\"],[0.7777777777777778,\"#fb9f3a\"],[0.8888888888888888,\"#fdca26\"],[1.0,\"#f0f921\"]],\"type\":\"heatmap\"}],\"heatmapgl\":[{\"colorbar\":{\"outlinewidth\":0,\"ticks\":\"\"},\"colorscale\":[[0.0,\"#0d0887\"],[0.1111111111111111,\"#46039f\"],[0.2222222222222222,\"#7201a8\"],[0.3333333333333333,\"#9c179e\"],[0.4444444444444444,\"#bd3786\"],[0.5555555555555556,\"#d8576b\"],[0.6666666666666666,\"#ed7953\"],[0.7777777777777778,\"#fb9f3a\"],[0.8888888888888888,\"#fdca26\"],[1.0,\"#f0f921\"]],\"type\":\"heatmapgl\"}],\"histogram\":[{\"marker\":{\"pattern\":{\"fillmode\":\"overlay\",\"size\":10,\"solidity\":0.2}},\"type\":\"histogram\"}],\"histogram2d\":[{\"colorbar\":{\"outlinewidth\":0,\"ticks\":\"\"},\"colorscale\":[[0.0,\"#0d0887\"],[0.1111111111111111,\"#46039f\"],[0.2222222222222222,\"#7201a8\"],[0.3333333333333333,\"#9c179e\"],[0.4444444444444444,\"#bd3786\"],[0.5555555555555556,\"#d8576b\"],[0.6666666666666666,\"#ed7953\"],[0.7777777777777778,\"#fb9f3a\"],[0.8888888888888888,\"#fdca26\"],[1.0,\"#f0f921\"]],\"type\":\"histogram2d\"}],\"histogram2dcontour\":[{\"colorbar\":{\"outlinewidth\":0,\"ticks\":\"\"},\"colorscale\":[[0.0,\"#0d0887\"],[0.1111111111111111,\"#46039f\"],[0.2222222222222222,\"#7201a8\"],[0.3333333333333333,\"#9c179e\"],[0.4444444444444444,\"#bd3786\"],[0.5555555555555556,\"#d8576b\"],[0.6666666666666666,\"#ed7953\"],[0.7777777777777778,\"#fb9f3a\"],[0.8888888888888888,\"#fdca26\"],[1.0,\"#f0f921\"]],\"type\":\"histogram2dcontour\"}],\"mesh3d\":[{\"colorbar\":{\"outlinewidth\":0,\"ticks\":\"\"},\"type\":\"mesh3d\"}],\"parcoords\":[{\"line\":{\"colorbar\":{\"outlinewidth\":0,\"ticks\":\"\"}},\"type\":\"parcoords\"}],\"pie\":[{\"automargin\":true,\"type\":\"pie\"}],\"scatter\":[{\"marker\":{\"colorbar\":{\"outlinewidth\":0,\"ticks\":\"\"}},\"type\":\"scatter\"}],\"scatter3d\":[{\"line\":{\"colorbar\":{\"outlinewidth\":0,\"ticks\":\"\"}},\"marker\":{\"colorbar\":{\"outlinewidth\":0,\"ticks\":\"\"}},\"type\":\"scatter3d\"}],\"scattercarpet\":[{\"marker\":{\"colorbar\":{\"outlinewidth\":0,\"ticks\":\"\"}},\"type\":\"scattercarpet\"}],\"scattergeo\":[{\"marker\":{\"colorbar\":{\"outlinewidth\":0,\"ticks\":\"\"}},\"type\":\"scattergeo\"}],\"scattergl\":[{\"marker\":{\"colorbar\":{\"outlinewidth\":0,\"ticks\":\"\"}},\"type\":\"scattergl\"}],\"scattermapbox\":[{\"marker\":{\"colorbar\":{\"outlinewidth\":0,\"ticks\":\"\"}},\"type\":\"scattermapbox\"}],\"scatterpolar\":[{\"marker\":{\"colorbar\":{\"outlinewidth\":0,\"ticks\":\"\"}},\"type\":\"scatterpolar\"}],\"scatterpolargl\":[{\"marker\":{\"colorbar\":{\"outlinewidth\":0,\"ticks\":\"\"}},\"type\":\"scatterpolargl\"}],\"scatterternary\":[{\"marker\":{\"colorbar\":{\"outlinewidth\":0,\"ticks\":\"\"}},\"type\":\"scatterternary\"}],\"surface\":[{\"colorbar\":{\"outlinewidth\":0,\"ticks\":\"\"},\"colorscale\":[[0.0,\"#0d0887\"],[0.1111111111111111,\"#46039f\"],[0.2222222222222222,\"#7201a8\"],[0.3333333333333333,\"#9c179e\"],[0.4444444444444444,\"#bd3786\"],[0.5555555555555556,\"#d8576b\"],[0.6666666666666666,\"#ed7953\"],[0.7777777777777778,\"#fb9f3a\"],[0.8888888888888888,\"#fdca26\"],[1.0,\"#f0f921\"]],\"type\":\"surface\"}],\"table\":[{\"cells\":{\"fill\":{\"color\":\"#EBF0F8\"},\"line\":{\"color\":\"white\"}},\"header\":{\"fill\":{\"color\":\"#C8D4E3\"},\"line\":{\"color\":\"white\"}},\"type\":\"table\"}]},\"layout\":{\"annotationdefaults\":{\"arrowcolor\":\"#2a3f5f\",\"arrowhead\":0,\"arrowwidth\":1},\"autotypenumbers\":\"strict\",\"coloraxis\":{\"colorbar\":{\"outlinewidth\":0,\"ticks\":\"\"}},\"colorscale\":{\"diverging\":[[0,\"#8e0152\"],[0.1,\"#c51b7d\"],[0.2,\"#de77ae\"],[0.3,\"#f1b6da\"],[0.4,\"#fde0ef\"],[0.5,\"#f7f7f7\"],[0.6,\"#e6f5d0\"],[0.7,\"#b8e186\"],[0.8,\"#7fbc41\"],[0.9,\"#4d9221\"],[1,\"#276419\"]],\"sequential\":[[0.0,\"#0d0887\"],[0.1111111111111111,\"#46039f\"],[0.2222222222222222,\"#7201a8\"],[0.3333333333333333,\"#9c179e\"],[0.4444444444444444,\"#bd3786\"],[0.5555555555555556,\"#d8576b\"],[0.6666666666666666,\"#ed7953\"],[0.7777777777777778,\"#fb9f3a\"],[0.8888888888888888,\"#fdca26\"],[1.0,\"#f0f921\"]],\"sequentialminus\":[[0.0,\"#0d0887\"],[0.1111111111111111,\"#46039f\"],[0.2222222222222222,\"#7201a8\"],[0.3333333333333333,\"#9c179e\"],[0.4444444444444444,\"#bd3786\"],[0.5555555555555556,\"#d8576b\"],[0.6666666666666666,\"#ed7953\"],[0.7777777777777778,\"#fb9f3a\"],[0.8888888888888888,\"#fdca26\"],[1.0,\"#f0f921\"]]},\"colorway\":[\"#636efa\",\"#EF553B\",\"#00cc96\",\"#ab63fa\",\"#FFA15A\",\"#19d3f3\",\"#FF6692\",\"#B6E880\",\"#FF97FF\",\"#FECB52\"],\"font\":{\"color\":\"#2a3f5f\"},\"geo\":{\"bgcolor\":\"white\",\"lakecolor\":\"white\",\"landcolor\":\"#E5ECF6\",\"showlakes\":true,\"showland\":true,\"subunitcolor\":\"white\"},\"hoverlabel\":{\"align\":\"left\"},\"hovermode\":\"closest\",\"mapbox\":{\"style\":\"light\"},\"paper_bgcolor\":\"white\",\"plot_bgcolor\":\"#E5ECF6\",\"polar\":{\"angularaxis\":{\"gridcolor\":\"white\",\"linecolor\":\"white\",\"ticks\":\"\"},\"bgcolor\":\"#E5ECF6\",\"radialaxis\":{\"gridcolor\":\"white\",\"linecolor\":\"white\",\"ticks\":\"\"}},\"scene\":{\"xaxis\":{\"backgroundcolor\":\"#E5ECF6\",\"gridcolor\":\"white\",\"gridwidth\":2,\"linecolor\":\"white\",\"showbackground\":true,\"ticks\":\"\",\"zerolinecolor\":\"white\"},\"yaxis\":{\"backgroundcolor\":\"#E5ECF6\",\"gridcolor\":\"white\",\"gridwidth\":2,\"linecolor\":\"white\",\"showbackground\":true,\"ticks\":\"\",\"zerolinecolor\":\"white\"},\"zaxis\":{\"backgroundcolor\":\"#E5ECF6\",\"gridcolor\":\"white\",\"gridwidth\":2,\"linecolor\":\"white\",\"showbackground\":true,\"ticks\":\"\",\"zerolinecolor\":\"white\"}},\"shapedefaults\":{\"line\":{\"color\":\"#2a3f5f\"}},\"ternary\":{\"aaxis\":{\"gridcolor\":\"white\",\"linecolor\":\"white\",\"ticks\":\"\"},\"baxis\":{\"gridcolor\":\"white\",\"linecolor\":\"white\",\"ticks\":\"\"},\"bgcolor\":\"#E5ECF6\",\"caxis\":{\"gridcolor\":\"white\",\"linecolor\":\"white\",\"ticks\":\"\"}},\"title\":{\"x\":0.05},\"xaxis\":{\"automargin\":true,\"gridcolor\":\"white\",\"linecolor\":\"white\",\"ticks\":\"\",\"title\":{\"standoff\":15},\"zerolinecolor\":\"white\",\"zerolinewidth\":2},\"yaxis\":{\"automargin\":true,\"gridcolor\":\"white\",\"linecolor\":\"white\",\"ticks\":\"\",\"title\":{\"standoff\":15},\"zerolinecolor\":\"white\",\"zerolinewidth\":2}}},\"title\":{\"text\":\"<b> Fig 1. Total active restaurants in the UK by year\"},\"xaxis\":{\"tickfont\":{\"size\":12},\"title\":{\"font\":{\"size\":14},\"text\":\"Year\"}},\"yaxis\":{\"tickfont\":{\"size\":12},\"title\":{\"font\":{\"size\":14},\"text\":\"Total active restaurants\"}}},                        {\"responsive\": true}                    ).then(function(){\n",
       "                            \n",
       "var gd = document.getElementById('43535ff0-f5e7-4550-9c59-d68c3cba3ad5');\n",
       "var x = new MutationObserver(function (mutations, observer) {{\n",
       "        var display = window.getComputedStyle(gd).display;\n",
       "        if (!display || display === 'none') {{\n",
       "            console.log([gd, 'removed!']);\n",
       "            Plotly.purge(gd);\n",
       "            observer.disconnect();\n",
       "        }}\n",
       "}});\n",
       "\n",
       "// Listen for the removal of the full notebook cells\n",
       "var notebookContainer = gd.closest('#notebook-container');\n",
       "if (notebookContainer) {{\n",
       "    x.observe(notebookContainer, {childList: true});\n",
       "}}\n",
       "\n",
       "// Listen for the clearing of the current output cell\n",
       "var outputEl = gd.closest('.output');\n",
       "if (outputEl) {{\n",
       "    x.observe(outputEl, {childList: true});\n",
       "}}\n",
       "\n",
       "                        })                };                });            </script>        </div>"
      ]
     },
     "metadata": {},
     "output_type": "display_data"
    }
   ],
   "source": [
    "# Visualize the number of active companies of each category over the years\n",
    "active_company_fig = go.Figure()\n",
    "active_company_fig.add_trace(go.Bar(x=active_companies_by_year['year'],\n",
    "                                    y=active_companies_by_year['total_active_kebab_restaurants'],\n",
    "                                    name='Kebab restaurants',\n",
    "                                    marker_color='rgb(1, 184, 170)',\n",
    "                                    text=active_companies_by_year['kebab_yoy_growth_string'],\n",
    "                                    textposition='outside'\n",
    "                                   ))\n",
    "active_company_fig.add_trace(go.Bar(x=active_companies_by_year['year'],\n",
    "                                    y=active_companies_by_year['total_active_sushi_restaurants'],\n",
    "                                    name='Sushi restaurants',\n",
    "                                    marker_color='rgb(242, 200, 15)',\n",
    "                                    text=active_companies_by_year['sushi_yoy_growth_string'],\n",
    "                                    textposition='outside'\n",
    "                                   ))\n",
    "active_company_fig.add_annotation(y=400,\n",
    "                                  text=f'Kebab CAGR = <b>{kebab_cagr}</b> \\n\\n Sushi CAGR = <b>{sushi_cagr}</b>',\n",
    "                                  showarrow=False)\n",
    "\n",
    "active_company_fig.update_layout(\n",
    "    title='<b> Fig 1. Total active restaurants in the UK by year',\n",
    "    xaxis_tickfont_size=12,\n",
    "    xaxis=dict(\n",
    "        title='Year',\n",
    "        titlefont_size=14,\n",
    "        tickfont_size=12\n",
    "    ),\n",
    "    yaxis=dict(\n",
    "        title='Total active restaurants',\n",
    "        titlefont_size=14,\n",
    "        tickfont_size=12\n",
    "    ),\n",
    "    legend=dict(\n",
    "        x=0,\n",
    "        y=1.0,\n",
    "        bgcolor='rgba(255, 255, 255, 0)',\n",
    "        bordercolor='rgba(255, 255, 255, 0)'\n",
    "    ),\n",
    "    barmode='group',\n",
    "    bargap=0.2,\n",
    "    bargroupgap=0.05,\n",
    "    plot_bgcolor='rgba(0, 0, 0, 0)',\n",
    "    paper_bgcolor='rgba(0, 0, 0, 0)'\n",
    ")\n",
    "active_company_fig.show()"
   ]
  },
  {
   "cell_type": "markdown",
   "id": "ordered-recycling",
   "metadata": {},
   "source": [
    "### 3B. Number of companies by area"
   ]
  },
  {
   "cell_type": "code",
   "execution_count": 36,
   "id": "optical-pound",
   "metadata": {},
   "outputs": [],
   "source": [
    "# Create a function to group the dataframe by area\n",
    "def count_company_by_area(df):\n",
    "    area_df = df.groupby(['county_name','latitude','longitude'], as_index=False).agg({'company_number':pd.Series.nunique}).rename(columns={'company_number':'total_companies'})\n",
    "    return area_df"
   ]
  },
  {
   "cell_type": "code",
   "execution_count": 37,
   "id": "concrete-blade",
   "metadata": {},
   "outputs": [
    {
     "data": {
      "text/html": [
       "<div>\n",
       "<style scoped>\n",
       "    .dataframe tbody tr th:only-of-type {\n",
       "        vertical-align: middle;\n",
       "    }\n",
       "\n",
       "    .dataframe tbody tr th {\n",
       "        vertical-align: top;\n",
       "    }\n",
       "\n",
       "    .dataframe thead th {\n",
       "        text-align: right;\n",
       "    }\n",
       "</style>\n",
       "<table border=\"1\" class=\"dataframe\">\n",
       "  <thead>\n",
       "    <tr style=\"text-align: right;\">\n",
       "      <th></th>\n",
       "      <th>county_name</th>\n",
       "      <th>latitude</th>\n",
       "      <th>longitude</th>\n",
       "      <th>total_companies</th>\n",
       "      <th>category</th>\n",
       "    </tr>\n",
       "  </thead>\n",
       "  <tbody>\n",
       "    <tr>\n",
       "      <th>0</th>\n",
       "      <td>Aberdeenshire</td>\n",
       "      <td>56.8662</td>\n",
       "      <td>-2.668554</td>\n",
       "      <td>1</td>\n",
       "      <td>kebab</td>\n",
       "    </tr>\n",
       "    <tr>\n",
       "      <th>1</th>\n",
       "      <td>Aberdeenshire</td>\n",
       "      <td>57.1437</td>\n",
       "      <td>-2.098100</td>\n",
       "      <td>4</td>\n",
       "      <td>kebab</td>\n",
       "    </tr>\n",
       "    <tr>\n",
       "      <th>2</th>\n",
       "      <td>Argyll and Bute</td>\n",
       "      <td>56.5111</td>\n",
       "      <td>-5.549710</td>\n",
       "      <td>1</td>\n",
       "      <td>kebab</td>\n",
       "    </tr>\n",
       "    <tr>\n",
       "      <th>3</th>\n",
       "      <td>Bedfordshire</td>\n",
       "      <td>51.8662</td>\n",
       "      <td>-0.425280</td>\n",
       "      <td>1</td>\n",
       "      <td>kebab</td>\n",
       "    </tr>\n",
       "    <tr>\n",
       "      <th>4</th>\n",
       "      <td>Bedfordshire</td>\n",
       "      <td>52.1346</td>\n",
       "      <td>-0.486600</td>\n",
       "      <td>2</td>\n",
       "      <td>kebab</td>\n",
       "    </tr>\n",
       "    <tr>\n",
       "      <th>...</th>\n",
       "      <td>...</td>\n",
       "      <td>...</td>\n",
       "      <td>...</td>\n",
       "      <td>...</td>\n",
       "      <td>...</td>\n",
       "    </tr>\n",
       "    <tr>\n",
       "      <th>273</th>\n",
       "      <td>West Yorkshire</td>\n",
       "      <td>53.7965</td>\n",
       "      <td>-1.547800</td>\n",
       "      <td>1</td>\n",
       "      <td>sushi</td>\n",
       "    </tr>\n",
       "    <tr>\n",
       "      <th>274</th>\n",
       "      <td>West Yorkshire</td>\n",
       "      <td>53.8201</td>\n",
       "      <td>-1.570400</td>\n",
       "      <td>3</td>\n",
       "      <td>sushi</td>\n",
       "    </tr>\n",
       "    <tr>\n",
       "      <th>275</th>\n",
       "      <td>West Yorkshire</td>\n",
       "      <td>53.8290</td>\n",
       "      <td>-1.538300</td>\n",
       "      <td>3</td>\n",
       "      <td>sushi</td>\n",
       "    </tr>\n",
       "    <tr>\n",
       "      <th>276</th>\n",
       "      <td>Wiltshire</td>\n",
       "      <td>51.5580</td>\n",
       "      <td>-1.781200</td>\n",
       "      <td>2</td>\n",
       "      <td>sushi</td>\n",
       "    </tr>\n",
       "    <tr>\n",
       "      <th>277</th>\n",
       "      <td>Wiltshire</td>\n",
       "      <td>51.5892</td>\n",
       "      <td>-1.719400</td>\n",
       "      <td>1</td>\n",
       "      <td>sushi</td>\n",
       "    </tr>\n",
       "  </tbody>\n",
       "</table>\n",
       "<p>649 rows × 5 columns</p>\n",
       "</div>"
      ],
      "text/plain": [
       "         county_name  latitude  longitude  total_companies category\n",
       "0      Aberdeenshire   56.8662  -2.668554                1    kebab\n",
       "1      Aberdeenshire   57.1437  -2.098100                4    kebab\n",
       "2    Argyll and Bute   56.5111  -5.549710                1    kebab\n",
       "3       Bedfordshire   51.8662  -0.425280                1    kebab\n",
       "4       Bedfordshire   52.1346  -0.486600                2    kebab\n",
       "..               ...       ...        ...              ...      ...\n",
       "273   West Yorkshire   53.7965  -1.547800                1    sushi\n",
       "274   West Yorkshire   53.8201  -1.570400                3    sushi\n",
       "275   West Yorkshire   53.8290  -1.538300                3    sushi\n",
       "276        Wiltshire   51.5580  -1.781200                2    sushi\n",
       "277        Wiltshire   51.5892  -1.719400                1    sushi\n",
       "\n",
       "[649 rows x 5 columns]"
      ]
     },
     "execution_count": 37,
     "metadata": {},
     "output_type": "execute_result"
    }
   ],
   "source": [
    "# Active companies in 2021\n",
    "kebab_active_company_2021_df = count_company_by_area(kebab_df[kebab_df['active_2021']==1])\n",
    "sushi_active_company_2021_df = count_company_by_area(sushi_df[sushi_df['active_2021']==1])\n",
    "\n",
    "kebab_active_company_2021_df['category'] = 'kebab'\n",
    "sushi_active_company_2021_df['category'] = 'sushi'\n",
    "\n",
    "active_company_2021_df = pd.concat([kebab_active_company_2021_df, sushi_active_company_2021_df])\n",
    "active_company_2021_df"
   ]
  },
  {
   "cell_type": "code",
   "execution_count": 38,
   "id": "collect-regression",
   "metadata": {},
   "outputs": [
    {
     "data": {
      "text/html": [
       "<div>\n",
       "<style scoped>\n",
       "    .dataframe tbody tr th:only-of-type {\n",
       "        vertical-align: middle;\n",
       "    }\n",
       "\n",
       "    .dataframe tbody tr th {\n",
       "        vertical-align: top;\n",
       "    }\n",
       "\n",
       "    .dataframe thead th {\n",
       "        text-align: right;\n",
       "    }\n",
       "</style>\n",
       "<table border=\"1\" class=\"dataframe\">\n",
       "  <thead>\n",
       "    <tr style=\"text-align: right;\">\n",
       "      <th></th>\n",
       "      <th>county_name</th>\n",
       "      <th>latitude</th>\n",
       "      <th>longitude</th>\n",
       "      <th>total_companies</th>\n",
       "      <th>category</th>\n",
       "    </tr>\n",
       "  </thead>\n",
       "  <tbody>\n",
       "    <tr>\n",
       "      <th>0</th>\n",
       "      <td>Berkshire</td>\n",
       "      <td>51.4563</td>\n",
       "      <td>-0.971100</td>\n",
       "      <td>1</td>\n",
       "      <td>kebab</td>\n",
       "    </tr>\n",
       "    <tr>\n",
       "      <th>1</th>\n",
       "      <td>Buckinghamshire</td>\n",
       "      <td>52.1191</td>\n",
       "      <td>-0.708485</td>\n",
       "      <td>1</td>\n",
       "      <td>kebab</td>\n",
       "    </tr>\n",
       "    <tr>\n",
       "      <th>2</th>\n",
       "      <td>Derbyshire</td>\n",
       "      <td>52.9228</td>\n",
       "      <td>-1.476600</td>\n",
       "      <td>1</td>\n",
       "      <td>kebab</td>\n",
       "    </tr>\n",
       "    <tr>\n",
       "      <th>3</th>\n",
       "      <td>Devon</td>\n",
       "      <td>50.7054</td>\n",
       "      <td>-3.529533</td>\n",
       "      <td>1</td>\n",
       "      <td>kebab</td>\n",
       "    </tr>\n",
       "    <tr>\n",
       "      <th>4</th>\n",
       "      <td>Dorset</td>\n",
       "      <td>50.8259</td>\n",
       "      <td>-2.958179</td>\n",
       "      <td>1</td>\n",
       "      <td>kebab</td>\n",
       "    </tr>\n",
       "    <tr>\n",
       "      <th>...</th>\n",
       "      <td>...</td>\n",
       "      <td>...</td>\n",
       "      <td>...</td>\n",
       "      <td>...</td>\n",
       "      <td>...</td>\n",
       "    </tr>\n",
       "    <tr>\n",
       "      <th>48</th>\n",
       "      <td>West Midlands</td>\n",
       "      <td>52.4383</td>\n",
       "      <td>-1.759567</td>\n",
       "      <td>1</td>\n",
       "      <td>sushi</td>\n",
       "    </tr>\n",
       "    <tr>\n",
       "      <th>49</th>\n",
       "      <td>West Midlands</td>\n",
       "      <td>52.4636</td>\n",
       "      <td>-1.822750</td>\n",
       "      <td>1</td>\n",
       "      <td>sushi</td>\n",
       "    </tr>\n",
       "    <tr>\n",
       "      <th>50</th>\n",
       "      <td>West Midlands</td>\n",
       "      <td>52.4814</td>\n",
       "      <td>-1.899800</td>\n",
       "      <td>2</td>\n",
       "      <td>sushi</td>\n",
       "    </tr>\n",
       "    <tr>\n",
       "      <th>51</th>\n",
       "      <td>West Midlands</td>\n",
       "      <td>52.5840</td>\n",
       "      <td>-1.855350</td>\n",
       "      <td>1</td>\n",
       "      <td>sushi</td>\n",
       "    </tr>\n",
       "    <tr>\n",
       "      <th>52</th>\n",
       "      <td>West Sussex</td>\n",
       "      <td>50.9216</td>\n",
       "      <td>-0.809264</td>\n",
       "      <td>1</td>\n",
       "      <td>sushi</td>\n",
       "    </tr>\n",
       "  </tbody>\n",
       "</table>\n",
       "<p>106 rows × 5 columns</p>\n",
       "</div>"
      ],
      "text/plain": [
       "        county_name  latitude  longitude  total_companies category\n",
       "0         Berkshire   51.4563  -0.971100                1    kebab\n",
       "1   Buckinghamshire   52.1191  -0.708485                1    kebab\n",
       "2        Derbyshire   52.9228  -1.476600                1    kebab\n",
       "3             Devon   50.7054  -3.529533                1    kebab\n",
       "4            Dorset   50.8259  -2.958179                1    kebab\n",
       "..              ...       ...        ...              ...      ...\n",
       "48    West Midlands   52.4383  -1.759567                1    sushi\n",
       "49    West Midlands   52.4636  -1.822750                1    sushi\n",
       "50    West Midlands   52.4814  -1.899800                2    sushi\n",
       "51    West Midlands   52.5840  -1.855350                1    sushi\n",
       "52      West Sussex   50.9216  -0.809264                1    sushi\n",
       "\n",
       "[106 rows x 5 columns]"
      ]
     },
     "execution_count": 38,
     "metadata": {},
     "output_type": "execute_result"
    }
   ],
   "source": [
    "# Active companies in 2015 by area\n",
    "kebab_active_company_2015_df = count_company_by_area(kebab_df[kebab_df['active_2015']==1])\n",
    "sushi_active_company_2015_df = count_company_by_area(sushi_df[sushi_df['active_2015']==1])\n",
    "\n",
    "kebab_active_company_2015_df['category'] = 'kebab'\n",
    "sushi_active_company_2015_df['category'] = 'sushi'\n",
    "\n",
    "active_company_2015_df = pd.concat([kebab_active_company_2015_df, sushi_active_company_2015_df])\n",
    "active_company_2015_df"
   ]
  },
  {
   "cell_type": "code",
   "execution_count": 39,
   "id": "inappropriate-migration",
   "metadata": {},
   "outputs": [],
   "source": [
    "def visualize_coordinates(df, year, fig_number):\n",
    "    px.set_mapbox_access_token('pk.eyJ1IjoiaHV0YW1pbmFkeWEiLCJhIjoiY2t3ZGdyZTl1MGwxdDJ1bjFiZTVxZGczZyJ9.HxWp7vWbhdOzNZqXIjlpPg')\n",
    "    map_fig = px.scatter_mapbox(df,\n",
    "                             lat=df['latitude'],\n",
    "                             lon=df['longitude'],\n",
    "                             center={'lat':54.963034182530635,'lon':-2.3158436956664996},\n",
    "                             size=df['total_companies'],\n",
    "                             color=df['category'],\n",
    "                             color_discrete_map={'kebab':'rgb(1, 184, 170)','sushi':'rgb(242, 200, 15)'},\n",
    "                             zoom=5,\n",
    "                             opacity=0.5,\n",
    "                             title = f'<b>{fig_number} Total active restaurants in the UK - {year}',\n",
    "                             height=1000,\n",
    "                             width=1000)\n",
    "\n",
    "    map_fig.update_layout(legend=dict(orientation=\"h\",\n",
    "                                      yanchor=\"top\",\n",
    "                                      y=0.99,\n",
    "                                      xanchor=\"left\",\n",
    "                                      x=0.01,\n",
    "                                      bgcolor='rgba(0, 0, 0, 0)'\n",
    "                                     ))\n",
    "    return map_fig"
   ]
  },
  {
   "cell_type": "code",
   "execution_count": 40,
   "id": "median-trinity",
   "metadata": {
    "scrolled": true
   },
   "outputs": [
    {
     "data": {
      "application/vnd.plotly.v1+json": {
       "config": {
        "plotlyServerURL": "https://plot.ly"
       },
       "data": [
        {
         "hovertemplate": "category=kebab<br>total_companies=%{marker.size}<br>latitude=%{lat}<br>longitude=%{lon}<extra></extra>",
         "lat": [
          51.4563,
          52.1191,
          52.9228,
          50.7054,
          50.8259,
          51.7059,
          51.7221,
          56.0167,
          51.8743,
          51.37,
          51.3915,
          51.3992,
          51.4307,
          51.4872,
          51.513,
          51.5278,
          51.5333,
          51.5362,
          51.5386,
          51.5461,
          51.5524,
          51.5529,
          51.5576,
          51.5596,
          51.5834,
          51.5843,
          51.594,
          51.6,
          51.6179,
          51.6445,
          51.65,
          53.5833,
          52.0188,
          51.6891,
          51.9114,
          50.7606,
          51.0833,
          51.3887,
          53.1481,
          51.7321,
          52.5383,
          53.383,
          52.0592,
          51.2521,
          51.2891,
          51.4317,
          51.6766,
          52.4804,
          52.497,
          52.5359,
          50.9346,
          53.7667,
          53.8328
         ],
         "legendgroup": "kebab",
         "lon": [
          -0.9711,
          -0.7084846153846154,
          -1.4766,
          -3.529533333333333,
          -2.9581789473684204,
          0.0296666666666666,
          0.5871850000000001,
          -3.6167,
          -2.1239538461538463,
          0.02375,
          -0.2898,
          -0.2556,
          -0.1647,
          0.0740666666666666,
          -0.2851888888888889,
          0.0182666666666666,
          0.0493249999999999,
          -0.0944,
          -0.055525,
          0.1389,
          -0.1205142857142857,
          0.129,
          0.0728,
          -0.0077999999999999,
          -0.33615,
          0.0171666666666666,
          -0.3307333333333333,
          -0.1167,
          -0.1101,
          -0.0465,
          -0.1943166666666666,
          -2.4333,
          -2.796544736842104,
          -0.03535,
          -0.381975,
          -1.3112333333333333,
          1.1757,
          1.3956,
          -0.5819500000000002,
          -1.224375,
          -2.476105714285714,
          -1.4659,
          1.1555,
          -0.725625,
          -0.2318166666666666,
          -0.4576,
          -3.9147,
          -1.7883,
          -1.973,
          -1.9905,
          -0.1449399999999999,
          -1.5667,
          -1.7255
         ],
         "marker": {
          "color": "rgb(1, 184, 170)",
          "opacity": 0.5,
          "size": [
           1,
           1,
           1,
           1,
           1,
           1,
           1,
           1,
           1,
           1,
           1,
           1,
           1,
           1,
           1,
           1,
           1,
           1,
           1,
           1,
           2,
           1,
           2,
           1,
           1,
           3,
           1,
           2,
           2,
           1,
           1,
           1,
           1,
           1,
           1,
           1,
           1,
           1,
           1,
           1,
           1,
           1,
           1,
           1,
           1,
           1,
           1,
           1,
           2,
           1,
           1,
           1,
           1
          ],
          "sizemode": "area",
          "sizeref": 0.0075
         },
         "mode": "markers",
         "name": "kebab",
         "showlegend": true,
         "subplot": "mapbox",
         "type": "scattermapbox"
        },
        {
         "hovertemplate": "category=sushi<br>total_companies=%{marker.size}<br>latitude=%{lat}<br>longitude=%{lon}<extra></extra>",
         "lat": [
          57.1437,
          51.8952,
          53.4333,
          55.9489,
          55.971,
          53.3123,
          50.7333,
          55.9154,
          50.845,
          51.3624,
          51.3833,
          51.3992,
          51.4163,
          51.4225,
          51.4449,
          51.4601,
          51.4643,
          51.4692,
          51.4803,
          51.4963,
          51.5085,
          51.5103,
          51.5111,
          51.5232,
          51.5237,
          51.5265,
          51.5299,
          51.5524,
          51.5649,
          51.594,
          51.6133,
          53.4809,
          53.5056,
          51.6553,
          51.7034,
          51.1386,
          51.3973,
          52.6076,
          51.5888,
          52.9708,
          50.9832,
          51.4061,
          53.383,
          53.386,
          52.3113,
          52.4176,
          54.95,
          54.9646,
          52.4383,
          52.4636,
          52.4814,
          52.584,
          50.9216
         ],
         "legendgroup": "sushi",
         "lon": [
          -2.0981,
          -0.6581499999999998,
          -2.6556,
          -3.1632,
          -3.2709,
          -1.3394,
          -3.5297000000000005,
          -4.3328,
          -0.179625,
          -0.3054,
          -0.060975,
          -0.2556,
          -0.1973333333333333,
          0.1107,
          -0.0185,
          -0.2963666666666666,
          -0.0119,
          -0.1619333333333333,
          -0.1993,
          -0.1762833333333333,
          -0.1257,
          -0.2657166666666666,
          -0.0187647058823529,
          -0.0933,
          -0.0877,
          -0.0986,
          -0.1471818181818182,
          -0.1205142857142857,
          -0.1351,
          -0.3307333333333333,
          -0.1441,
          -2.2374,
          -2.2623,
          -0.396,
          -0.1830999999999999,
          0.8908125,
          0.8514,
          -1.1167166666666668,
          -2.9638,
          -1.081,
          -2.773357142857143,
          -2.5627,
          -1.4659,
          -1.4084666666666668,
          0.577525,
          0.5987333333333333,
          -1.629725,
          -1.718925,
          -1.7595666666666665,
          -1.82275,
          -1.8998,
          -1.85535,
          -0.8092642857142859
         ],
         "marker": {
          "color": "rgb(242, 200, 15)",
          "opacity": 0.5,
          "size": [
           1,
           1,
           1,
           1,
           1,
           1,
           1,
           1,
           1,
           1,
           1,
           1,
           1,
           1,
           1,
           1,
           1,
           1,
           1,
           1,
           1,
           3,
           1,
           1,
           1,
           1,
           1,
           2,
           1,
           1,
           1,
           1,
           1,
           1,
           1,
           1,
           1,
           1,
           1,
           1,
           1,
           1,
           1,
           1,
           2,
           1,
           1,
           2,
           1,
           1,
           2,
           1,
           1
          ],
          "sizemode": "area",
          "sizeref": 0.0075
         },
         "mode": "markers",
         "name": "sushi",
         "showlegend": true,
         "subplot": "mapbox",
         "type": "scattermapbox"
        }
       ],
       "layout": {
        "height": 1000,
        "legend": {
         "bgcolor": "rgba(0, 0, 0, 0)",
         "itemsizing": "constant",
         "orientation": "h",
         "title": {
          "text": "category"
         },
         "tracegroupgap": 0,
         "x": 0.01,
         "xanchor": "left",
         "y": 0.99,
         "yanchor": "top"
        },
        "mapbox": {
         "accesstoken": "pk.eyJ1IjoiaHV0YW1pbmFkeWEiLCJhIjoiY2t3ZGdyZTl1MGwxdDJ1bjFiZTVxZGczZyJ9.HxWp7vWbhdOzNZqXIjlpPg",
         "center": {
          "lat": 54.963034182530635,
          "lon": -2.3158436956664996
         },
         "domain": {
          "x": [
           0,
           1
          ],
          "y": [
           0,
           1
          ]
         },
         "zoom": 5
        },
        "template": {
         "data": {
          "bar": [
           {
            "error_x": {
             "color": "#2a3f5f"
            },
            "error_y": {
             "color": "#2a3f5f"
            },
            "marker": {
             "line": {
              "color": "#E5ECF6",
              "width": 0.5
             },
             "pattern": {
              "fillmode": "overlay",
              "size": 10,
              "solidity": 0.2
             }
            },
            "type": "bar"
           }
          ],
          "barpolar": [
           {
            "marker": {
             "line": {
              "color": "#E5ECF6",
              "width": 0.5
             },
             "pattern": {
              "fillmode": "overlay",
              "size": 10,
              "solidity": 0.2
             }
            },
            "type": "barpolar"
           }
          ],
          "carpet": [
           {
            "aaxis": {
             "endlinecolor": "#2a3f5f",
             "gridcolor": "white",
             "linecolor": "white",
             "minorgridcolor": "white",
             "startlinecolor": "#2a3f5f"
            },
            "baxis": {
             "endlinecolor": "#2a3f5f",
             "gridcolor": "white",
             "linecolor": "white",
             "minorgridcolor": "white",
             "startlinecolor": "#2a3f5f"
            },
            "type": "carpet"
           }
          ],
          "choropleth": [
           {
            "colorbar": {
             "outlinewidth": 0,
             "ticks": ""
            },
            "type": "choropleth"
           }
          ],
          "contour": [
           {
            "colorbar": {
             "outlinewidth": 0,
             "ticks": ""
            },
            "colorscale": [
             [
              0,
              "#0d0887"
             ],
             [
              0.1111111111111111,
              "#46039f"
             ],
             [
              0.2222222222222222,
              "#7201a8"
             ],
             [
              0.3333333333333333,
              "#9c179e"
             ],
             [
              0.4444444444444444,
              "#bd3786"
             ],
             [
              0.5555555555555556,
              "#d8576b"
             ],
             [
              0.6666666666666666,
              "#ed7953"
             ],
             [
              0.7777777777777778,
              "#fb9f3a"
             ],
             [
              0.8888888888888888,
              "#fdca26"
             ],
             [
              1,
              "#f0f921"
             ]
            ],
            "type": "contour"
           }
          ],
          "contourcarpet": [
           {
            "colorbar": {
             "outlinewidth": 0,
             "ticks": ""
            },
            "type": "contourcarpet"
           }
          ],
          "heatmap": [
           {
            "colorbar": {
             "outlinewidth": 0,
             "ticks": ""
            },
            "colorscale": [
             [
              0,
              "#0d0887"
             ],
             [
              0.1111111111111111,
              "#46039f"
             ],
             [
              0.2222222222222222,
              "#7201a8"
             ],
             [
              0.3333333333333333,
              "#9c179e"
             ],
             [
              0.4444444444444444,
              "#bd3786"
             ],
             [
              0.5555555555555556,
              "#d8576b"
             ],
             [
              0.6666666666666666,
              "#ed7953"
             ],
             [
              0.7777777777777778,
              "#fb9f3a"
             ],
             [
              0.8888888888888888,
              "#fdca26"
             ],
             [
              1,
              "#f0f921"
             ]
            ],
            "type": "heatmap"
           }
          ],
          "heatmapgl": [
           {
            "colorbar": {
             "outlinewidth": 0,
             "ticks": ""
            },
            "colorscale": [
             [
              0,
              "#0d0887"
             ],
             [
              0.1111111111111111,
              "#46039f"
             ],
             [
              0.2222222222222222,
              "#7201a8"
             ],
             [
              0.3333333333333333,
              "#9c179e"
             ],
             [
              0.4444444444444444,
              "#bd3786"
             ],
             [
              0.5555555555555556,
              "#d8576b"
             ],
             [
              0.6666666666666666,
              "#ed7953"
             ],
             [
              0.7777777777777778,
              "#fb9f3a"
             ],
             [
              0.8888888888888888,
              "#fdca26"
             ],
             [
              1,
              "#f0f921"
             ]
            ],
            "type": "heatmapgl"
           }
          ],
          "histogram": [
           {
            "marker": {
             "pattern": {
              "fillmode": "overlay",
              "size": 10,
              "solidity": 0.2
             }
            },
            "type": "histogram"
           }
          ],
          "histogram2d": [
           {
            "colorbar": {
             "outlinewidth": 0,
             "ticks": ""
            },
            "colorscale": [
             [
              0,
              "#0d0887"
             ],
             [
              0.1111111111111111,
              "#46039f"
             ],
             [
              0.2222222222222222,
              "#7201a8"
             ],
             [
              0.3333333333333333,
              "#9c179e"
             ],
             [
              0.4444444444444444,
              "#bd3786"
             ],
             [
              0.5555555555555556,
              "#d8576b"
             ],
             [
              0.6666666666666666,
              "#ed7953"
             ],
             [
              0.7777777777777778,
              "#fb9f3a"
             ],
             [
              0.8888888888888888,
              "#fdca26"
             ],
             [
              1,
              "#f0f921"
             ]
            ],
            "type": "histogram2d"
           }
          ],
          "histogram2dcontour": [
           {
            "colorbar": {
             "outlinewidth": 0,
             "ticks": ""
            },
            "colorscale": [
             [
              0,
              "#0d0887"
             ],
             [
              0.1111111111111111,
              "#46039f"
             ],
             [
              0.2222222222222222,
              "#7201a8"
             ],
             [
              0.3333333333333333,
              "#9c179e"
             ],
             [
              0.4444444444444444,
              "#bd3786"
             ],
             [
              0.5555555555555556,
              "#d8576b"
             ],
             [
              0.6666666666666666,
              "#ed7953"
             ],
             [
              0.7777777777777778,
              "#fb9f3a"
             ],
             [
              0.8888888888888888,
              "#fdca26"
             ],
             [
              1,
              "#f0f921"
             ]
            ],
            "type": "histogram2dcontour"
           }
          ],
          "mesh3d": [
           {
            "colorbar": {
             "outlinewidth": 0,
             "ticks": ""
            },
            "type": "mesh3d"
           }
          ],
          "parcoords": [
           {
            "line": {
             "colorbar": {
              "outlinewidth": 0,
              "ticks": ""
             }
            },
            "type": "parcoords"
           }
          ],
          "pie": [
           {
            "automargin": true,
            "type": "pie"
           }
          ],
          "scatter": [
           {
            "marker": {
             "colorbar": {
              "outlinewidth": 0,
              "ticks": ""
             }
            },
            "type": "scatter"
           }
          ],
          "scatter3d": [
           {
            "line": {
             "colorbar": {
              "outlinewidth": 0,
              "ticks": ""
             }
            },
            "marker": {
             "colorbar": {
              "outlinewidth": 0,
              "ticks": ""
             }
            },
            "type": "scatter3d"
           }
          ],
          "scattercarpet": [
           {
            "marker": {
             "colorbar": {
              "outlinewidth": 0,
              "ticks": ""
             }
            },
            "type": "scattercarpet"
           }
          ],
          "scattergeo": [
           {
            "marker": {
             "colorbar": {
              "outlinewidth": 0,
              "ticks": ""
             }
            },
            "type": "scattergeo"
           }
          ],
          "scattergl": [
           {
            "marker": {
             "colorbar": {
              "outlinewidth": 0,
              "ticks": ""
             }
            },
            "type": "scattergl"
           }
          ],
          "scattermapbox": [
           {
            "marker": {
             "colorbar": {
              "outlinewidth": 0,
              "ticks": ""
             }
            },
            "type": "scattermapbox"
           }
          ],
          "scatterpolar": [
           {
            "marker": {
             "colorbar": {
              "outlinewidth": 0,
              "ticks": ""
             }
            },
            "type": "scatterpolar"
           }
          ],
          "scatterpolargl": [
           {
            "marker": {
             "colorbar": {
              "outlinewidth": 0,
              "ticks": ""
             }
            },
            "type": "scatterpolargl"
           }
          ],
          "scatterternary": [
           {
            "marker": {
             "colorbar": {
              "outlinewidth": 0,
              "ticks": ""
             }
            },
            "type": "scatterternary"
           }
          ],
          "surface": [
           {
            "colorbar": {
             "outlinewidth": 0,
             "ticks": ""
            },
            "colorscale": [
             [
              0,
              "#0d0887"
             ],
             [
              0.1111111111111111,
              "#46039f"
             ],
             [
              0.2222222222222222,
              "#7201a8"
             ],
             [
              0.3333333333333333,
              "#9c179e"
             ],
             [
              0.4444444444444444,
              "#bd3786"
             ],
             [
              0.5555555555555556,
              "#d8576b"
             ],
             [
              0.6666666666666666,
              "#ed7953"
             ],
             [
              0.7777777777777778,
              "#fb9f3a"
             ],
             [
              0.8888888888888888,
              "#fdca26"
             ],
             [
              1,
              "#f0f921"
             ]
            ],
            "type": "surface"
           }
          ],
          "table": [
           {
            "cells": {
             "fill": {
              "color": "#EBF0F8"
             },
             "line": {
              "color": "white"
             }
            },
            "header": {
             "fill": {
              "color": "#C8D4E3"
             },
             "line": {
              "color": "white"
             }
            },
            "type": "table"
           }
          ]
         },
         "layout": {
          "annotationdefaults": {
           "arrowcolor": "#2a3f5f",
           "arrowhead": 0,
           "arrowwidth": 1
          },
          "autotypenumbers": "strict",
          "coloraxis": {
           "colorbar": {
            "outlinewidth": 0,
            "ticks": ""
           }
          },
          "colorscale": {
           "diverging": [
            [
             0,
             "#8e0152"
            ],
            [
             0.1,
             "#c51b7d"
            ],
            [
             0.2,
             "#de77ae"
            ],
            [
             0.3,
             "#f1b6da"
            ],
            [
             0.4,
             "#fde0ef"
            ],
            [
             0.5,
             "#f7f7f7"
            ],
            [
             0.6,
             "#e6f5d0"
            ],
            [
             0.7,
             "#b8e186"
            ],
            [
             0.8,
             "#7fbc41"
            ],
            [
             0.9,
             "#4d9221"
            ],
            [
             1,
             "#276419"
            ]
           ],
           "sequential": [
            [
             0,
             "#0d0887"
            ],
            [
             0.1111111111111111,
             "#46039f"
            ],
            [
             0.2222222222222222,
             "#7201a8"
            ],
            [
             0.3333333333333333,
             "#9c179e"
            ],
            [
             0.4444444444444444,
             "#bd3786"
            ],
            [
             0.5555555555555556,
             "#d8576b"
            ],
            [
             0.6666666666666666,
             "#ed7953"
            ],
            [
             0.7777777777777778,
             "#fb9f3a"
            ],
            [
             0.8888888888888888,
             "#fdca26"
            ],
            [
             1,
             "#f0f921"
            ]
           ],
           "sequentialminus": [
            [
             0,
             "#0d0887"
            ],
            [
             0.1111111111111111,
             "#46039f"
            ],
            [
             0.2222222222222222,
             "#7201a8"
            ],
            [
             0.3333333333333333,
             "#9c179e"
            ],
            [
             0.4444444444444444,
             "#bd3786"
            ],
            [
             0.5555555555555556,
             "#d8576b"
            ],
            [
             0.6666666666666666,
             "#ed7953"
            ],
            [
             0.7777777777777778,
             "#fb9f3a"
            ],
            [
             0.8888888888888888,
             "#fdca26"
            ],
            [
             1,
             "#f0f921"
            ]
           ]
          },
          "colorway": [
           "#636efa",
           "#EF553B",
           "#00cc96",
           "#ab63fa",
           "#FFA15A",
           "#19d3f3",
           "#FF6692",
           "#B6E880",
           "#FF97FF",
           "#FECB52"
          ],
          "font": {
           "color": "#2a3f5f"
          },
          "geo": {
           "bgcolor": "white",
           "lakecolor": "white",
           "landcolor": "#E5ECF6",
           "showlakes": true,
           "showland": true,
           "subunitcolor": "white"
          },
          "hoverlabel": {
           "align": "left"
          },
          "hovermode": "closest",
          "mapbox": {
           "style": "light"
          },
          "paper_bgcolor": "white",
          "plot_bgcolor": "#E5ECF6",
          "polar": {
           "angularaxis": {
            "gridcolor": "white",
            "linecolor": "white",
            "ticks": ""
           },
           "bgcolor": "#E5ECF6",
           "radialaxis": {
            "gridcolor": "white",
            "linecolor": "white",
            "ticks": ""
           }
          },
          "scene": {
           "xaxis": {
            "backgroundcolor": "#E5ECF6",
            "gridcolor": "white",
            "gridwidth": 2,
            "linecolor": "white",
            "showbackground": true,
            "ticks": "",
            "zerolinecolor": "white"
           },
           "yaxis": {
            "backgroundcolor": "#E5ECF6",
            "gridcolor": "white",
            "gridwidth": 2,
            "linecolor": "white",
            "showbackground": true,
            "ticks": "",
            "zerolinecolor": "white"
           },
           "zaxis": {
            "backgroundcolor": "#E5ECF6",
            "gridcolor": "white",
            "gridwidth": 2,
            "linecolor": "white",
            "showbackground": true,
            "ticks": "",
            "zerolinecolor": "white"
           }
          },
          "shapedefaults": {
           "line": {
            "color": "#2a3f5f"
           }
          },
          "ternary": {
           "aaxis": {
            "gridcolor": "white",
            "linecolor": "white",
            "ticks": ""
           },
           "baxis": {
            "gridcolor": "white",
            "linecolor": "white",
            "ticks": ""
           },
           "bgcolor": "#E5ECF6",
           "caxis": {
            "gridcolor": "white",
            "linecolor": "white",
            "ticks": ""
           }
          },
          "title": {
           "x": 0.05
          },
          "xaxis": {
           "automargin": true,
           "gridcolor": "white",
           "linecolor": "white",
           "ticks": "",
           "title": {
            "standoff": 15
           },
           "zerolinecolor": "white",
           "zerolinewidth": 2
          },
          "yaxis": {
           "automargin": true,
           "gridcolor": "white",
           "linecolor": "white",
           "ticks": "",
           "title": {
            "standoff": 15
           },
           "zerolinecolor": "white",
           "zerolinewidth": 2
          }
         }
        },
        "title": {
         "text": "<b>Fig 2. Total active restaurants in the UK - 2015"
        },
        "width": 1000
       }
      },
      "text/html": [
       "<div>                            <div id=\"1a4be97f-5301-46c0-a6de-08ffdb00e7e2\" class=\"plotly-graph-div\" style=\"height:1000px; width:1000px;\"></div>            <script type=\"text/javascript\">                require([\"plotly\"], function(Plotly) {                    window.PLOTLYENV=window.PLOTLYENV || {};                                    if (document.getElementById(\"1a4be97f-5301-46c0-a6de-08ffdb00e7e2\")) {                    Plotly.newPlot(                        \"1a4be97f-5301-46c0-a6de-08ffdb00e7e2\",                        [{\"hovertemplate\":\"category=kebab<br>total_companies=%{marker.size}<br>latitude=%{lat}<br>longitude=%{lon}<extra></extra>\",\"lat\":[51.4563,52.1191,52.9228,50.7054,50.8259,51.7059,51.7221,56.0167,51.8743,51.37,51.3915,51.3992,51.4307,51.4872,51.513,51.5278,51.5333,51.5362,51.5386,51.5461,51.5524,51.5529,51.5576,51.5596,51.5834,51.5843,51.594,51.6,51.6179,51.6445,51.65,53.5833,52.0188,51.6891,51.9114,50.7606,51.0833,51.3887,53.1481,51.7321,52.5383,53.383,52.0592,51.2521,51.2891,51.4317,51.6766,52.4804,52.497,52.5359,50.9346,53.7667,53.8328],\"legendgroup\":\"kebab\",\"lon\":[-0.9711,-0.7084846153846154,-1.4766,-3.529533333333333,-2.9581789473684204,0.0296666666666666,0.5871850000000001,-3.6167,-2.1239538461538463,0.02375,-0.2898,-0.2556,-0.1647,0.0740666666666666,-0.2851888888888889,0.0182666666666666,0.0493249999999999,-0.0944,-0.055525,0.1389,-0.1205142857142857,0.129,0.0728,-0.0077999999999999,-0.33615,0.0171666666666666,-0.3307333333333333,-0.1167,-0.1101,-0.0465,-0.1943166666666666,-2.4333,-2.796544736842104,-0.03535,-0.381975,-1.3112333333333333,1.1757,1.3956,-0.5819500000000002,-1.224375,-2.476105714285714,-1.4659,1.1555,-0.725625,-0.2318166666666666,-0.4576,-3.9147,-1.7883,-1.973,-1.9905,-0.1449399999999999,-1.5667,-1.7255],\"marker\":{\"color\":\"rgb(1, 184, 170)\",\"opacity\":0.5,\"size\":[1,1,1,1,1,1,1,1,1,1,1,1,1,1,1,1,1,1,1,1,2,1,2,1,1,3,1,2,2,1,1,1,1,1,1,1,1,1,1,1,1,1,1,1,1,1,1,1,2,1,1,1,1],\"sizemode\":\"area\",\"sizeref\":0.0075},\"mode\":\"markers\",\"name\":\"kebab\",\"showlegend\":true,\"subplot\":\"mapbox\",\"type\":\"scattermapbox\"},{\"hovertemplate\":\"category=sushi<br>total_companies=%{marker.size}<br>latitude=%{lat}<br>longitude=%{lon}<extra></extra>\",\"lat\":[57.1437,51.8952,53.4333,55.9489,55.971,53.3123,50.7333,55.9154,50.845,51.3624,51.3833,51.3992,51.4163,51.4225,51.4449,51.4601,51.4643,51.4692,51.4803,51.4963,51.5085,51.5103,51.5111,51.5232,51.5237,51.5265,51.5299,51.5524,51.5649,51.594,51.6133,53.4809,53.5056,51.6553,51.7034,51.1386,51.3973,52.6076,51.5888,52.9708,50.9832,51.4061,53.383,53.386,52.3113,52.4176,54.95,54.9646,52.4383,52.4636,52.4814,52.584,50.9216],\"legendgroup\":\"sushi\",\"lon\":[-2.0981,-0.6581499999999998,-2.6556,-3.1632,-3.2709,-1.3394,-3.5297000000000005,-4.3328,-0.179625,-0.3054,-0.060975,-0.2556,-0.1973333333333333,0.1107,-0.0185,-0.2963666666666666,-0.0119,-0.1619333333333333,-0.1993,-0.1762833333333333,-0.1257,-0.2657166666666666,-0.0187647058823529,-0.0933,-0.0877,-0.0986,-0.1471818181818182,-0.1205142857142857,-0.1351,-0.3307333333333333,-0.1441,-2.2374,-2.2623,-0.396,-0.1830999999999999,0.8908125,0.8514,-1.1167166666666668,-2.9638,-1.081,-2.773357142857143,-2.5627,-1.4659,-1.4084666666666668,0.577525,0.5987333333333333,-1.629725,-1.718925,-1.7595666666666665,-1.82275,-1.8998,-1.85535,-0.8092642857142859],\"marker\":{\"color\":\"rgb(242, 200, 15)\",\"opacity\":0.5,\"size\":[1,1,1,1,1,1,1,1,1,1,1,1,1,1,1,1,1,1,1,1,1,3,1,1,1,1,1,2,1,1,1,1,1,1,1,1,1,1,1,1,1,1,1,1,2,1,1,2,1,1,2,1,1],\"sizemode\":\"area\",\"sizeref\":0.0075},\"mode\":\"markers\",\"name\":\"sushi\",\"showlegend\":true,\"subplot\":\"mapbox\",\"type\":\"scattermapbox\"}],                        {\"height\":1000,\"legend\":{\"bgcolor\":\"rgba(0, 0, 0, 0)\",\"itemsizing\":\"constant\",\"orientation\":\"h\",\"title\":{\"text\":\"category\"},\"tracegroupgap\":0,\"x\":0.01,\"xanchor\":\"left\",\"y\":0.99,\"yanchor\":\"top\"},\"mapbox\":{\"accesstoken\":\"pk.eyJ1IjoiaHV0YW1pbmFkeWEiLCJhIjoiY2t3ZGdyZTl1MGwxdDJ1bjFiZTVxZGczZyJ9.HxWp7vWbhdOzNZqXIjlpPg\",\"center\":{\"lat\":54.963034182530635,\"lon\":-2.3158436956664996},\"domain\":{\"x\":[0.0,1.0],\"y\":[0.0,1.0]},\"zoom\":5},\"template\":{\"data\":{\"bar\":[{\"error_x\":{\"color\":\"#2a3f5f\"},\"error_y\":{\"color\":\"#2a3f5f\"},\"marker\":{\"line\":{\"color\":\"#E5ECF6\",\"width\":0.5},\"pattern\":{\"fillmode\":\"overlay\",\"size\":10,\"solidity\":0.2}},\"type\":\"bar\"}],\"barpolar\":[{\"marker\":{\"line\":{\"color\":\"#E5ECF6\",\"width\":0.5},\"pattern\":{\"fillmode\":\"overlay\",\"size\":10,\"solidity\":0.2}},\"type\":\"barpolar\"}],\"carpet\":[{\"aaxis\":{\"endlinecolor\":\"#2a3f5f\",\"gridcolor\":\"white\",\"linecolor\":\"white\",\"minorgridcolor\":\"white\",\"startlinecolor\":\"#2a3f5f\"},\"baxis\":{\"endlinecolor\":\"#2a3f5f\",\"gridcolor\":\"white\",\"linecolor\":\"white\",\"minorgridcolor\":\"white\",\"startlinecolor\":\"#2a3f5f\"},\"type\":\"carpet\"}],\"choropleth\":[{\"colorbar\":{\"outlinewidth\":0,\"ticks\":\"\"},\"type\":\"choropleth\"}],\"contour\":[{\"colorbar\":{\"outlinewidth\":0,\"ticks\":\"\"},\"colorscale\":[[0.0,\"#0d0887\"],[0.1111111111111111,\"#46039f\"],[0.2222222222222222,\"#7201a8\"],[0.3333333333333333,\"#9c179e\"],[0.4444444444444444,\"#bd3786\"],[0.5555555555555556,\"#d8576b\"],[0.6666666666666666,\"#ed7953\"],[0.7777777777777778,\"#fb9f3a\"],[0.8888888888888888,\"#fdca26\"],[1.0,\"#f0f921\"]],\"type\":\"contour\"}],\"contourcarpet\":[{\"colorbar\":{\"outlinewidth\":0,\"ticks\":\"\"},\"type\":\"contourcarpet\"}],\"heatmap\":[{\"colorbar\":{\"outlinewidth\":0,\"ticks\":\"\"},\"colorscale\":[[0.0,\"#0d0887\"],[0.1111111111111111,\"#46039f\"],[0.2222222222222222,\"#7201a8\"],[0.3333333333333333,\"#9c179e\"],[0.4444444444444444,\"#bd3786\"],[0.5555555555555556,\"#d8576b\"],[0.6666666666666666,\"#ed7953\"],[0.7777777777777778,\"#fb9f3a\"],[0.8888888888888888,\"#fdca26\"],[1.0,\"#f0f921\"]],\"type\":\"heatmap\"}],\"heatmapgl\":[{\"colorbar\":{\"outlinewidth\":0,\"ticks\":\"\"},\"colorscale\":[[0.0,\"#0d0887\"],[0.1111111111111111,\"#46039f\"],[0.2222222222222222,\"#7201a8\"],[0.3333333333333333,\"#9c179e\"],[0.4444444444444444,\"#bd3786\"],[0.5555555555555556,\"#d8576b\"],[0.6666666666666666,\"#ed7953\"],[0.7777777777777778,\"#fb9f3a\"],[0.8888888888888888,\"#fdca26\"],[1.0,\"#f0f921\"]],\"type\":\"heatmapgl\"}],\"histogram\":[{\"marker\":{\"pattern\":{\"fillmode\":\"overlay\",\"size\":10,\"solidity\":0.2}},\"type\":\"histogram\"}],\"histogram2d\":[{\"colorbar\":{\"outlinewidth\":0,\"ticks\":\"\"},\"colorscale\":[[0.0,\"#0d0887\"],[0.1111111111111111,\"#46039f\"],[0.2222222222222222,\"#7201a8\"],[0.3333333333333333,\"#9c179e\"],[0.4444444444444444,\"#bd3786\"],[0.5555555555555556,\"#d8576b\"],[0.6666666666666666,\"#ed7953\"],[0.7777777777777778,\"#fb9f3a\"],[0.8888888888888888,\"#fdca26\"],[1.0,\"#f0f921\"]],\"type\":\"histogram2d\"}],\"histogram2dcontour\":[{\"colorbar\":{\"outlinewidth\":0,\"ticks\":\"\"},\"colorscale\":[[0.0,\"#0d0887\"],[0.1111111111111111,\"#46039f\"],[0.2222222222222222,\"#7201a8\"],[0.3333333333333333,\"#9c179e\"],[0.4444444444444444,\"#bd3786\"],[0.5555555555555556,\"#d8576b\"],[0.6666666666666666,\"#ed7953\"],[0.7777777777777778,\"#fb9f3a\"],[0.8888888888888888,\"#fdca26\"],[1.0,\"#f0f921\"]],\"type\":\"histogram2dcontour\"}],\"mesh3d\":[{\"colorbar\":{\"outlinewidth\":0,\"ticks\":\"\"},\"type\":\"mesh3d\"}],\"parcoords\":[{\"line\":{\"colorbar\":{\"outlinewidth\":0,\"ticks\":\"\"}},\"type\":\"parcoords\"}],\"pie\":[{\"automargin\":true,\"type\":\"pie\"}],\"scatter\":[{\"marker\":{\"colorbar\":{\"outlinewidth\":0,\"ticks\":\"\"}},\"type\":\"scatter\"}],\"scatter3d\":[{\"line\":{\"colorbar\":{\"outlinewidth\":0,\"ticks\":\"\"}},\"marker\":{\"colorbar\":{\"outlinewidth\":0,\"ticks\":\"\"}},\"type\":\"scatter3d\"}],\"scattercarpet\":[{\"marker\":{\"colorbar\":{\"outlinewidth\":0,\"ticks\":\"\"}},\"type\":\"scattercarpet\"}],\"scattergeo\":[{\"marker\":{\"colorbar\":{\"outlinewidth\":0,\"ticks\":\"\"}},\"type\":\"scattergeo\"}],\"scattergl\":[{\"marker\":{\"colorbar\":{\"outlinewidth\":0,\"ticks\":\"\"}},\"type\":\"scattergl\"}],\"scattermapbox\":[{\"marker\":{\"colorbar\":{\"outlinewidth\":0,\"ticks\":\"\"}},\"type\":\"scattermapbox\"}],\"scatterpolar\":[{\"marker\":{\"colorbar\":{\"outlinewidth\":0,\"ticks\":\"\"}},\"type\":\"scatterpolar\"}],\"scatterpolargl\":[{\"marker\":{\"colorbar\":{\"outlinewidth\":0,\"ticks\":\"\"}},\"type\":\"scatterpolargl\"}],\"scatterternary\":[{\"marker\":{\"colorbar\":{\"outlinewidth\":0,\"ticks\":\"\"}},\"type\":\"scatterternary\"}],\"surface\":[{\"colorbar\":{\"outlinewidth\":0,\"ticks\":\"\"},\"colorscale\":[[0.0,\"#0d0887\"],[0.1111111111111111,\"#46039f\"],[0.2222222222222222,\"#7201a8\"],[0.3333333333333333,\"#9c179e\"],[0.4444444444444444,\"#bd3786\"],[0.5555555555555556,\"#d8576b\"],[0.6666666666666666,\"#ed7953\"],[0.7777777777777778,\"#fb9f3a\"],[0.8888888888888888,\"#fdca26\"],[1.0,\"#f0f921\"]],\"type\":\"surface\"}],\"table\":[{\"cells\":{\"fill\":{\"color\":\"#EBF0F8\"},\"line\":{\"color\":\"white\"}},\"header\":{\"fill\":{\"color\":\"#C8D4E3\"},\"line\":{\"color\":\"white\"}},\"type\":\"table\"}]},\"layout\":{\"annotationdefaults\":{\"arrowcolor\":\"#2a3f5f\",\"arrowhead\":0,\"arrowwidth\":1},\"autotypenumbers\":\"strict\",\"coloraxis\":{\"colorbar\":{\"outlinewidth\":0,\"ticks\":\"\"}},\"colorscale\":{\"diverging\":[[0,\"#8e0152\"],[0.1,\"#c51b7d\"],[0.2,\"#de77ae\"],[0.3,\"#f1b6da\"],[0.4,\"#fde0ef\"],[0.5,\"#f7f7f7\"],[0.6,\"#e6f5d0\"],[0.7,\"#b8e186\"],[0.8,\"#7fbc41\"],[0.9,\"#4d9221\"],[1,\"#276419\"]],\"sequential\":[[0.0,\"#0d0887\"],[0.1111111111111111,\"#46039f\"],[0.2222222222222222,\"#7201a8\"],[0.3333333333333333,\"#9c179e\"],[0.4444444444444444,\"#bd3786\"],[0.5555555555555556,\"#d8576b\"],[0.6666666666666666,\"#ed7953\"],[0.7777777777777778,\"#fb9f3a\"],[0.8888888888888888,\"#fdca26\"],[1.0,\"#f0f921\"]],\"sequentialminus\":[[0.0,\"#0d0887\"],[0.1111111111111111,\"#46039f\"],[0.2222222222222222,\"#7201a8\"],[0.3333333333333333,\"#9c179e\"],[0.4444444444444444,\"#bd3786\"],[0.5555555555555556,\"#d8576b\"],[0.6666666666666666,\"#ed7953\"],[0.7777777777777778,\"#fb9f3a\"],[0.8888888888888888,\"#fdca26\"],[1.0,\"#f0f921\"]]},\"colorway\":[\"#636efa\",\"#EF553B\",\"#00cc96\",\"#ab63fa\",\"#FFA15A\",\"#19d3f3\",\"#FF6692\",\"#B6E880\",\"#FF97FF\",\"#FECB52\"],\"font\":{\"color\":\"#2a3f5f\"},\"geo\":{\"bgcolor\":\"white\",\"lakecolor\":\"white\",\"landcolor\":\"#E5ECF6\",\"showlakes\":true,\"showland\":true,\"subunitcolor\":\"white\"},\"hoverlabel\":{\"align\":\"left\"},\"hovermode\":\"closest\",\"mapbox\":{\"style\":\"light\"},\"paper_bgcolor\":\"white\",\"plot_bgcolor\":\"#E5ECF6\",\"polar\":{\"angularaxis\":{\"gridcolor\":\"white\",\"linecolor\":\"white\",\"ticks\":\"\"},\"bgcolor\":\"#E5ECF6\",\"radialaxis\":{\"gridcolor\":\"white\",\"linecolor\":\"white\",\"ticks\":\"\"}},\"scene\":{\"xaxis\":{\"backgroundcolor\":\"#E5ECF6\",\"gridcolor\":\"white\",\"gridwidth\":2,\"linecolor\":\"white\",\"showbackground\":true,\"ticks\":\"\",\"zerolinecolor\":\"white\"},\"yaxis\":{\"backgroundcolor\":\"#E5ECF6\",\"gridcolor\":\"white\",\"gridwidth\":2,\"linecolor\":\"white\",\"showbackground\":true,\"ticks\":\"\",\"zerolinecolor\":\"white\"},\"zaxis\":{\"backgroundcolor\":\"#E5ECF6\",\"gridcolor\":\"white\",\"gridwidth\":2,\"linecolor\":\"white\",\"showbackground\":true,\"ticks\":\"\",\"zerolinecolor\":\"white\"}},\"shapedefaults\":{\"line\":{\"color\":\"#2a3f5f\"}},\"ternary\":{\"aaxis\":{\"gridcolor\":\"white\",\"linecolor\":\"white\",\"ticks\":\"\"},\"baxis\":{\"gridcolor\":\"white\",\"linecolor\":\"white\",\"ticks\":\"\"},\"bgcolor\":\"#E5ECF6\",\"caxis\":{\"gridcolor\":\"white\",\"linecolor\":\"white\",\"ticks\":\"\"}},\"title\":{\"x\":0.05},\"xaxis\":{\"automargin\":true,\"gridcolor\":\"white\",\"linecolor\":\"white\",\"ticks\":\"\",\"title\":{\"standoff\":15},\"zerolinecolor\":\"white\",\"zerolinewidth\":2},\"yaxis\":{\"automargin\":true,\"gridcolor\":\"white\",\"linecolor\":\"white\",\"ticks\":\"\",\"title\":{\"standoff\":15},\"zerolinecolor\":\"white\",\"zerolinewidth\":2}}},\"title\":{\"text\":\"<b>Fig 2. Total active restaurants in the UK - 2015\"},\"width\":1000},                        {\"responsive\": true}                    ).then(function(){\n",
       "                            \n",
       "var gd = document.getElementById('1a4be97f-5301-46c0-a6de-08ffdb00e7e2');\n",
       "var x = new MutationObserver(function (mutations, observer) {{\n",
       "        var display = window.getComputedStyle(gd).display;\n",
       "        if (!display || display === 'none') {{\n",
       "            console.log([gd, 'removed!']);\n",
       "            Plotly.purge(gd);\n",
       "            observer.disconnect();\n",
       "        }}\n",
       "}});\n",
       "\n",
       "// Listen for the removal of the full notebook cells\n",
       "var notebookContainer = gd.closest('#notebook-container');\n",
       "if (notebookContainer) {{\n",
       "    x.observe(notebookContainer, {childList: true});\n",
       "}}\n",
       "\n",
       "// Listen for the clearing of the current output cell\n",
       "var outputEl = gd.closest('.output');\n",
       "if (outputEl) {{\n",
       "    x.observe(outputEl, {childList: true});\n",
       "}}\n",
       "\n",
       "                        })                };                });            </script>        </div>"
      ]
     },
     "metadata": {},
     "output_type": "display_data"
    }
   ],
   "source": [
    "# Visualize active companies (2015)\n",
    "visualize_coordinates(active_company_2015_df, \"2015\", \"Fig 2.\").show()"
   ]
  },
  {
   "cell_type": "code",
   "execution_count": 41,
   "id": "young-indie",
   "metadata": {},
   "outputs": [
    {
     "data": {
      "application/vnd.plotly.v1+json": {
       "config": {
        "plotlyServerURL": "https://plot.ly"
       },
       "data": [
        {
         "hovertemplate": "category=kebab<br>total_companies=%{marker.size}<br>latitude=%{lat}<br>longitude=%{lon}<extra></extra>",
         "lat": [
          56.8662,
          57.1437,
          56.5111,
          51.8662,
          52.1346,
          54.57,
          51.3863,
          51.4007,
          51.4563,
          51.6023,
          51.6093,
          51.5353,
          51.8058,
          51.8167,
          52.0656,
          52.1191,
          51.7105,
          52.1108,
          52.1969,
          52.2547,
          52.2676,
          52.3318,
          52.587,
          52.608,
          53.2377,
          53.277,
          53.4044,
          53.4333,
          55.9521,
          53.291,
          50.145,
          50.1983,
          50.4833,
          50.5423,
          54.7667,
          54.8636,
          54.9981,
          51.4335,
          51.4552,
          51.4611,
          51.5099,
          54.1182,
          54.1182,
          54.5623,
          54.6333,
          54.7075,
          53.1721,
          52.8901,
          52.9057,
          52.9228,
          53.0441,
          50.3706,
          50.3715,
          50.3879,
          50.3904,
          50.4782,
          50.7054,
          50.7068,
          50.9129,
          51.0667,
          50.5345,
          50.7167,
          50.7205,
          50.7374,
          50.7568,
          50.8058,
          50.8259,
          55.0933,
          55.857,
          56.461,
          54.5243,
          54.5554,
          54.5613,
          54.6516,
          54.7189,
          54.8057,
          55.9154,
          53.7495,
          53.7892,
          53.8011,
          50.845,
          50.8502,
          51.4764,
          51.522,
          51.543,
          51.5442,
          51.5565,
          51.6118,
          51.646,
          51.7059,
          51.7221,
          51.8063,
          51.9687,
          56.0167,
          56.1454,
          56.1715,
          53.2005,
          53.2551,
          55.8376,
          55.8651,
          55.8804,
          51.4528,
          51.8555,
          51.8657,
          51.8743,
          51.9,
          51.3359,
          51.3624,
          51.37,
          51.3799,
          51.3833,
          51.3915,
          51.3992,
          51.4032,
          51.4061,
          51.4225,
          51.4228,
          51.4307,
          51.4316,
          51.4376,
          51.4412,
          51.4449,
          51.4488,
          51.4519,
          51.4625,
          51.4692,
          51.4702,
          51.4779,
          51.4779,
          51.4831,
          51.4872,
          51.4927,
          51.4955,
          51.4979,
          51.4987,
          51.505,
          51.5085,
          51.509,
          51.5111,
          51.513,
          51.5138,
          51.525,
          51.5265,
          51.5278,
          51.5333,
          51.5333,
          51.5333,
          51.5362,
          51.5386,
          51.5461,
          51.5472,
          51.548,
          51.55,
          51.5508,
          51.5524,
          51.5529,
          51.5531,
          51.5576,
          51.5596,
          51.5602,
          51.5625,
          51.5734,
          51.574,
          51.5759,
          51.5825,
          51.5834,
          51.5843,
          51.5843,
          51.5864,
          51.594,
          51.5946,
          51.5989,
          51.6,
          51.6021,
          51.6037,
          51.6091,
          51.6143,
          51.6179,
          51.6303,
          51.6333,
          51.6445,
          51.65,
          53.4327,
          53.4482,
          53.449,
          53.45,
          53.475,
          53.4792,
          53.4809,
          53.4833,
          53.5056,
          53.5635,
          53.5833,
          53.6149,
          52.7404,
          53.1162,
          50.792,
          50.799,
          50.8183,
          50.8465,
          50.8807,
          50.9004,
          50.9146,
          50.927,
          50.9644,
          51.0651,
          51.2114,
          51.2625,
          51.3498,
          52.0188,
          52.0448,
          51.6553,
          51.6891,
          51.7537,
          51.7604,
          51.9022,
          51.9114,
          57.5977,
          53.244,
          50.7606,
          51.0746,
          51.0777,
          51.0833,
          51.1416,
          51.143,
          51.1613,
          51.2356,
          51.2501,
          51.2691,
          51.2946,
          51.3044,
          51.3413,
          51.3521,
          51.3613,
          51.3647,
          51.3783,
          51.3789,
          51.3887,
          51.3891,
          53.5529,
          53.6933,
          53.7582,
          53.7765,
          53.8,
          53.8119,
          53.8167,
          53.8247,
          53.8399,
          53.8752,
          52.5887,
          52.6076,
          52.6325,
          52.6386,
          52.7659,
          52.9516,
          53.1481,
          53.5677,
          53.6139,
          53.3653,
          53.3975,
          53.4106,
          53.4378,
          55.9326,
          51.8426,
          57.65,
          51.6118,
          51.708,
          51.5877,
          51.5888,
          52.5406,
          52.6196,
          52.6288,
          52.6388,
          52.9137,
          52.9244,
          55.7983,
          55.8435,
          53.9586,
          54.2353,
          52.25,
          52.2744,
          52.2868,
          52.306,
          52.364,
          52.4079,
          52.501,
          54.9092,
          52.9536,
          53.0833,
          53.15,
          53.2333,
          51.6344,
          51.7321,
          52.0632,
          51.6599,
          51.7327,
          51.6543,
          51.6645,
          55.3976,
          52.5383,
          52.6167,
          52.699,
          52.7167,
          51.0924,
          51.3237,
          51.389,
          51.4253,
          55.7511,
          55.7707,
          53.383,
          53.386,
          53.4826,
          53.497,
          53.5228,
          53.55,
          53.59,
          52.8052,
          52.9833,
          53.0155,
          53.0249,
          53.0448,
          53.1598,
          53.1833,
          52.0417,
          52.0592,
          52.3871,
          51.1742,
          51.2375,
          51.2521,
          51.2784,
          51.2891,
          51.3305,
          51.3714,
          51.4317,
          51.644,
          51.6642,
          51.6766,
          54.9456,
          54.9733,
          51.4103,
          52.3833,
          55.9244,
          55.8586,
          52.4414,
          52.4447,
          52.4636,
          52.4698,
          52.4783,
          52.4804,
          52.4814,
          52.4916,
          52.497,
          52.5,
          52.5,
          52.5047,
          52.5359,
          50.8222,
          50.8952,
          50.9346,
          51.113,
          51.1166,
          53.6798,
          53.7482,
          53.7667,
          53.7939,
          53.8128,
          53.8328,
          53.8408,
          51.558,
          51.5833,
          52.2277
         ],
         "legendgroup": "kebab",
         "lon": [
          -2.668553846153844,
          -2.0981,
          -5.549710000000002,
          -0.42528,
          -0.4866,
          -5.890866666666667,
          -0.8464666666666667,
          -0.7635,
          -0.9711,
          -3.593133333333334,
          -3.6485,
          -0.6303600000000001,
          -0.806,
          -0.8146,
          -0.7591,
          -0.7084846153846154,
          -3.265,
          0.1341894736842105,
          0.1483272727272727,
          -0.0101058823529411,
          -0.2409666666666667,
          0.337,
          -0.2419333333333333,
          -0.2845105263157895,
          -2.583109090909091,
          -2.9363,
          -2.581033333333333,
          -2.6556,
          -3.1965,
          -3.45482,
          -5.109414285714286,
          -5.30309,
          -4.464809677419354,
          -4.319259999999999,
          -5.7809,
          -6.2199,
          -7.280900000000001,
          -2.55525,
          -2.5966,
          -2.65032,
          -2.635366666666666,
          -3.23425,
          -3.1934857142857145,
          -2.832716216216217,
          -3.50065,
          -3.4593900000000004,
          -3.163118181818182,
          -1.4422666666666668,
          -1.49505,
          -1.4766,
          -1.5227900000000003,
          -4.1642,
          -4.143,
          -4.1271,
          -3.5428000000000006,
          -3.5176,
          -3.529533333333333,
          -3.0872333333333333,
          -3.888042857142858,
          -3.978229999999999,
          -2.44228,
          -2.4333,
          -1.8795,
          -1.9198333333333333,
          -1.8194,
          -1.8945142857142852,
          -2.9581789473684204,
          -3.5466296296296296,
          -4.209,
          -2.9766,
          -1.5504,
          -1.5298166666666668,
          -1.3243,
          -1.7070933333333331,
          -1.4842055555555556,
          -1.6808263157894738,
          -4.3328,
          -0.2726,
          -0.4383666666666667,
          -0.3714,
          -0.179625,
          0.471,
          0.33135,
          0.5809,
          0.65005,
          0.6974,
          0.58128,
          0.0810333333333333,
          0.0538,
          0.0296666666666666,
          0.5871850000000001,
          1.168175,
          0.5882238095238096,
          -3.6167,
          -3.2858749999999994,
          -2.980331818181819,
          -3.03614,
          -3.1489,
          -4.2843,
          -4.2576,
          -4.3007,
          -2.5083,
          -2.503983333333333,
          -2.2431,
          -2.1239538461538463,
          -2.0833,
          -0.0778,
          -0.3054,
          0.02375,
          -0.2472,
          -0.060975,
          -0.2898,
          -0.2556,
          -0.163,
          0.0305,
          0.1107,
          -0.1242666666666666,
          -0.1647,
          -0.1027,
          0.05428,
          0.0983,
          -0.0185,
          -0.1971,
          0.1994,
          0.1075999999999999,
          -0.1619333333333333,
          -0.060325,
          -0.1276,
          -0.0118,
          0.1748,
          0.0740666666666666,
          -0.258,
          -0.21798,
          -0.0528,
          -0.0930384615384615,
          -0.2211,
          -0.1257,
          -0.3713,
          -0.0187647058823529,
          -0.2851888888888889,
          -0.0617727272727272,
          0.1936999999999999,
          -0.0986,
          0.0182666666666666,
          0,
          0.0493249999999999,
          0.0833,
          -0.0944,
          -0.055525,
          0.1389,
          0.026475,
          -0.0629,
          -0.1,
          0.0527999999999999,
          -0.1205142857142857,
          0.129,
          -0.3023,
          0.0728,
          -0.0077999999999999,
          0.1792,
          -0.074,
          -0.4234,
          -0.3539199999999999,
          0.0815,
          -0.1158333333333333,
          -0.33615,
          -0.073,
          0.0171666666666666,
          0.2027,
          -0.3307333333333333,
          0.2329,
          0.166,
          -0.1167,
          -0.2709,
          -0.0709399999999999,
          -0.0583,
          -0.2273,
          -0.1101,
          0.0005,
          -0.1833199999999999,
          -0.0465,
          -0.1943166666666666,
          -2.1997,
          -2.2257,
          -2.108233333333333,
          -2.3167,
          -2.0881,
          -2.2859,
          -2.2374,
          -2.3333,
          -2.2623,
          -2.378,
          -2.4333,
          -2.13084,
          -4.0451,
          -4.195053571428572,
          -1.06255,
          -1.0913,
          -1.0719,
          -1.060466666666667,
          -1.0532125,
          -1.3670749999999998,
          -1.3684,
          -1.394,
          -1.431825,
          -1.3140666666666665,
          -1.49775,
          -1.0871,
          -1.068563888888889,
          -2.796544736842104,
          -2.454971428571428,
          -0.396,
          -0.03535,
          -0.4895,
          -0.56985,
          -0.2026,
          -0.381975,
          -4.4583,
          -4.159966666666667,
          -1.3112333333333333,
          1.1448,
          1.0513,
          1.1757,
          0.8432,
          0.3219,
          1.289725,
          1.17362,
          0.5086,
          1.06835,
          0.5566833333333333,
          0.46184,
          0.738475,
          0.5337,
          0.6025,
          0.4654857142857143,
          1.435466666666667,
          0.5306,
          1.3956,
          0.55842,
          -2.7659875,
          -2.580388888888889,
          -2.7229,
          -2.838754285714286,
          -2.275,
          -3.0226,
          -3.05,
          -2.205525,
          -2.21094,
          -3.0295166666666664,
          -1.2739772727272725,
          -1.1167166666666668,
          -1.1869666666666667,
          -1.1317,
          -0.8869,
          -0.01025,
          -0.5819500000000002,
          -0.64505,
          -0.645736842105263,
          -2.9178,
          -2.9206,
          -2.9779,
          -2.9611,
          -3.2531,
          -3.0386236842105263,
          -3.6021297297297266,
          -3.7703,
          -3.694407142857144,
          -2.9984,
          -2.9638,
          1.371471794871795,
          1.721625,
          1.24368,
          1.2189,
          1.2442108108108108,
          1.31625,
          -3.9547499999999993,
          -3.925407692307692,
          -1.0827857142857142,
          -0.3853571428571428,
          -0.8833,
          -0.6674777777777777,
          -0.71175,
          -0.5993,
          -0.640025,
          -0.7116000000000001,
          -0.6336499999999999,
          -1.9295739130434777,
          -1.1505,
          -0.7852571428571429,
          -1.2676833333333333,
          -0.9511666666666666,
          -1.4307208333333332,
          -1.224375,
          -1.34125,
          -4.769346153846155,
          -3.48293125,
          -3.4913,
          -3.3537,
          -2.707571739130436,
          -2.476105714285714,
          -3.197694594594596,
          -2.774914285714286,
          -2.449375,
          -3.006471428571428,
          -2.9787,
          -2.8187,
          -2.7484,
          -4.1977,
          -4.045457142857143,
          -1.4659,
          -1.4084666666666668,
          -1.304275,
          -1.1821,
          -1.1312,
          -1.4773333333333334,
          -1.0260625,
          -2.1164,
          -2.1333,
          -2.253533333333333,
          -2.1739,
          -2.182716666666667,
          -2.148919230769231,
          -1.8236999999999992,
          1.1866,
          1.1555,
          0.77555,
          -0.1574111111111111,
          -0.1439625,
          -0.725625,
          -0.075875,
          -0.2318166666666666,
          -0.2701,
          -0.495375,
          -0.4576,
          -3.94848,
          -3.8862,
          -3.9147,
          -1.4440333333333333,
          -1.614,
          -3.37145,
          -1.5833000000000002,
          -4.409180000000001,
          -3.6690857142857136,
          -1.4998714285714283,
          -1.8229,
          -1.82275,
          -1.8523,
          -1.8506,
          -1.7883,
          -1.8998,
          -1.8596,
          -1.973,
          -2.119025,
          -2.0833,
          -1.8863,
          -1.9905,
          -0.5498,
          -0.2598499999999999,
          -0.1449399999999999,
          -0.2085,
          -0.1191333333333333,
          -1.5801,
          -1.3529,
          -1.5667,
          -1.7521,
          -1.7919,
          -1.7255,
          -1.8493,
          -1.7812,
          -1.85634,
          -2.1928
         ],
         "marker": {
          "color": "rgb(1, 184, 170)",
          "opacity": 0.5,
          "size": [
           1,
           4,
           1,
           1,
           2,
           1,
           1,
           2,
           3,
           1,
           1,
           1,
           1,
           1,
           1,
           2,
           3,
           1,
           2,
           1,
           1,
           1,
           1,
           1,
           1,
           1,
           1,
           1,
           1,
           2,
           1,
           1,
           1,
           1,
           2,
           1,
           1,
           3,
           2,
           1,
           1,
           1,
           1,
           1,
           1,
           1,
           1,
           2,
           2,
           3,
           1,
           1,
           4,
           3,
           1,
           2,
           2,
           1,
           1,
           1,
           1,
           1,
           2,
           1,
           1,
           1,
           1,
           1,
           1,
           1,
           2,
           2,
           1,
           1,
           2,
           1,
           1,
           1,
           1,
           1,
           1,
           1,
           1,
           3,
           1,
           3,
           2,
           1,
           1,
           2,
           1,
           1,
           1,
           1,
           1,
           1,
           1,
           1,
           2,
           2,
           1,
           2,
           1,
           1,
           1,
           1,
           1,
           1,
           2,
           1,
           9,
           1,
           1,
           2,
           6,
           1,
           1,
           4,
           1,
           3,
           2,
           1,
           1,
           1,
           2,
           2,
           1,
           1,
           1,
           4,
           2,
           1,
           1,
           1,
           4,
           1,
           2,
           1,
           2,
           1,
           2,
           1,
           1,
           1,
           1,
           2,
           1,
           1,
           2,
           1,
           2,
           2,
           1,
           1,
           8,
           1,
           2,
           6,
           1,
           1,
           1,
           1,
           1,
           1,
           1,
           3,
           3,
           3,
           1,
           1,
           1,
           1,
           8,
           1,
           1,
           1,
           1,
           11,
           1,
           1,
           2,
           1,
           1,
           1,
           1,
           1,
           1,
           1,
           1,
           2,
           1,
           1,
           2,
           1,
           1,
           1,
           1,
           1,
           1,
           1,
           1,
           2,
           2,
           1,
           1,
           1,
           1,
           1,
           1,
           1,
           1,
           1,
           1,
           3,
           1,
           1,
           1,
           1,
           1,
           1,
           1,
           1,
           2,
           5,
           1,
           5,
           1,
           1,
           2,
           3,
           1,
           1,
           1,
           1,
           1,
           1,
           2,
           6,
           2,
           1,
           1,
           2,
           1,
           1,
           1,
           1,
           2,
           1,
           1,
           1,
           1,
           1,
           1,
           1,
           3,
           1,
           1,
           1,
           1,
           1,
           2,
           1,
           3,
           1,
           1,
           1,
           1,
           1,
           1,
           1,
           1,
           2,
           1,
           1,
           1,
           3,
           1,
           1,
           1,
           1,
           2,
           3,
           1,
           1,
           1,
           4,
           1,
           2,
           1,
           2,
           1,
           1,
           3,
           4,
           1,
           1,
           1,
           1,
           1,
           1,
           1,
           1,
           3,
           1,
           2,
           1,
           1,
           1,
           1,
           2,
           1,
           1,
           1,
           3,
           1,
           1,
           1,
           1,
           1,
           2,
           1,
           1,
           2,
           1,
           5,
           1,
           1,
           2,
           2,
           1,
           1,
           1,
           2,
           1,
           1,
           1,
           1,
           1,
           2,
           1,
           1,
           2,
           1,
           1,
           1,
           2,
           2,
           1,
           1,
           3,
           1,
           7,
           1,
           1,
           2,
           1,
           1,
           1,
           1,
           1,
           2,
           1,
           1,
           1,
           2,
           2,
           2,
           1,
           1,
           1,
           1
          ],
          "sizemode": "area",
          "sizeref": 0.0325
         },
         "mode": "markers",
         "name": "kebab",
         "showlegend": true,
         "subplot": "mapbox",
         "type": "scattermapbox"
        },
        {
         "hovertemplate": "category=sushi<br>total_companies=%{marker.size}<br>latitude=%{lat}<br>longitude=%{lon}<extra></extra>",
         "lat": [
          57.1437,
          56.501,
          51.4121,
          51.4236,
          51.4396,
          51.4563,
          51.6242,
          51.6646,
          51.8952,
          52.0292,
          52.0486,
          52.0625,
          52.0656,
          52.191,
          52.1969,
          52.3325,
          52.3901,
          52.608,
          53.4333,
          55.9489,
          55.9521,
          55.971,
          56.1624,
          54.0811,
          51.4817,
          52.9228,
          53.3123,
          50.3706,
          50.7333,
          50.7401,
          50.7167,
          50.7205,
          50.747,
          50.7568,
          55.857,
          55.8651,
          54.6998,
          55.9154,
          50.7687,
          50.7927,
          50.845,
          50.8707,
          51.5378,
          51.5565,
          51.6118,
          51.6743,
          51.828,
          51.8892,
          51.9086,
          56.3769,
          55.8242,
          55.8651,
          55.8804,
          55.8906,
          51.6325,
          51.35,
          51.35,
          51.3624,
          51.3683,
          51.3833,
          51.3915,
          51.3982,
          51.3992,
          51.4061,
          51.4088,
          51.4126,
          51.4163,
          51.4171,
          51.4225,
          51.4333,
          51.4406,
          51.4412,
          51.4449,
          51.4454,
          51.4488,
          51.4567,
          51.4601,
          51.461,
          51.4625,
          51.4643,
          51.4659,
          51.4672,
          51.4684,
          51.4692,
          51.4702,
          51.4714,
          51.4752,
          51.4776,
          51.4779,
          51.4803,
          51.4842,
          51.4862,
          51.4869,
          51.4872,
          51.4911,
          51.4927,
          51.4963,
          51.4979,
          51.5011,
          51.5023,
          51.505,
          51.5075,
          51.5085,
          51.509,
          51.5103,
          51.5111,
          51.513,
          51.513,
          51.5138,
          51.5156,
          51.5156,
          51.523,
          51.5232,
          51.5237,
          51.5265,
          51.5278,
          51.5281,
          51.5287,
          51.5299,
          51.5307,
          51.5333,
          51.5333,
          51.5333,
          51.5362,
          51.5384,
          51.5386,
          51.542,
          51.5472,
          51.548,
          51.5486,
          51.55,
          51.5524,
          51.5531,
          51.5538,
          51.5576,
          51.5591,
          51.5602,
          51.5608,
          51.5625,
          51.5649,
          51.5693,
          51.5734,
          51.5758,
          51.5785,
          51.5825,
          51.5834,
          51.5843,
          51.5843,
          51.5864,
          51.5868,
          51.59,
          51.5923,
          51.5927,
          51.594,
          51.5946,
          51.6,
          51.6,
          51.6004,
          51.6021,
          51.6047,
          51.6077,
          51.6116,
          51.6133,
          51.6143,
          51.6179,
          51.6179,
          51.6303,
          51.6445,
          51.6493,
          53.4252,
          53.4442,
          53.4698,
          53.479,
          53.4809,
          53.5056,
          53.5167,
          53.5333,
          53.5833,
          50.799,
          50.911,
          51.2484,
          51.6432,
          51.6553,
          51.6572,
          51.7034,
          51.75,
          51.7768,
          51.8168,
          51.8203,
          51.9713,
          51.1386,
          51.143,
          51.2691,
          51.27,
          51.3789,
          51.3972,
          51.3973,
          51.4279,
          53.6833,
          53.7435,
          53.7582,
          53.786,
          53.9333,
          52.6076,
          52.6325,
          52.6667,
          52.9255,
          53.4106,
          53.4481,
          51.7125,
          55.8795,
          51.8426,
          51.5877,
          51.5888,
          52.6388,
          53.9167,
          53.9443,
          52.2136,
          52.2833,
          55.1091,
          52.8898,
          52.9298,
          52.9536,
          52.9648,
          52.9708,
          53.0833,
          51.7836,
          50.9832,
          51.2129,
          51.3572,
          51.3923,
          51.4061,
          55.7359,
          53.35,
          53.383,
          53.386,
          53.3931,
          53.5462,
          53.5634,
          52.3113,
          52.4176,
          51.2143,
          51.2336,
          51.2455,
          51.3305,
          51.3714,
          51.3722,
          51.376,
          51.3896,
          54.95,
          54.9646,
          54.974,
          55.0063,
          52.5028,
          52.5338,
          52.3942,
          52.4107,
          52.4383,
          52.4636,
          52.4814,
          52.5047,
          52.5333,
          52.584,
          50.7765,
          50.8367,
          50.9216,
          51.0047,
          53.6798,
          53.7029,
          53.7119,
          53.7167,
          53.7496,
          53.7835,
          53.7965,
          53.8201,
          53.829,
          51.558,
          51.5892
         ],
         "legendgroup": "sushi",
         "lon": [
          -2.0981,
          -2.7054499999999995,
          -1.3243833333333332,
          -0.94632,
          -0.9292,
          -0.9711,
          -0.7453,
          -0.6173166666666667,
          -0.6581499999999998,
          -0.7279,
          -0.7877,
          -0.8166,
          -0.7591,
          0.1240214285714285,
          0.1483272727272727,
          -0.075,
          0.2001647058823529,
          -0.2845105263157895,
          -2.6556,
          -3.1632,
          -3.1965,
          -3.2709,
          -3.626088888888889,
          -6.121125,
          -2.5036,
          -1.4766,
          -1.3394,
          -4.1642,
          -3.5297000000000005,
          -3.467,
          -2,
          -1.8795,
          -1.9801,
          -1.8194,
          -4.209,
          -4.2576,
          -1.6177800000000002,
          -4.3328,
          0.2845,
          -0.0065,
          -0.179625,
          -0.1204166666666666,
          0.7143,
          0.58128,
          0.0810333333333333,
          0.1061333333333333,
          0.870775,
          0.9042,
          0.92045,
          -2.816311111111111,
          -4.2962,
          -4.2576,
          -4.3007,
          -4.2904,
          -2.3947055555555554,
          -0.1994,
          -0.1538333333333333,
          -0.3054,
          -0.1676,
          -0.060975,
          -0.2898,
          -0.1992,
          -0.2556,
          0.0305,
          -0.0253,
          -0.2974,
          -0.1973333333333333,
          0.0686,
          0.1107,
          -0.3985999999999999,
          0.1446,
          0.0983,
          -0.0185,
          -0.3297,
          -0.1971,
          -0.2306,
          -0.2963666666666666,
          -0.0352,
          0.1075999999999999,
          -0.0119,
          -0.1158,
          0.0175,
          -0.3609,
          -0.1619333333333333,
          -0.060325,
          -0.3682,
          -0.3425,
          -0.0322333333333333,
          -0.0118,
          -0.1993,
          0.0339,
          -0.3083,
          0.1075,
          0.0740666666666666,
          0.1514,
          -0.258,
          -0.1762833333333333,
          -0.0528,
          0.0441999999999999,
          0.1045,
          -0.2211,
          -0.205,
          -0.1257,
          -0.3713,
          -0.2657166666666666,
          -0.0187647058823529,
          -0.2851888888888889,
          -0.08,
          -0.0617727272727272,
          -0.1886454545454546,
          -0.18458,
          -0.2187999999999999,
          -0.0933,
          -0.0877,
          -0.0986,
          0.0182666666666666,
          -0.0265714285714285,
          -0.33285,
          -0.1471818181818182,
          -0.2431214285714285,
          0,
          0.0493249999999999,
          0.0833,
          -0.0944,
          -0.0414,
          -0.055525,
          -0.1931888888888888,
          0.026475,
          -0.0629,
          -0.3678,
          0.1667,
          -0.1205142857142857,
          -0.3023,
          -0.3102333333333333,
          0.0728,
          -0.0545166666666666,
          0.1792,
          -0.223325,
          -0.074,
          -0.1351,
          -0.1069,
          -0.4234,
          0.1299,
          -0.1980499999999999,
          -0.1158333333333333,
          -0.33615,
          -0.073,
          0.0171666666666666,
          -0.25692,
          -0.02048,
          -0.1531,
          0.0225,
          -0.3844249999999999,
          -0.3307333333333333,
          0.2329,
          -0.2166999999999999,
          -0.1167,
          -0.1943,
          -0.2709,
          0.02,
          -0.166,
          -0.4230333333333333,
          -0.1441,
          -0.2273,
          -0.13062,
          -0.1101,
          0.0005,
          -0.0465,
          -0.158,
          -2.3244,
          -2.1916,
          -2.2295,
          -2.1818,
          -2.2374,
          -2.2623,
          -2.3990666666666667,
          -2.2833,
          -2.4333,
          -1.0913,
          -1.392,
          -0.763,
          -0.3605,
          -0.396,
          -0.2835,
          -0.1830999999999999,
          -0.3333,
          -0.2842833333333334,
          -0.3571,
          -0.0074866666666666,
          -0.3279538461538461,
          0.8908125,
          0.3219,
          1.06835,
          0.178125,
          0.5306,
          0.1732,
          0.8514,
          0.3915125,
          -2.94928,
          -2.9898,
          -2.7229,
          -2.529357142857143,
          -2.381260000000001,
          -1.1167166666666668,
          -1.1869666666666667,
          -1.1087333333333331,
          -0.6468,
          -2.9779,
          -2.9155,
          -3.37198,
          -3.1579,
          -3.0386236842105263,
          -2.9984,
          -2.9638,
          1.2189,
          -1.5127545454545457,
          -1.7955571428571429,
          -0.87904,
          -0.90015,
          -1.53142,
          -1.19524,
          -1.11485,
          -1.1505,
          -1.2132,
          -1.081,
          -0.7852571428571429,
          -1.4854,
          -2.773357142857143,
          -2.659952380952381,
          -2.3910565217391304,
          -2.361469230769231,
          -2.5627,
          -3.8645625,
          -1.55,
          -1.4659,
          -1.4084666666666668,
          -1.5452,
          -1.4415666666666669,
          -1.229072727272727,
          0.577525,
          0.5987333333333333,
          -0.7973125,
          -0.59775,
          -0.5499999999999999,
          -0.2701,
          -0.495375,
          -0.453,
          -0.4111,
          -0.3393,
          -1.629725,
          -1.718925,
          -1.6447,
          -1.6339,
          -1.437366666666667,
          -1.7527166666666665,
          -1.4915333333333332,
          -1.8195,
          -1.7595666666666665,
          -1.82275,
          -1.8998,
          -1.8863,
          -1.8167,
          -1.85535,
          -0.7122250000000001,
          -0.77915,
          -0.8092642857142859,
          -0.0919333333333333,
          -1.5801,
          -1.6337,
          -1.4771,
          -1.85,
          -1.5494,
          -1.7851,
          -1.5478,
          -1.5704,
          -1.5383,
          -1.7812,
          -1.7194
         ],
         "marker": {
          "color": "rgb(242, 200, 15)",
          "opacity": 0.5,
          "size": [
           2,
           1,
           1,
           2,
           1,
           1,
           1,
           1,
           1,
           1,
           1,
           1,
           1,
           2,
           1,
           1,
           1,
           1,
           1,
           2,
           2,
           1,
           1,
           2,
           2,
           1,
           1,
           1,
           3,
           4,
           1,
           2,
           1,
           1,
           1,
           3,
           1,
           1,
           1,
           1,
           1,
           1,
           1,
           1,
           1,
           2,
           3,
           1,
           1,
           3,
           1,
           1,
           3,
           3,
           1,
           1,
           1,
           3,
           1,
           4,
           1,
           1,
           4,
           1,
           1,
           1,
           2,
           1,
           1,
           1,
           1,
           2,
           1,
           2,
           1,
           2,
           3,
           1,
           3,
           3,
           1,
           1,
           1,
           5,
           1,
           1,
           1,
           1,
           3,
           1,
           2,
           1,
           1,
           13,
           1,
           1,
           1,
           3,
           1,
           2,
           1,
           1,
           12,
           1,
           5,
           5,
           2,
           1,
           12,
           1,
           1,
           1,
           1,
           1,
           3,
           3,
           2,
           2,
           2,
           5,
           1,
           2,
           3,
           3,
           1,
           3,
           2,
           2,
           1,
           2,
           1,
           2,
           3,
           1,
           3,
           1,
           1,
           5,
           1,
           1,
           2,
           3,
           2,
           10,
           2,
           1,
           1,
           1,
           1,
           4,
           1,
           1,
           1,
           2,
           1,
           2,
           1,
           4,
           5,
           1,
           2,
           1,
           2,
           2,
           1,
           1,
           2,
           1,
           1,
           1,
           1,
           1,
           1,
           3,
           1,
           2,
           1,
           1,
           2,
           3,
           1,
           1,
           1,
           1,
           1,
           1,
           1,
           1,
           1,
           1,
           1,
           2,
           3,
           1,
           1,
           1,
           1,
           2,
           1,
           1,
           2,
           1,
           1,
           1,
           1,
           1,
           1,
           1,
           1,
           1,
           1,
           1,
           1,
           1,
           2,
           1,
           1,
           1,
           1,
           1,
           1,
           1,
           1,
           1,
           1,
           1,
           1,
           1,
           1,
           1,
           1,
           1,
           3,
           2,
           3,
           1,
           1,
           1,
           1,
           2,
           1,
           1,
           1,
           2,
           1,
           3,
           1,
           1,
           1,
           1,
           2,
           1,
           1,
           1,
           2,
           1,
           2,
           1,
           6,
           7,
           1,
           1,
           2,
           1,
           1,
           1,
           3,
           1,
           1,
           1,
           1,
           1,
           1,
           1,
           3,
           3,
           2,
           1
          ],
          "sizemode": "area",
          "sizeref": 0.0325
         },
         "mode": "markers",
         "name": "sushi",
         "showlegend": true,
         "subplot": "mapbox",
         "type": "scattermapbox"
        }
       ],
       "layout": {
        "height": 1000,
        "legend": {
         "bgcolor": "rgba(0, 0, 0, 0)",
         "itemsizing": "constant",
         "orientation": "h",
         "title": {
          "text": "category"
         },
         "tracegroupgap": 0,
         "x": 0.01,
         "xanchor": "left",
         "y": 0.99,
         "yanchor": "top"
        },
        "mapbox": {
         "accesstoken": "pk.eyJ1IjoiaHV0YW1pbmFkeWEiLCJhIjoiY2t3ZGdyZTl1MGwxdDJ1bjFiZTVxZGczZyJ9.HxWp7vWbhdOzNZqXIjlpPg",
         "center": {
          "lat": 54.963034182530635,
          "lon": -2.3158436956664996
         },
         "domain": {
          "x": [
           0,
           1
          ],
          "y": [
           0,
           1
          ]
         },
         "zoom": 5
        },
        "template": {
         "data": {
          "bar": [
           {
            "error_x": {
             "color": "#2a3f5f"
            },
            "error_y": {
             "color": "#2a3f5f"
            },
            "marker": {
             "line": {
              "color": "#E5ECF6",
              "width": 0.5
             },
             "pattern": {
              "fillmode": "overlay",
              "size": 10,
              "solidity": 0.2
             }
            },
            "type": "bar"
           }
          ],
          "barpolar": [
           {
            "marker": {
             "line": {
              "color": "#E5ECF6",
              "width": 0.5
             },
             "pattern": {
              "fillmode": "overlay",
              "size": 10,
              "solidity": 0.2
             }
            },
            "type": "barpolar"
           }
          ],
          "carpet": [
           {
            "aaxis": {
             "endlinecolor": "#2a3f5f",
             "gridcolor": "white",
             "linecolor": "white",
             "minorgridcolor": "white",
             "startlinecolor": "#2a3f5f"
            },
            "baxis": {
             "endlinecolor": "#2a3f5f",
             "gridcolor": "white",
             "linecolor": "white",
             "minorgridcolor": "white",
             "startlinecolor": "#2a3f5f"
            },
            "type": "carpet"
           }
          ],
          "choropleth": [
           {
            "colorbar": {
             "outlinewidth": 0,
             "ticks": ""
            },
            "type": "choropleth"
           }
          ],
          "contour": [
           {
            "colorbar": {
             "outlinewidth": 0,
             "ticks": ""
            },
            "colorscale": [
             [
              0,
              "#0d0887"
             ],
             [
              0.1111111111111111,
              "#46039f"
             ],
             [
              0.2222222222222222,
              "#7201a8"
             ],
             [
              0.3333333333333333,
              "#9c179e"
             ],
             [
              0.4444444444444444,
              "#bd3786"
             ],
             [
              0.5555555555555556,
              "#d8576b"
             ],
             [
              0.6666666666666666,
              "#ed7953"
             ],
             [
              0.7777777777777778,
              "#fb9f3a"
             ],
             [
              0.8888888888888888,
              "#fdca26"
             ],
             [
              1,
              "#f0f921"
             ]
            ],
            "type": "contour"
           }
          ],
          "contourcarpet": [
           {
            "colorbar": {
             "outlinewidth": 0,
             "ticks": ""
            },
            "type": "contourcarpet"
           }
          ],
          "heatmap": [
           {
            "colorbar": {
             "outlinewidth": 0,
             "ticks": ""
            },
            "colorscale": [
             [
              0,
              "#0d0887"
             ],
             [
              0.1111111111111111,
              "#46039f"
             ],
             [
              0.2222222222222222,
              "#7201a8"
             ],
             [
              0.3333333333333333,
              "#9c179e"
             ],
             [
              0.4444444444444444,
              "#bd3786"
             ],
             [
              0.5555555555555556,
              "#d8576b"
             ],
             [
              0.6666666666666666,
              "#ed7953"
             ],
             [
              0.7777777777777778,
              "#fb9f3a"
             ],
             [
              0.8888888888888888,
              "#fdca26"
             ],
             [
              1,
              "#f0f921"
             ]
            ],
            "type": "heatmap"
           }
          ],
          "heatmapgl": [
           {
            "colorbar": {
             "outlinewidth": 0,
             "ticks": ""
            },
            "colorscale": [
             [
              0,
              "#0d0887"
             ],
             [
              0.1111111111111111,
              "#46039f"
             ],
             [
              0.2222222222222222,
              "#7201a8"
             ],
             [
              0.3333333333333333,
              "#9c179e"
             ],
             [
              0.4444444444444444,
              "#bd3786"
             ],
             [
              0.5555555555555556,
              "#d8576b"
             ],
             [
              0.6666666666666666,
              "#ed7953"
             ],
             [
              0.7777777777777778,
              "#fb9f3a"
             ],
             [
              0.8888888888888888,
              "#fdca26"
             ],
             [
              1,
              "#f0f921"
             ]
            ],
            "type": "heatmapgl"
           }
          ],
          "histogram": [
           {
            "marker": {
             "pattern": {
              "fillmode": "overlay",
              "size": 10,
              "solidity": 0.2
             }
            },
            "type": "histogram"
           }
          ],
          "histogram2d": [
           {
            "colorbar": {
             "outlinewidth": 0,
             "ticks": ""
            },
            "colorscale": [
             [
              0,
              "#0d0887"
             ],
             [
              0.1111111111111111,
              "#46039f"
             ],
             [
              0.2222222222222222,
              "#7201a8"
             ],
             [
              0.3333333333333333,
              "#9c179e"
             ],
             [
              0.4444444444444444,
              "#bd3786"
             ],
             [
              0.5555555555555556,
              "#d8576b"
             ],
             [
              0.6666666666666666,
              "#ed7953"
             ],
             [
              0.7777777777777778,
              "#fb9f3a"
             ],
             [
              0.8888888888888888,
              "#fdca26"
             ],
             [
              1,
              "#f0f921"
             ]
            ],
            "type": "histogram2d"
           }
          ],
          "histogram2dcontour": [
           {
            "colorbar": {
             "outlinewidth": 0,
             "ticks": ""
            },
            "colorscale": [
             [
              0,
              "#0d0887"
             ],
             [
              0.1111111111111111,
              "#46039f"
             ],
             [
              0.2222222222222222,
              "#7201a8"
             ],
             [
              0.3333333333333333,
              "#9c179e"
             ],
             [
              0.4444444444444444,
              "#bd3786"
             ],
             [
              0.5555555555555556,
              "#d8576b"
             ],
             [
              0.6666666666666666,
              "#ed7953"
             ],
             [
              0.7777777777777778,
              "#fb9f3a"
             ],
             [
              0.8888888888888888,
              "#fdca26"
             ],
             [
              1,
              "#f0f921"
             ]
            ],
            "type": "histogram2dcontour"
           }
          ],
          "mesh3d": [
           {
            "colorbar": {
             "outlinewidth": 0,
             "ticks": ""
            },
            "type": "mesh3d"
           }
          ],
          "parcoords": [
           {
            "line": {
             "colorbar": {
              "outlinewidth": 0,
              "ticks": ""
             }
            },
            "type": "parcoords"
           }
          ],
          "pie": [
           {
            "automargin": true,
            "type": "pie"
           }
          ],
          "scatter": [
           {
            "marker": {
             "colorbar": {
              "outlinewidth": 0,
              "ticks": ""
             }
            },
            "type": "scatter"
           }
          ],
          "scatter3d": [
           {
            "line": {
             "colorbar": {
              "outlinewidth": 0,
              "ticks": ""
             }
            },
            "marker": {
             "colorbar": {
              "outlinewidth": 0,
              "ticks": ""
             }
            },
            "type": "scatter3d"
           }
          ],
          "scattercarpet": [
           {
            "marker": {
             "colorbar": {
              "outlinewidth": 0,
              "ticks": ""
             }
            },
            "type": "scattercarpet"
           }
          ],
          "scattergeo": [
           {
            "marker": {
             "colorbar": {
              "outlinewidth": 0,
              "ticks": ""
             }
            },
            "type": "scattergeo"
           }
          ],
          "scattergl": [
           {
            "marker": {
             "colorbar": {
              "outlinewidth": 0,
              "ticks": ""
             }
            },
            "type": "scattergl"
           }
          ],
          "scattermapbox": [
           {
            "marker": {
             "colorbar": {
              "outlinewidth": 0,
              "ticks": ""
             }
            },
            "type": "scattermapbox"
           }
          ],
          "scatterpolar": [
           {
            "marker": {
             "colorbar": {
              "outlinewidth": 0,
              "ticks": ""
             }
            },
            "type": "scatterpolar"
           }
          ],
          "scatterpolargl": [
           {
            "marker": {
             "colorbar": {
              "outlinewidth": 0,
              "ticks": ""
             }
            },
            "type": "scatterpolargl"
           }
          ],
          "scatterternary": [
           {
            "marker": {
             "colorbar": {
              "outlinewidth": 0,
              "ticks": ""
             }
            },
            "type": "scatterternary"
           }
          ],
          "surface": [
           {
            "colorbar": {
             "outlinewidth": 0,
             "ticks": ""
            },
            "colorscale": [
             [
              0,
              "#0d0887"
             ],
             [
              0.1111111111111111,
              "#46039f"
             ],
             [
              0.2222222222222222,
              "#7201a8"
             ],
             [
              0.3333333333333333,
              "#9c179e"
             ],
             [
              0.4444444444444444,
              "#bd3786"
             ],
             [
              0.5555555555555556,
              "#d8576b"
             ],
             [
              0.6666666666666666,
              "#ed7953"
             ],
             [
              0.7777777777777778,
              "#fb9f3a"
             ],
             [
              0.8888888888888888,
              "#fdca26"
             ],
             [
              1,
              "#f0f921"
             ]
            ],
            "type": "surface"
           }
          ],
          "table": [
           {
            "cells": {
             "fill": {
              "color": "#EBF0F8"
             },
             "line": {
              "color": "white"
             }
            },
            "header": {
             "fill": {
              "color": "#C8D4E3"
             },
             "line": {
              "color": "white"
             }
            },
            "type": "table"
           }
          ]
         },
         "layout": {
          "annotationdefaults": {
           "arrowcolor": "#2a3f5f",
           "arrowhead": 0,
           "arrowwidth": 1
          },
          "autotypenumbers": "strict",
          "coloraxis": {
           "colorbar": {
            "outlinewidth": 0,
            "ticks": ""
           }
          },
          "colorscale": {
           "diverging": [
            [
             0,
             "#8e0152"
            ],
            [
             0.1,
             "#c51b7d"
            ],
            [
             0.2,
             "#de77ae"
            ],
            [
             0.3,
             "#f1b6da"
            ],
            [
             0.4,
             "#fde0ef"
            ],
            [
             0.5,
             "#f7f7f7"
            ],
            [
             0.6,
             "#e6f5d0"
            ],
            [
             0.7,
             "#b8e186"
            ],
            [
             0.8,
             "#7fbc41"
            ],
            [
             0.9,
             "#4d9221"
            ],
            [
             1,
             "#276419"
            ]
           ],
           "sequential": [
            [
             0,
             "#0d0887"
            ],
            [
             0.1111111111111111,
             "#46039f"
            ],
            [
             0.2222222222222222,
             "#7201a8"
            ],
            [
             0.3333333333333333,
             "#9c179e"
            ],
            [
             0.4444444444444444,
             "#bd3786"
            ],
            [
             0.5555555555555556,
             "#d8576b"
            ],
            [
             0.6666666666666666,
             "#ed7953"
            ],
            [
             0.7777777777777778,
             "#fb9f3a"
            ],
            [
             0.8888888888888888,
             "#fdca26"
            ],
            [
             1,
             "#f0f921"
            ]
           ],
           "sequentialminus": [
            [
             0,
             "#0d0887"
            ],
            [
             0.1111111111111111,
             "#46039f"
            ],
            [
             0.2222222222222222,
             "#7201a8"
            ],
            [
             0.3333333333333333,
             "#9c179e"
            ],
            [
             0.4444444444444444,
             "#bd3786"
            ],
            [
             0.5555555555555556,
             "#d8576b"
            ],
            [
             0.6666666666666666,
             "#ed7953"
            ],
            [
             0.7777777777777778,
             "#fb9f3a"
            ],
            [
             0.8888888888888888,
             "#fdca26"
            ],
            [
             1,
             "#f0f921"
            ]
           ]
          },
          "colorway": [
           "#636efa",
           "#EF553B",
           "#00cc96",
           "#ab63fa",
           "#FFA15A",
           "#19d3f3",
           "#FF6692",
           "#B6E880",
           "#FF97FF",
           "#FECB52"
          ],
          "font": {
           "color": "#2a3f5f"
          },
          "geo": {
           "bgcolor": "white",
           "lakecolor": "white",
           "landcolor": "#E5ECF6",
           "showlakes": true,
           "showland": true,
           "subunitcolor": "white"
          },
          "hoverlabel": {
           "align": "left"
          },
          "hovermode": "closest",
          "mapbox": {
           "style": "light"
          },
          "paper_bgcolor": "white",
          "plot_bgcolor": "#E5ECF6",
          "polar": {
           "angularaxis": {
            "gridcolor": "white",
            "linecolor": "white",
            "ticks": ""
           },
           "bgcolor": "#E5ECF6",
           "radialaxis": {
            "gridcolor": "white",
            "linecolor": "white",
            "ticks": ""
           }
          },
          "scene": {
           "xaxis": {
            "backgroundcolor": "#E5ECF6",
            "gridcolor": "white",
            "gridwidth": 2,
            "linecolor": "white",
            "showbackground": true,
            "ticks": "",
            "zerolinecolor": "white"
           },
           "yaxis": {
            "backgroundcolor": "#E5ECF6",
            "gridcolor": "white",
            "gridwidth": 2,
            "linecolor": "white",
            "showbackground": true,
            "ticks": "",
            "zerolinecolor": "white"
           },
           "zaxis": {
            "backgroundcolor": "#E5ECF6",
            "gridcolor": "white",
            "gridwidth": 2,
            "linecolor": "white",
            "showbackground": true,
            "ticks": "",
            "zerolinecolor": "white"
           }
          },
          "shapedefaults": {
           "line": {
            "color": "#2a3f5f"
           }
          },
          "ternary": {
           "aaxis": {
            "gridcolor": "white",
            "linecolor": "white",
            "ticks": ""
           },
           "baxis": {
            "gridcolor": "white",
            "linecolor": "white",
            "ticks": ""
           },
           "bgcolor": "#E5ECF6",
           "caxis": {
            "gridcolor": "white",
            "linecolor": "white",
            "ticks": ""
           }
          },
          "title": {
           "x": 0.05
          },
          "xaxis": {
           "automargin": true,
           "gridcolor": "white",
           "linecolor": "white",
           "ticks": "",
           "title": {
            "standoff": 15
           },
           "zerolinecolor": "white",
           "zerolinewidth": 2
          },
          "yaxis": {
           "automargin": true,
           "gridcolor": "white",
           "linecolor": "white",
           "ticks": "",
           "title": {
            "standoff": 15
           },
           "zerolinecolor": "white",
           "zerolinewidth": 2
          }
         }
        },
        "title": {
         "text": "<b>Fig 3. Total active restaurants in the UK - 2021"
        },
        "width": 1000
       }
      },
      "text/html": [
       "<div>                            <div id=\"0e7ffcf2-5737-40af-a02b-e1c3174bec1f\" class=\"plotly-graph-div\" style=\"height:1000px; width:1000px;\"></div>            <script type=\"text/javascript\">                require([\"plotly\"], function(Plotly) {                    window.PLOTLYENV=window.PLOTLYENV || {};                                    if (document.getElementById(\"0e7ffcf2-5737-40af-a02b-e1c3174bec1f\")) {                    Plotly.newPlot(                        \"0e7ffcf2-5737-40af-a02b-e1c3174bec1f\",                        [{\"hovertemplate\":\"category=kebab<br>total_companies=%{marker.size}<br>latitude=%{lat}<br>longitude=%{lon}<extra></extra>\",\"lat\":[56.8662,57.1437,56.5111,51.8662,52.1346,54.57,51.3863,51.4007,51.4563,51.6023,51.6093,51.5353,51.8058,51.8167,52.0656,52.1191,51.7105,52.1108,52.1969,52.2547,52.2676,52.3318,52.587,52.608,53.2377,53.277,53.4044,53.4333,55.9521,53.291,50.145,50.1983,50.4833,50.5423,54.7667,54.8636,54.9981,51.4335,51.4552,51.4611,51.5099,54.1182,54.1182,54.5623,54.6333,54.7075,53.1721,52.8901,52.9057,52.9228,53.0441,50.3706,50.3715,50.3879,50.3904,50.4782,50.7054,50.7068,50.9129,51.0667,50.5345,50.7167,50.7205,50.7374,50.7568,50.8058,50.8259,55.0933,55.857,56.461,54.5243,54.5554,54.5613,54.6516,54.7189,54.8057,55.9154,53.7495,53.7892,53.8011,50.845,50.8502,51.4764,51.522,51.543,51.5442,51.5565,51.6118,51.646,51.7059,51.7221,51.8063,51.9687,56.0167,56.1454,56.1715,53.2005,53.2551,55.8376,55.8651,55.8804,51.4528,51.8555,51.8657,51.8743,51.9,51.3359,51.3624,51.37,51.3799,51.3833,51.3915,51.3992,51.4032,51.4061,51.4225,51.4228,51.4307,51.4316,51.4376,51.4412,51.4449,51.4488,51.4519,51.4625,51.4692,51.4702,51.4779,51.4779,51.4831,51.4872,51.4927,51.4955,51.4979,51.4987,51.505,51.5085,51.509,51.5111,51.513,51.5138,51.525,51.5265,51.5278,51.5333,51.5333,51.5333,51.5362,51.5386,51.5461,51.5472,51.548,51.55,51.5508,51.5524,51.5529,51.5531,51.5576,51.5596,51.5602,51.5625,51.5734,51.574,51.5759,51.5825,51.5834,51.5843,51.5843,51.5864,51.594,51.5946,51.5989,51.6,51.6021,51.6037,51.6091,51.6143,51.6179,51.6303,51.6333,51.6445,51.65,53.4327,53.4482,53.449,53.45,53.475,53.4792,53.4809,53.4833,53.5056,53.5635,53.5833,53.6149,52.7404,53.1162,50.792,50.799,50.8183,50.8465,50.8807,50.9004,50.9146,50.927,50.9644,51.0651,51.2114,51.2625,51.3498,52.0188,52.0448,51.6553,51.6891,51.7537,51.7604,51.9022,51.9114,57.5977,53.244,50.7606,51.0746,51.0777,51.0833,51.1416,51.143,51.1613,51.2356,51.2501,51.2691,51.2946,51.3044,51.3413,51.3521,51.3613,51.3647,51.3783,51.3789,51.3887,51.3891,53.5529,53.6933,53.7582,53.7765,53.8,53.8119,53.8167,53.8247,53.8399,53.8752,52.5887,52.6076,52.6325,52.6386,52.7659,52.9516,53.1481,53.5677,53.6139,53.3653,53.3975,53.4106,53.4378,55.9326,51.8426,57.65,51.6118,51.708,51.5877,51.5888,52.5406,52.6196,52.6288,52.6388,52.9137,52.9244,55.7983,55.8435,53.9586,54.2353,52.25,52.2744,52.2868,52.306,52.364,52.4079,52.501,54.9092,52.9536,53.0833,53.15,53.2333,51.6344,51.7321,52.0632,51.6599,51.7327,51.6543,51.6645,55.3976,52.5383,52.6167,52.699,52.7167,51.0924,51.3237,51.389,51.4253,55.7511,55.7707,53.383,53.386,53.4826,53.497,53.5228,53.55,53.59,52.8052,52.9833,53.0155,53.0249,53.0448,53.1598,53.1833,52.0417,52.0592,52.3871,51.1742,51.2375,51.2521,51.2784,51.2891,51.3305,51.3714,51.4317,51.644,51.6642,51.6766,54.9456,54.9733,51.4103,52.3833,55.9244,55.8586,52.4414,52.4447,52.4636,52.4698,52.4783,52.4804,52.4814,52.4916,52.497,52.5,52.5,52.5047,52.5359,50.8222,50.8952,50.9346,51.113,51.1166,53.6798,53.7482,53.7667,53.7939,53.8128,53.8328,53.8408,51.558,51.5833,52.2277],\"legendgroup\":\"kebab\",\"lon\":[-2.668553846153844,-2.0981,-5.549710000000002,-0.42528,-0.4866,-5.890866666666667,-0.8464666666666667,-0.7635,-0.9711,-3.593133333333334,-3.6485,-0.6303600000000001,-0.806,-0.8146,-0.7591,-0.7084846153846154,-3.265,0.1341894736842105,0.1483272727272727,-0.0101058823529411,-0.2409666666666667,0.337,-0.2419333333333333,-0.2845105263157895,-2.583109090909091,-2.9363,-2.581033333333333,-2.6556,-3.1965,-3.45482,-5.109414285714286,-5.30309,-4.464809677419354,-4.319259999999999,-5.7809,-6.2199,-7.280900000000001,-2.55525,-2.5966,-2.65032,-2.635366666666666,-3.23425,-3.1934857142857145,-2.832716216216217,-3.50065,-3.4593900000000004,-3.163118181818182,-1.4422666666666668,-1.49505,-1.4766,-1.5227900000000003,-4.1642,-4.143,-4.1271,-3.5428000000000006,-3.5176,-3.529533333333333,-3.0872333333333333,-3.888042857142858,-3.978229999999999,-2.44228,-2.4333,-1.8795,-1.9198333333333333,-1.8194,-1.8945142857142852,-2.9581789473684204,-3.5466296296296296,-4.209,-2.9766,-1.5504,-1.5298166666666668,-1.3243,-1.7070933333333331,-1.4842055555555556,-1.6808263157894738,-4.3328,-0.2726,-0.4383666666666667,-0.3714,-0.179625,0.471,0.33135,0.5809,0.65005,0.6974,0.58128,0.0810333333333333,0.0538,0.0296666666666666,0.5871850000000001,1.168175,0.5882238095238096,-3.6167,-3.2858749999999994,-2.980331818181819,-3.03614,-3.1489,-4.2843,-4.2576,-4.3007,-2.5083,-2.503983333333333,-2.2431,-2.1239538461538463,-2.0833,-0.0778,-0.3054,0.02375,-0.2472,-0.060975,-0.2898,-0.2556,-0.163,0.0305,0.1107,-0.1242666666666666,-0.1647,-0.1027,0.05428,0.0983,-0.0185,-0.1971,0.1994,0.1075999999999999,-0.1619333333333333,-0.060325,-0.1276,-0.0118,0.1748,0.0740666666666666,-0.258,-0.21798,-0.0528,-0.0930384615384615,-0.2211,-0.1257,-0.3713,-0.0187647058823529,-0.2851888888888889,-0.0617727272727272,0.1936999999999999,-0.0986,0.0182666666666666,0.0,0.0493249999999999,0.0833,-0.0944,-0.055525,0.1389,0.026475,-0.0629,-0.1,0.0527999999999999,-0.1205142857142857,0.129,-0.3023,0.0728,-0.0077999999999999,0.1792,-0.074,-0.4234,-0.3539199999999999,0.0815,-0.1158333333333333,-0.33615,-0.073,0.0171666666666666,0.2027,-0.3307333333333333,0.2329,0.166,-0.1167,-0.2709,-0.0709399999999999,-0.0583,-0.2273,-0.1101,0.0005,-0.1833199999999999,-0.0465,-0.1943166666666666,-2.1997,-2.2257,-2.108233333333333,-2.3167,-2.0881,-2.2859,-2.2374,-2.3333,-2.2623,-2.378,-2.4333,-2.13084,-4.0451,-4.195053571428572,-1.06255,-1.0913,-1.0719,-1.060466666666667,-1.0532125,-1.3670749999999998,-1.3684,-1.394,-1.431825,-1.3140666666666665,-1.49775,-1.0871,-1.068563888888889,-2.796544736842104,-2.454971428571428,-0.396,-0.03535,-0.4895,-0.56985,-0.2026,-0.381975,-4.4583,-4.159966666666667,-1.3112333333333333,1.1448,1.0513,1.1757,0.8432,0.3219,1.289725,1.17362,0.5086,1.06835,0.5566833333333333,0.46184,0.738475,0.5337,0.6025,0.4654857142857143,1.435466666666667,0.5306,1.3956,0.55842,-2.7659875,-2.580388888888889,-2.7229,-2.838754285714286,-2.275,-3.0226,-3.05,-2.205525,-2.21094,-3.0295166666666664,-1.2739772727272725,-1.1167166666666668,-1.1869666666666667,-1.1317,-0.8869,-0.01025,-0.5819500000000002,-0.64505,-0.645736842105263,-2.9178,-2.9206,-2.9779,-2.9611,-3.2531,-3.0386236842105263,-3.6021297297297266,-3.7703,-3.694407142857144,-2.9984,-2.9638,1.371471794871795,1.721625,1.24368,1.2189,1.2442108108108108,1.31625,-3.9547499999999993,-3.925407692307692,-1.0827857142857142,-0.3853571428571428,-0.8833,-0.6674777777777777,-0.71175,-0.5993,-0.640025,-0.7116000000000001,-0.6336499999999999,-1.9295739130434777,-1.1505,-0.7852571428571429,-1.2676833333333333,-0.9511666666666666,-1.4307208333333332,-1.224375,-1.34125,-4.769346153846155,-3.48293125,-3.4913,-3.3537,-2.707571739130436,-2.476105714285714,-3.197694594594596,-2.774914285714286,-2.449375,-3.006471428571428,-2.9787,-2.8187,-2.7484,-4.1977,-4.045457142857143,-1.4659,-1.4084666666666668,-1.304275,-1.1821,-1.1312,-1.4773333333333334,-1.0260625,-2.1164,-2.1333,-2.253533333333333,-2.1739,-2.182716666666667,-2.148919230769231,-1.8236999999999992,1.1866,1.1555,0.77555,-0.1574111111111111,-0.1439625,-0.725625,-0.075875,-0.2318166666666666,-0.2701,-0.495375,-0.4576,-3.94848,-3.8862,-3.9147,-1.4440333333333333,-1.614,-3.37145,-1.5833000000000002,-4.409180000000001,-3.6690857142857136,-1.4998714285714283,-1.8229,-1.82275,-1.8523,-1.8506,-1.7883,-1.8998,-1.8596,-1.973,-2.119025,-2.0833,-1.8863,-1.9905,-0.5498,-0.2598499999999999,-0.1449399999999999,-0.2085,-0.1191333333333333,-1.5801,-1.3529,-1.5667,-1.7521,-1.7919,-1.7255,-1.8493,-1.7812,-1.85634,-2.1928],\"marker\":{\"color\":\"rgb(1, 184, 170)\",\"opacity\":0.5,\"size\":[1,4,1,1,2,1,1,2,3,1,1,1,1,1,1,2,3,1,2,1,1,1,1,1,1,1,1,1,1,2,1,1,1,1,2,1,1,3,2,1,1,1,1,1,1,1,1,2,2,3,1,1,4,3,1,2,2,1,1,1,1,1,2,1,1,1,1,1,1,1,2,2,1,1,2,1,1,1,1,1,1,1,1,3,1,3,2,1,1,2,1,1,1,1,1,1,1,1,2,2,1,2,1,1,1,1,1,1,2,1,9,1,1,2,6,1,1,4,1,3,2,1,1,1,2,2,1,1,1,4,2,1,1,1,4,1,2,1,2,1,2,1,1,1,1,2,1,1,2,1,2,2,1,1,8,1,2,6,1,1,1,1,1,1,1,3,3,3,1,1,1,1,8,1,1,1,1,11,1,1,2,1,1,1,1,1,1,1,1,2,1,1,2,1,1,1,1,1,1,1,1,2,2,1,1,1,1,1,1,1,1,1,1,3,1,1,1,1,1,1,1,1,2,5,1,5,1,1,2,3,1,1,1,1,1,1,2,6,2,1,1,2,1,1,1,1,2,1,1,1,1,1,1,1,3,1,1,1,1,1,2,1,3,1,1,1,1,1,1,1,1,2,1,1,1,3,1,1,1,1,2,3,1,1,1,4,1,2,1,2,1,1,3,4,1,1,1,1,1,1,1,1,3,1,2,1,1,1,1,2,1,1,1,3,1,1,1,1,1,2,1,1,2,1,5,1,1,2,2,1,1,1,2,1,1,1,1,1,2,1,1,2,1,1,1,2,2,1,1,3,1,7,1,1,2,1,1,1,1,1,2,1,1,1,2,2,2,1,1,1,1],\"sizemode\":\"area\",\"sizeref\":0.0325},\"mode\":\"markers\",\"name\":\"kebab\",\"showlegend\":true,\"subplot\":\"mapbox\",\"type\":\"scattermapbox\"},{\"hovertemplate\":\"category=sushi<br>total_companies=%{marker.size}<br>latitude=%{lat}<br>longitude=%{lon}<extra></extra>\",\"lat\":[57.1437,56.501,51.4121,51.4236,51.4396,51.4563,51.6242,51.6646,51.8952,52.0292,52.0486,52.0625,52.0656,52.191,52.1969,52.3325,52.3901,52.608,53.4333,55.9489,55.9521,55.971,56.1624,54.0811,51.4817,52.9228,53.3123,50.3706,50.7333,50.7401,50.7167,50.7205,50.747,50.7568,55.857,55.8651,54.6998,55.9154,50.7687,50.7927,50.845,50.8707,51.5378,51.5565,51.6118,51.6743,51.828,51.8892,51.9086,56.3769,55.8242,55.8651,55.8804,55.8906,51.6325,51.35,51.35,51.3624,51.3683,51.3833,51.3915,51.3982,51.3992,51.4061,51.4088,51.4126,51.4163,51.4171,51.4225,51.4333,51.4406,51.4412,51.4449,51.4454,51.4488,51.4567,51.4601,51.461,51.4625,51.4643,51.4659,51.4672,51.4684,51.4692,51.4702,51.4714,51.4752,51.4776,51.4779,51.4803,51.4842,51.4862,51.4869,51.4872,51.4911,51.4927,51.4963,51.4979,51.5011,51.5023,51.505,51.5075,51.5085,51.509,51.5103,51.5111,51.513,51.513,51.5138,51.5156,51.5156,51.523,51.5232,51.5237,51.5265,51.5278,51.5281,51.5287,51.5299,51.5307,51.5333,51.5333,51.5333,51.5362,51.5384,51.5386,51.542,51.5472,51.548,51.5486,51.55,51.5524,51.5531,51.5538,51.5576,51.5591,51.5602,51.5608,51.5625,51.5649,51.5693,51.5734,51.5758,51.5785,51.5825,51.5834,51.5843,51.5843,51.5864,51.5868,51.59,51.5923,51.5927,51.594,51.5946,51.6,51.6,51.6004,51.6021,51.6047,51.6077,51.6116,51.6133,51.6143,51.6179,51.6179,51.6303,51.6445,51.6493,53.4252,53.4442,53.4698,53.479,53.4809,53.5056,53.5167,53.5333,53.5833,50.799,50.911,51.2484,51.6432,51.6553,51.6572,51.7034,51.75,51.7768,51.8168,51.8203,51.9713,51.1386,51.143,51.2691,51.27,51.3789,51.3972,51.3973,51.4279,53.6833,53.7435,53.7582,53.786,53.9333,52.6076,52.6325,52.6667,52.9255,53.4106,53.4481,51.7125,55.8795,51.8426,51.5877,51.5888,52.6388,53.9167,53.9443,52.2136,52.2833,55.1091,52.8898,52.9298,52.9536,52.9648,52.9708,53.0833,51.7836,50.9832,51.2129,51.3572,51.3923,51.4061,55.7359,53.35,53.383,53.386,53.3931,53.5462,53.5634,52.3113,52.4176,51.2143,51.2336,51.2455,51.3305,51.3714,51.3722,51.376,51.3896,54.95,54.9646,54.974,55.0063,52.5028,52.5338,52.3942,52.4107,52.4383,52.4636,52.4814,52.5047,52.5333,52.584,50.7765,50.8367,50.9216,51.0047,53.6798,53.7029,53.7119,53.7167,53.7496,53.7835,53.7965,53.8201,53.829,51.558,51.5892],\"legendgroup\":\"sushi\",\"lon\":[-2.0981,-2.7054499999999995,-1.3243833333333332,-0.94632,-0.9292,-0.9711,-0.7453,-0.6173166666666667,-0.6581499999999998,-0.7279,-0.7877,-0.8166,-0.7591,0.1240214285714285,0.1483272727272727,-0.075,0.2001647058823529,-0.2845105263157895,-2.6556,-3.1632,-3.1965,-3.2709,-3.626088888888889,-6.121125,-2.5036,-1.4766,-1.3394,-4.1642,-3.5297000000000005,-3.467,-2.0,-1.8795,-1.9801,-1.8194,-4.209,-4.2576,-1.6177800000000002,-4.3328,0.2845,-0.0065,-0.179625,-0.1204166666666666,0.7143,0.58128,0.0810333333333333,0.1061333333333333,0.870775,0.9042,0.92045,-2.816311111111111,-4.2962,-4.2576,-4.3007,-4.2904,-2.3947055555555554,-0.1994,-0.1538333333333333,-0.3054,-0.1676,-0.060975,-0.2898,-0.1992,-0.2556,0.0305,-0.0253,-0.2974,-0.1973333333333333,0.0686,0.1107,-0.3985999999999999,0.1446,0.0983,-0.0185,-0.3297,-0.1971,-0.2306,-0.2963666666666666,-0.0352,0.1075999999999999,-0.0119,-0.1158,0.0175,-0.3609,-0.1619333333333333,-0.060325,-0.3682,-0.3425,-0.0322333333333333,-0.0118,-0.1993,0.0339,-0.3083,0.1075,0.0740666666666666,0.1514,-0.258,-0.1762833333333333,-0.0528,0.0441999999999999,0.1045,-0.2211,-0.205,-0.1257,-0.3713,-0.2657166666666666,-0.0187647058823529,-0.2851888888888889,-0.08,-0.0617727272727272,-0.1886454545454546,-0.18458,-0.2187999999999999,-0.0933,-0.0877,-0.0986,0.0182666666666666,-0.0265714285714285,-0.33285,-0.1471818181818182,-0.2431214285714285,0.0,0.0493249999999999,0.0833,-0.0944,-0.0414,-0.055525,-0.1931888888888888,0.026475,-0.0629,-0.3678,0.1667,-0.1205142857142857,-0.3023,-0.3102333333333333,0.0728,-0.0545166666666666,0.1792,-0.223325,-0.074,-0.1351,-0.1069,-0.4234,0.1299,-0.1980499999999999,-0.1158333333333333,-0.33615,-0.073,0.0171666666666666,-0.25692,-0.02048,-0.1531,0.0225,-0.3844249999999999,-0.3307333333333333,0.2329,-0.2166999999999999,-0.1167,-0.1943,-0.2709,0.02,-0.166,-0.4230333333333333,-0.1441,-0.2273,-0.13062,-0.1101,0.0005,-0.0465,-0.158,-2.3244,-2.1916,-2.2295,-2.1818,-2.2374,-2.2623,-2.3990666666666667,-2.2833,-2.4333,-1.0913,-1.392,-0.763,-0.3605,-0.396,-0.2835,-0.1830999999999999,-0.3333,-0.2842833333333334,-0.3571,-0.0074866666666666,-0.3279538461538461,0.8908125,0.3219,1.06835,0.178125,0.5306,0.1732,0.8514,0.3915125,-2.94928,-2.9898,-2.7229,-2.529357142857143,-2.381260000000001,-1.1167166666666668,-1.1869666666666667,-1.1087333333333331,-0.6468,-2.9779,-2.9155,-3.37198,-3.1579,-3.0386236842105263,-2.9984,-2.9638,1.2189,-1.5127545454545457,-1.7955571428571429,-0.87904,-0.90015,-1.53142,-1.19524,-1.11485,-1.1505,-1.2132,-1.081,-0.7852571428571429,-1.4854,-2.773357142857143,-2.659952380952381,-2.3910565217391304,-2.361469230769231,-2.5627,-3.8645625,-1.55,-1.4659,-1.4084666666666668,-1.5452,-1.4415666666666669,-1.229072727272727,0.577525,0.5987333333333333,-0.7973125,-0.59775,-0.5499999999999999,-0.2701,-0.495375,-0.453,-0.4111,-0.3393,-1.629725,-1.718925,-1.6447,-1.6339,-1.437366666666667,-1.7527166666666665,-1.4915333333333332,-1.8195,-1.7595666666666665,-1.82275,-1.8998,-1.8863,-1.8167,-1.85535,-0.7122250000000001,-0.77915,-0.8092642857142859,-0.0919333333333333,-1.5801,-1.6337,-1.4771,-1.85,-1.5494,-1.7851,-1.5478,-1.5704,-1.5383,-1.7812,-1.7194],\"marker\":{\"color\":\"rgb(242, 200, 15)\",\"opacity\":0.5,\"size\":[2,1,1,2,1,1,1,1,1,1,1,1,1,2,1,1,1,1,1,2,2,1,1,2,2,1,1,1,3,4,1,2,1,1,1,3,1,1,1,1,1,1,1,1,1,2,3,1,1,3,1,1,3,3,1,1,1,3,1,4,1,1,4,1,1,1,2,1,1,1,1,2,1,2,1,2,3,1,3,3,1,1,1,5,1,1,1,1,3,1,2,1,1,13,1,1,1,3,1,2,1,1,12,1,5,5,2,1,12,1,1,1,1,1,3,3,2,2,2,5,1,2,3,3,1,3,2,2,1,2,1,2,3,1,3,1,1,5,1,1,2,3,2,10,2,1,1,1,1,4,1,1,1,2,1,2,1,4,5,1,2,1,2,2,1,1,2,1,1,1,1,1,1,3,1,2,1,1,2,3,1,1,1,1,1,1,1,1,1,1,1,2,3,1,1,1,1,2,1,1,2,1,1,1,1,1,1,1,1,1,1,1,1,1,2,1,1,1,1,1,1,1,1,1,1,1,1,1,1,1,1,1,3,2,3,1,1,1,1,2,1,1,1,2,1,3,1,1,1,1,2,1,1,1,2,1,2,1,6,7,1,1,2,1,1,1,3,1,1,1,1,1,1,1,3,3,2,1],\"sizemode\":\"area\",\"sizeref\":0.0325},\"mode\":\"markers\",\"name\":\"sushi\",\"showlegend\":true,\"subplot\":\"mapbox\",\"type\":\"scattermapbox\"}],                        {\"height\":1000,\"legend\":{\"bgcolor\":\"rgba(0, 0, 0, 0)\",\"itemsizing\":\"constant\",\"orientation\":\"h\",\"title\":{\"text\":\"category\"},\"tracegroupgap\":0,\"x\":0.01,\"xanchor\":\"left\",\"y\":0.99,\"yanchor\":\"top\"},\"mapbox\":{\"accesstoken\":\"pk.eyJ1IjoiaHV0YW1pbmFkeWEiLCJhIjoiY2t3ZGdyZTl1MGwxdDJ1bjFiZTVxZGczZyJ9.HxWp7vWbhdOzNZqXIjlpPg\",\"center\":{\"lat\":54.963034182530635,\"lon\":-2.3158436956664996},\"domain\":{\"x\":[0.0,1.0],\"y\":[0.0,1.0]},\"zoom\":5},\"template\":{\"data\":{\"bar\":[{\"error_x\":{\"color\":\"#2a3f5f\"},\"error_y\":{\"color\":\"#2a3f5f\"},\"marker\":{\"line\":{\"color\":\"#E5ECF6\",\"width\":0.5},\"pattern\":{\"fillmode\":\"overlay\",\"size\":10,\"solidity\":0.2}},\"type\":\"bar\"}],\"barpolar\":[{\"marker\":{\"line\":{\"color\":\"#E5ECF6\",\"width\":0.5},\"pattern\":{\"fillmode\":\"overlay\",\"size\":10,\"solidity\":0.2}},\"type\":\"barpolar\"}],\"carpet\":[{\"aaxis\":{\"endlinecolor\":\"#2a3f5f\",\"gridcolor\":\"white\",\"linecolor\":\"white\",\"minorgridcolor\":\"white\",\"startlinecolor\":\"#2a3f5f\"},\"baxis\":{\"endlinecolor\":\"#2a3f5f\",\"gridcolor\":\"white\",\"linecolor\":\"white\",\"minorgridcolor\":\"white\",\"startlinecolor\":\"#2a3f5f\"},\"type\":\"carpet\"}],\"choropleth\":[{\"colorbar\":{\"outlinewidth\":0,\"ticks\":\"\"},\"type\":\"choropleth\"}],\"contour\":[{\"colorbar\":{\"outlinewidth\":0,\"ticks\":\"\"},\"colorscale\":[[0.0,\"#0d0887\"],[0.1111111111111111,\"#46039f\"],[0.2222222222222222,\"#7201a8\"],[0.3333333333333333,\"#9c179e\"],[0.4444444444444444,\"#bd3786\"],[0.5555555555555556,\"#d8576b\"],[0.6666666666666666,\"#ed7953\"],[0.7777777777777778,\"#fb9f3a\"],[0.8888888888888888,\"#fdca26\"],[1.0,\"#f0f921\"]],\"type\":\"contour\"}],\"contourcarpet\":[{\"colorbar\":{\"outlinewidth\":0,\"ticks\":\"\"},\"type\":\"contourcarpet\"}],\"heatmap\":[{\"colorbar\":{\"outlinewidth\":0,\"ticks\":\"\"},\"colorscale\":[[0.0,\"#0d0887\"],[0.1111111111111111,\"#46039f\"],[0.2222222222222222,\"#7201a8\"],[0.3333333333333333,\"#9c179e\"],[0.4444444444444444,\"#bd3786\"],[0.5555555555555556,\"#d8576b\"],[0.6666666666666666,\"#ed7953\"],[0.7777777777777778,\"#fb9f3a\"],[0.8888888888888888,\"#fdca26\"],[1.0,\"#f0f921\"]],\"type\":\"heatmap\"}],\"heatmapgl\":[{\"colorbar\":{\"outlinewidth\":0,\"ticks\":\"\"},\"colorscale\":[[0.0,\"#0d0887\"],[0.1111111111111111,\"#46039f\"],[0.2222222222222222,\"#7201a8\"],[0.3333333333333333,\"#9c179e\"],[0.4444444444444444,\"#bd3786\"],[0.5555555555555556,\"#d8576b\"],[0.6666666666666666,\"#ed7953\"],[0.7777777777777778,\"#fb9f3a\"],[0.8888888888888888,\"#fdca26\"],[1.0,\"#f0f921\"]],\"type\":\"heatmapgl\"}],\"histogram\":[{\"marker\":{\"pattern\":{\"fillmode\":\"overlay\",\"size\":10,\"solidity\":0.2}},\"type\":\"histogram\"}],\"histogram2d\":[{\"colorbar\":{\"outlinewidth\":0,\"ticks\":\"\"},\"colorscale\":[[0.0,\"#0d0887\"],[0.1111111111111111,\"#46039f\"],[0.2222222222222222,\"#7201a8\"],[0.3333333333333333,\"#9c179e\"],[0.4444444444444444,\"#bd3786\"],[0.5555555555555556,\"#d8576b\"],[0.6666666666666666,\"#ed7953\"],[0.7777777777777778,\"#fb9f3a\"],[0.8888888888888888,\"#fdca26\"],[1.0,\"#f0f921\"]],\"type\":\"histogram2d\"}],\"histogram2dcontour\":[{\"colorbar\":{\"outlinewidth\":0,\"ticks\":\"\"},\"colorscale\":[[0.0,\"#0d0887\"],[0.1111111111111111,\"#46039f\"],[0.2222222222222222,\"#7201a8\"],[0.3333333333333333,\"#9c179e\"],[0.4444444444444444,\"#bd3786\"],[0.5555555555555556,\"#d8576b\"],[0.6666666666666666,\"#ed7953\"],[0.7777777777777778,\"#fb9f3a\"],[0.8888888888888888,\"#fdca26\"],[1.0,\"#f0f921\"]],\"type\":\"histogram2dcontour\"}],\"mesh3d\":[{\"colorbar\":{\"outlinewidth\":0,\"ticks\":\"\"},\"type\":\"mesh3d\"}],\"parcoords\":[{\"line\":{\"colorbar\":{\"outlinewidth\":0,\"ticks\":\"\"}},\"type\":\"parcoords\"}],\"pie\":[{\"automargin\":true,\"type\":\"pie\"}],\"scatter\":[{\"marker\":{\"colorbar\":{\"outlinewidth\":0,\"ticks\":\"\"}},\"type\":\"scatter\"}],\"scatter3d\":[{\"line\":{\"colorbar\":{\"outlinewidth\":0,\"ticks\":\"\"}},\"marker\":{\"colorbar\":{\"outlinewidth\":0,\"ticks\":\"\"}},\"type\":\"scatter3d\"}],\"scattercarpet\":[{\"marker\":{\"colorbar\":{\"outlinewidth\":0,\"ticks\":\"\"}},\"type\":\"scattercarpet\"}],\"scattergeo\":[{\"marker\":{\"colorbar\":{\"outlinewidth\":0,\"ticks\":\"\"}},\"type\":\"scattergeo\"}],\"scattergl\":[{\"marker\":{\"colorbar\":{\"outlinewidth\":0,\"ticks\":\"\"}},\"type\":\"scattergl\"}],\"scattermapbox\":[{\"marker\":{\"colorbar\":{\"outlinewidth\":0,\"ticks\":\"\"}},\"type\":\"scattermapbox\"}],\"scatterpolar\":[{\"marker\":{\"colorbar\":{\"outlinewidth\":0,\"ticks\":\"\"}},\"type\":\"scatterpolar\"}],\"scatterpolargl\":[{\"marker\":{\"colorbar\":{\"outlinewidth\":0,\"ticks\":\"\"}},\"type\":\"scatterpolargl\"}],\"scatterternary\":[{\"marker\":{\"colorbar\":{\"outlinewidth\":0,\"ticks\":\"\"}},\"type\":\"scatterternary\"}],\"surface\":[{\"colorbar\":{\"outlinewidth\":0,\"ticks\":\"\"},\"colorscale\":[[0.0,\"#0d0887\"],[0.1111111111111111,\"#46039f\"],[0.2222222222222222,\"#7201a8\"],[0.3333333333333333,\"#9c179e\"],[0.4444444444444444,\"#bd3786\"],[0.5555555555555556,\"#d8576b\"],[0.6666666666666666,\"#ed7953\"],[0.7777777777777778,\"#fb9f3a\"],[0.8888888888888888,\"#fdca26\"],[1.0,\"#f0f921\"]],\"type\":\"surface\"}],\"table\":[{\"cells\":{\"fill\":{\"color\":\"#EBF0F8\"},\"line\":{\"color\":\"white\"}},\"header\":{\"fill\":{\"color\":\"#C8D4E3\"},\"line\":{\"color\":\"white\"}},\"type\":\"table\"}]},\"layout\":{\"annotationdefaults\":{\"arrowcolor\":\"#2a3f5f\",\"arrowhead\":0,\"arrowwidth\":1},\"autotypenumbers\":\"strict\",\"coloraxis\":{\"colorbar\":{\"outlinewidth\":0,\"ticks\":\"\"}},\"colorscale\":{\"diverging\":[[0,\"#8e0152\"],[0.1,\"#c51b7d\"],[0.2,\"#de77ae\"],[0.3,\"#f1b6da\"],[0.4,\"#fde0ef\"],[0.5,\"#f7f7f7\"],[0.6,\"#e6f5d0\"],[0.7,\"#b8e186\"],[0.8,\"#7fbc41\"],[0.9,\"#4d9221\"],[1,\"#276419\"]],\"sequential\":[[0.0,\"#0d0887\"],[0.1111111111111111,\"#46039f\"],[0.2222222222222222,\"#7201a8\"],[0.3333333333333333,\"#9c179e\"],[0.4444444444444444,\"#bd3786\"],[0.5555555555555556,\"#d8576b\"],[0.6666666666666666,\"#ed7953\"],[0.7777777777777778,\"#fb9f3a\"],[0.8888888888888888,\"#fdca26\"],[1.0,\"#f0f921\"]],\"sequentialminus\":[[0.0,\"#0d0887\"],[0.1111111111111111,\"#46039f\"],[0.2222222222222222,\"#7201a8\"],[0.3333333333333333,\"#9c179e\"],[0.4444444444444444,\"#bd3786\"],[0.5555555555555556,\"#d8576b\"],[0.6666666666666666,\"#ed7953\"],[0.7777777777777778,\"#fb9f3a\"],[0.8888888888888888,\"#fdca26\"],[1.0,\"#f0f921\"]]},\"colorway\":[\"#636efa\",\"#EF553B\",\"#00cc96\",\"#ab63fa\",\"#FFA15A\",\"#19d3f3\",\"#FF6692\",\"#B6E880\",\"#FF97FF\",\"#FECB52\"],\"font\":{\"color\":\"#2a3f5f\"},\"geo\":{\"bgcolor\":\"white\",\"lakecolor\":\"white\",\"landcolor\":\"#E5ECF6\",\"showlakes\":true,\"showland\":true,\"subunitcolor\":\"white\"},\"hoverlabel\":{\"align\":\"left\"},\"hovermode\":\"closest\",\"mapbox\":{\"style\":\"light\"},\"paper_bgcolor\":\"white\",\"plot_bgcolor\":\"#E5ECF6\",\"polar\":{\"angularaxis\":{\"gridcolor\":\"white\",\"linecolor\":\"white\",\"ticks\":\"\"},\"bgcolor\":\"#E5ECF6\",\"radialaxis\":{\"gridcolor\":\"white\",\"linecolor\":\"white\",\"ticks\":\"\"}},\"scene\":{\"xaxis\":{\"backgroundcolor\":\"#E5ECF6\",\"gridcolor\":\"white\",\"gridwidth\":2,\"linecolor\":\"white\",\"showbackground\":true,\"ticks\":\"\",\"zerolinecolor\":\"white\"},\"yaxis\":{\"backgroundcolor\":\"#E5ECF6\",\"gridcolor\":\"white\",\"gridwidth\":2,\"linecolor\":\"white\",\"showbackground\":true,\"ticks\":\"\",\"zerolinecolor\":\"white\"},\"zaxis\":{\"backgroundcolor\":\"#E5ECF6\",\"gridcolor\":\"white\",\"gridwidth\":2,\"linecolor\":\"white\",\"showbackground\":true,\"ticks\":\"\",\"zerolinecolor\":\"white\"}},\"shapedefaults\":{\"line\":{\"color\":\"#2a3f5f\"}},\"ternary\":{\"aaxis\":{\"gridcolor\":\"white\",\"linecolor\":\"white\",\"ticks\":\"\"},\"baxis\":{\"gridcolor\":\"white\",\"linecolor\":\"white\",\"ticks\":\"\"},\"bgcolor\":\"#E5ECF6\",\"caxis\":{\"gridcolor\":\"white\",\"linecolor\":\"white\",\"ticks\":\"\"}},\"title\":{\"x\":0.05},\"xaxis\":{\"automargin\":true,\"gridcolor\":\"white\",\"linecolor\":\"white\",\"ticks\":\"\",\"title\":{\"standoff\":15},\"zerolinecolor\":\"white\",\"zerolinewidth\":2},\"yaxis\":{\"automargin\":true,\"gridcolor\":\"white\",\"linecolor\":\"white\",\"ticks\":\"\",\"title\":{\"standoff\":15},\"zerolinecolor\":\"white\",\"zerolinewidth\":2}}},\"title\":{\"text\":\"<b>Fig 3. Total active restaurants in the UK - 2021\"},\"width\":1000},                        {\"responsive\": true}                    ).then(function(){\n",
       "                            \n",
       "var gd = document.getElementById('0e7ffcf2-5737-40af-a02b-e1c3174bec1f');\n",
       "var x = new MutationObserver(function (mutations, observer) {{\n",
       "        var display = window.getComputedStyle(gd).display;\n",
       "        if (!display || display === 'none') {{\n",
       "            console.log([gd, 'removed!']);\n",
       "            Plotly.purge(gd);\n",
       "            observer.disconnect();\n",
       "        }}\n",
       "}});\n",
       "\n",
       "// Listen for the removal of the full notebook cells\n",
       "var notebookContainer = gd.closest('#notebook-container');\n",
       "if (notebookContainer) {{\n",
       "    x.observe(notebookContainer, {childList: true});\n",
       "}}\n",
       "\n",
       "// Listen for the clearing of the current output cell\n",
       "var outputEl = gd.closest('.output');\n",
       "if (outputEl) {{\n",
       "    x.observe(outputEl, {childList: true});\n",
       "}}\n",
       "\n",
       "                        })                };                });            </script>        </div>"
      ]
     },
     "metadata": {},
     "output_type": "display_data"
    }
   ],
   "source": [
    "# Visualize active companies (2021)\n",
    "visualize_coordinates(active_company_2021_df, \"2021\", \"Fig 3.\").show()"
   ]
  },
  {
   "cell_type": "markdown",
   "id": "finite-vector",
   "metadata": {},
   "source": [
    "# Mini report"
   ]
  },
  {
   "cell_type": "code",
   "execution_count": 44,
   "id": "grave-heritage",
   "metadata": {},
   "outputs": [
    {
     "data": {
      "image/png": "[encoded data removed]",
      "text/plain": [
       "<IPython.core.display.Image object>"
      ]
     },
     "metadata": {
      "image/png": {
       "width": 900
      }
     },
     "output_type": "display_data"
    },
    {
     "data": {
      "image/jpeg": "[encoded data removed]",
      "text/plain": [
       "<IPython.core.display.Image object>"
      ]
     },
     "metadata": {},
     "output_type": "display_data"
    },
    {
     "data": {
      "image/jpeg": "[encoded data removed]",
      "text/plain": [
       "<IPython.core.display.Image object>"
      ]
     },
     "metadata": {},
     "output_type": "display_data"
    }
   ],
   "source": [
    "from IPython.display import display\n",
    "fig_1 = Image(active_company_fig.to_image(format=\"png\"), width=900)\n",
    "fig_2 = Image(visualize_coordinates(active_company_2015_df, \"2015\", \"Fig 2.\").to_image(format=\"jpg\"))\n",
    "fig_3 = Image(visualize_coordinates(active_company_2021_df, \"2021\", \"Fig 3.\").to_image(format=\"jpg\")) \n",
    "display(fig_1, fig_2, fig_3)"
   ]
  },
  {
   "cell_type": "markdown",
   "id": "interpreted-japanese",
   "metadata": {},
   "source": [
    "From anecdotal observation of the UK high street, kebab restaurants seem to be everywhere. To get a data-based understanding, we looked at how the number of kebab restaurants has grown from 2015-2021. To make sense of this data, we compare the growth curve with another trendy restaurant type – sushi houses. This comparison gives us an understanding of whether the increase in kebab restaurants was just a factor of industry forces (rising tide lifting all boats) or whether the “grab a kebab” was a stronger trend.\n",
    "\n",
    "Fig. 1 shows the number of active kebab and sushi restaurants by year. From the chart, we can see that **kebab restaurants have indeed grown at a faster clip than sushi restaurants** over the 2015-21 period. \n",
    "\n",
    "More interestingly, Fig. 2 and Fig. 3 shows the geographic dispersion of these two types of restaurants. In 2015, kebabs and sushi restaurants were centred around the high population cities (London, Manchester, etc.). However, in 2021, though the total number of active restaurants are not too different, **kebab restaurants are spread out more evenly across the UK, while sushi houses remain in the urban centres.**\n",
    "\n",
    "The results from this analysis show that while the number of kebab restaurants has experienced a slightly higher growth rate than sushi restaurants – they have also experienced a different “type” of growth, one that is more balanced and spread out to even the smaller towns in the UK.\n",
    "\n",
    "Notes:\n",
    "- Companies were labeled as “kebab restaurant” if “kebab” was in their company name and if their SIC industry code was for a food establishment. Same applies for “sushi restaurants”.\n",
    "- Due to limitations of the API, we were only able to get a maximum of 1000 companies for each of our searches. Due to the assumed unordered nature of the search results, we take the results to be mostly random ordering, and not significantly biased on a particular factor.)\n"
   ]
  }
 ],
 "metadata": {
  "kernelspec": {
   "display_name": "Python 3",
   "language": "python",
   "name": "python3"
  },
  "language_info": {
   "codemirror_mode": {
    "name": "ipython",
    "version": 3
   },
   "file_extension": ".py",
   "mimetype": "text/x-python",
   "name": "python",
   "nbconvert_exporter": "python",
   "pygments_lexer": "ipython3",
   "version": "3.8.8"
  }
 },
 "nbformat": 4,
 "nbformat_minor": 5
}
